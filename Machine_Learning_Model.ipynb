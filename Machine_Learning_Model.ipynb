{
  "cells": [
    {
      "cell_type": "code",
      "execution_count": null,
      "metadata": {
        "colab": {
          "base_uri": "https://localhost:8080/",
          "height": 329
        },
        "id": "tLck2mlixwPk",
        "outputId": "b23f2d2c-30ca-4573-f225-76f829c966f6"
      },
      "outputs": [
        {
          "output_type": "error",
          "ename": "MessageError",
          "evalue": "ignored",
          "traceback": [
            "\u001b[0;31m---------------------------------------------------------------------------\u001b[0m",
            "\u001b[0;31mMessageError\u001b[0m                              Traceback (most recent call last)",
            "\u001b[0;32m<ipython-input-1-d5df0069828e>\u001b[0m in \u001b[0;36m<cell line: 2>\u001b[0;34m()\u001b[0m\n\u001b[1;32m      1\u001b[0m \u001b[0;32mfrom\u001b[0m \u001b[0mgoogle\u001b[0m\u001b[0;34m.\u001b[0m\u001b[0mcolab\u001b[0m \u001b[0;32mimport\u001b[0m \u001b[0mdrive\u001b[0m\u001b[0;34m\u001b[0m\u001b[0;34m\u001b[0m\u001b[0m\n\u001b[0;32m----> 2\u001b[0;31m \u001b[0mdrive\u001b[0m\u001b[0;34m.\u001b[0m\u001b[0mmount\u001b[0m\u001b[0;34m(\u001b[0m\u001b[0;34m'/content/drive'\u001b[0m\u001b[0;34m)\u001b[0m\u001b[0;34m\u001b[0m\u001b[0;34m\u001b[0m\u001b[0m\n\u001b[0m",
            "\u001b[0;32m/usr/local/lib/python3.10/dist-packages/google/colab/drive.py\u001b[0m in \u001b[0;36mmount\u001b[0;34m(mountpoint, force_remount, timeout_ms, readonly)\u001b[0m\n\u001b[1;32m    101\u001b[0m \u001b[0;32mdef\u001b[0m \u001b[0mmount\u001b[0m\u001b[0;34m(\u001b[0m\u001b[0mmountpoint\u001b[0m\u001b[0;34m,\u001b[0m \u001b[0mforce_remount\u001b[0m\u001b[0;34m=\u001b[0m\u001b[0;32mFalse\u001b[0m\u001b[0;34m,\u001b[0m \u001b[0mtimeout_ms\u001b[0m\u001b[0;34m=\u001b[0m\u001b[0;36m120000\u001b[0m\u001b[0;34m,\u001b[0m \u001b[0mreadonly\u001b[0m\u001b[0;34m=\u001b[0m\u001b[0;32mFalse\u001b[0m\u001b[0;34m)\u001b[0m\u001b[0;34m:\u001b[0m\u001b[0;34m\u001b[0m\u001b[0;34m\u001b[0m\u001b[0m\n\u001b[1;32m    102\u001b[0m   \u001b[0;34m\"\"\"Mount your Google Drive at the specified mountpoint path.\"\"\"\u001b[0m\u001b[0;34m\u001b[0m\u001b[0;34m\u001b[0m\u001b[0m\n\u001b[0;32m--> 103\u001b[0;31m   return _mount(\n\u001b[0m\u001b[1;32m    104\u001b[0m       \u001b[0mmountpoint\u001b[0m\u001b[0;34m,\u001b[0m\u001b[0;34m\u001b[0m\u001b[0;34m\u001b[0m\u001b[0m\n\u001b[1;32m    105\u001b[0m       \u001b[0mforce_remount\u001b[0m\u001b[0;34m=\u001b[0m\u001b[0mforce_remount\u001b[0m\u001b[0;34m,\u001b[0m\u001b[0;34m\u001b[0m\u001b[0;34m\u001b[0m\u001b[0m\n",
            "\u001b[0;32m/usr/local/lib/python3.10/dist-packages/google/colab/drive.py\u001b[0m in \u001b[0;36m_mount\u001b[0;34m(mountpoint, force_remount, timeout_ms, ephemeral, readonly)\u001b[0m\n\u001b[1;32m    130\u001b[0m   )\n\u001b[1;32m    131\u001b[0m   \u001b[0;32mif\u001b[0m \u001b[0mephemeral\u001b[0m\u001b[0;34m:\u001b[0m\u001b[0;34m\u001b[0m\u001b[0;34m\u001b[0m\u001b[0m\n\u001b[0;32m--> 132\u001b[0;31m     _message.blocking_request(\n\u001b[0m\u001b[1;32m    133\u001b[0m         \u001b[0;34m'request_auth'\u001b[0m\u001b[0;34m,\u001b[0m \u001b[0mrequest\u001b[0m\u001b[0;34m=\u001b[0m\u001b[0;34m{\u001b[0m\u001b[0;34m'authType'\u001b[0m\u001b[0;34m:\u001b[0m \u001b[0;34m'dfs_ephemeral'\u001b[0m\u001b[0;34m}\u001b[0m\u001b[0;34m,\u001b[0m \u001b[0mtimeout_sec\u001b[0m\u001b[0;34m=\u001b[0m\u001b[0;32mNone\u001b[0m\u001b[0;34m\u001b[0m\u001b[0;34m\u001b[0m\u001b[0m\n\u001b[1;32m    134\u001b[0m     )\n",
            "\u001b[0;32m/usr/local/lib/python3.10/dist-packages/google/colab/_message.py\u001b[0m in \u001b[0;36mblocking_request\u001b[0;34m(request_type, request, timeout_sec, parent)\u001b[0m\n\u001b[1;32m    174\u001b[0m       \u001b[0mrequest_type\u001b[0m\u001b[0;34m,\u001b[0m \u001b[0mrequest\u001b[0m\u001b[0;34m,\u001b[0m \u001b[0mparent\u001b[0m\u001b[0;34m=\u001b[0m\u001b[0mparent\u001b[0m\u001b[0;34m,\u001b[0m \u001b[0mexpect_reply\u001b[0m\u001b[0;34m=\u001b[0m\u001b[0;32mTrue\u001b[0m\u001b[0;34m\u001b[0m\u001b[0;34m\u001b[0m\u001b[0m\n\u001b[1;32m    175\u001b[0m   )\n\u001b[0;32m--> 176\u001b[0;31m   \u001b[0;32mreturn\u001b[0m \u001b[0mread_reply_from_input\u001b[0m\u001b[0;34m(\u001b[0m\u001b[0mrequest_id\u001b[0m\u001b[0;34m,\u001b[0m \u001b[0mtimeout_sec\u001b[0m\u001b[0;34m)\u001b[0m\u001b[0;34m\u001b[0m\u001b[0;34m\u001b[0m\u001b[0m\n\u001b[0m",
            "\u001b[0;32m/usr/local/lib/python3.10/dist-packages/google/colab/_message.py\u001b[0m in \u001b[0;36mread_reply_from_input\u001b[0;34m(message_id, timeout_sec)\u001b[0m\n\u001b[1;32m    101\u001b[0m     ):\n\u001b[1;32m    102\u001b[0m       \u001b[0;32mif\u001b[0m \u001b[0;34m'error'\u001b[0m \u001b[0;32min\u001b[0m \u001b[0mreply\u001b[0m\u001b[0;34m:\u001b[0m\u001b[0;34m\u001b[0m\u001b[0;34m\u001b[0m\u001b[0m\n\u001b[0;32m--> 103\u001b[0;31m         \u001b[0;32mraise\u001b[0m \u001b[0mMessageError\u001b[0m\u001b[0;34m(\u001b[0m\u001b[0mreply\u001b[0m\u001b[0;34m[\u001b[0m\u001b[0;34m'error'\u001b[0m\u001b[0;34m]\u001b[0m\u001b[0;34m)\u001b[0m\u001b[0;34m\u001b[0m\u001b[0;34m\u001b[0m\u001b[0m\n\u001b[0m\u001b[1;32m    104\u001b[0m       \u001b[0;32mreturn\u001b[0m \u001b[0mreply\u001b[0m\u001b[0;34m.\u001b[0m\u001b[0mget\u001b[0m\u001b[0;34m(\u001b[0m\u001b[0;34m'data'\u001b[0m\u001b[0;34m,\u001b[0m \u001b[0;32mNone\u001b[0m\u001b[0;34m)\u001b[0m\u001b[0;34m\u001b[0m\u001b[0;34m\u001b[0m\u001b[0m\n\u001b[1;32m    105\u001b[0m \u001b[0;34m\u001b[0m\u001b[0m\n",
            "\u001b[0;31mMessageError\u001b[0m: Error: credential propagation was unsuccessful"
          ]
        }
      ],
      "source": [
        "from google.colab import drive\n",
        "drive.mount('/content/drive')"
      ]
    },
    {
      "cell_type": "code",
      "execution_count": null,
      "metadata": {
        "id": "QhVf_4NGaJWE"
      },
      "outputs": [],
      "source": [
        "import pandas as pd\n",
        "import numpy as np\n",
        "import seaborn as sns\n",
        "import matplotlib.pyplot as plt\n",
        "from datetime import datetime, timedelta"
      ]
    },
    {
      "cell_type": "code",
      "execution_count": null,
      "metadata": {
        "id": "XBIgctAfaMEo"
      },
      "outputs": [],
      "source": [
        "transaction = pd.read_csv('/content/drive/MyDrive/Venezuela DS Team/transaction_venezuela.csv')\n",
        "clickstream = pd.read_csv('/content/drive/MyDrive/Venezuela DS Team/clickstream_venezuela.csv')\n",
        "customer = pd.read_csv('/content/drive/MyDrive/Venezuela DS Team/customer_venezuela.csv')"
      ]
    },
    {
      "cell_type": "code",
      "execution_count": null,
      "metadata": {
        "colab": {
          "base_uri": "https://localhost:8080/",
          "height": 206
        },
        "id": "oIeNNyKybBWy",
        "outputId": "371e52a6-a2a6-4836-8f5a-ad72754fb714"
      },
      "outputs": [
        {
          "output_type": "execute_result",
          "data": {
            "text/plain": [
              "   Unnamed: 0  customer_id  gender  device_type  age  lengthjoin_months  \\\n",
              "0           0         2870       0            1   26                 40   \n",
              "1           1         8193       0            0   29                 65   \n",
              "2           2         7279       1            1   33                 27   \n",
              "3           3        88813       1            1   31                 13   \n",
              "4           4        82542       1            1   22                 19   \n",
              "\n",
              "   homelocation_category  cust_age_category  membership  \n",
              "0                      1                  1           0  \n",
              "1                      0                  1           0  \n",
              "2                      1                  0           1  \n",
              "3                      1                  0           2  \n",
              "4                      0                  2           2  "
            ],
            "text/html": [
              "\n",
              "  <div id=\"df-7d5da9f6-cea6-4107-a2c6-16c9455d8ede\">\n",
              "    <div class=\"colab-df-container\">\n",
              "      <div>\n",
              "<style scoped>\n",
              "    .dataframe tbody tr th:only-of-type {\n",
              "        vertical-align: middle;\n",
              "    }\n",
              "\n",
              "    .dataframe tbody tr th {\n",
              "        vertical-align: top;\n",
              "    }\n",
              "\n",
              "    .dataframe thead th {\n",
              "        text-align: right;\n",
              "    }\n",
              "</style>\n",
              "<table border=\"1\" class=\"dataframe\">\n",
              "  <thead>\n",
              "    <tr style=\"text-align: right;\">\n",
              "      <th></th>\n",
              "      <th>Unnamed: 0</th>\n",
              "      <th>customer_id</th>\n",
              "      <th>gender</th>\n",
              "      <th>device_type</th>\n",
              "      <th>age</th>\n",
              "      <th>lengthjoin_months</th>\n",
              "      <th>homelocation_category</th>\n",
              "      <th>cust_age_category</th>\n",
              "      <th>membership</th>\n",
              "    </tr>\n",
              "  </thead>\n",
              "  <tbody>\n",
              "    <tr>\n",
              "      <th>0</th>\n",
              "      <td>0</td>\n",
              "      <td>2870</td>\n",
              "      <td>0</td>\n",
              "      <td>1</td>\n",
              "      <td>26</td>\n",
              "      <td>40</td>\n",
              "      <td>1</td>\n",
              "      <td>1</td>\n",
              "      <td>0</td>\n",
              "    </tr>\n",
              "    <tr>\n",
              "      <th>1</th>\n",
              "      <td>1</td>\n",
              "      <td>8193</td>\n",
              "      <td>0</td>\n",
              "      <td>0</td>\n",
              "      <td>29</td>\n",
              "      <td>65</td>\n",
              "      <td>0</td>\n",
              "      <td>1</td>\n",
              "      <td>0</td>\n",
              "    </tr>\n",
              "    <tr>\n",
              "      <th>2</th>\n",
              "      <td>2</td>\n",
              "      <td>7279</td>\n",
              "      <td>1</td>\n",
              "      <td>1</td>\n",
              "      <td>33</td>\n",
              "      <td>27</td>\n",
              "      <td>1</td>\n",
              "      <td>0</td>\n",
              "      <td>1</td>\n",
              "    </tr>\n",
              "    <tr>\n",
              "      <th>3</th>\n",
              "      <td>3</td>\n",
              "      <td>88813</td>\n",
              "      <td>1</td>\n",
              "      <td>1</td>\n",
              "      <td>31</td>\n",
              "      <td>13</td>\n",
              "      <td>1</td>\n",
              "      <td>0</td>\n",
              "      <td>2</td>\n",
              "    </tr>\n",
              "    <tr>\n",
              "      <th>4</th>\n",
              "      <td>4</td>\n",
              "      <td>82542</td>\n",
              "      <td>1</td>\n",
              "      <td>1</td>\n",
              "      <td>22</td>\n",
              "      <td>19</td>\n",
              "      <td>0</td>\n",
              "      <td>2</td>\n",
              "      <td>2</td>\n",
              "    </tr>\n",
              "  </tbody>\n",
              "</table>\n",
              "</div>\n",
              "      <button class=\"colab-df-convert\" onclick=\"convertToInteractive('df-7d5da9f6-cea6-4107-a2c6-16c9455d8ede')\"\n",
              "              title=\"Convert this dataframe to an interactive table.\"\n",
              "              style=\"display:none;\">\n",
              "        \n",
              "  <svg xmlns=\"http://www.w3.org/2000/svg\" height=\"24px\"viewBox=\"0 0 24 24\"\n",
              "       width=\"24px\">\n",
              "    <path d=\"M0 0h24v24H0V0z\" fill=\"none\"/>\n",
              "    <path d=\"M18.56 5.44l.94 2.06.94-2.06 2.06-.94-2.06-.94-.94-2.06-.94 2.06-2.06.94zm-11 1L8.5 8.5l.94-2.06 2.06-.94-2.06-.94L8.5 2.5l-.94 2.06-2.06.94zm10 10l.94 2.06.94-2.06 2.06-.94-2.06-.94-.94-2.06-.94 2.06-2.06.94z\"/><path d=\"M17.41 7.96l-1.37-1.37c-.4-.4-.92-.59-1.43-.59-.52 0-1.04.2-1.43.59L10.3 9.45l-7.72 7.72c-.78.78-.78 2.05 0 2.83L4 21.41c.39.39.9.59 1.41.59.51 0 1.02-.2 1.41-.59l7.78-7.78 2.81-2.81c.8-.78.8-2.07 0-2.86zM5.41 20L4 18.59l7.72-7.72 1.47 1.35L5.41 20z\"/>\n",
              "  </svg>\n",
              "      </button>\n",
              "      \n",
              "  <style>\n",
              "    .colab-df-container {\n",
              "      display:flex;\n",
              "      flex-wrap:wrap;\n",
              "      gap: 12px;\n",
              "    }\n",
              "\n",
              "    .colab-df-convert {\n",
              "      background-color: #E8F0FE;\n",
              "      border: none;\n",
              "      border-radius: 50%;\n",
              "      cursor: pointer;\n",
              "      display: none;\n",
              "      fill: #1967D2;\n",
              "      height: 32px;\n",
              "      padding: 0 0 0 0;\n",
              "      width: 32px;\n",
              "    }\n",
              "\n",
              "    .colab-df-convert:hover {\n",
              "      background-color: #E2EBFA;\n",
              "      box-shadow: 0px 1px 2px rgba(60, 64, 67, 0.3), 0px 1px 3px 1px rgba(60, 64, 67, 0.15);\n",
              "      fill: #174EA6;\n",
              "    }\n",
              "\n",
              "    [theme=dark] .colab-df-convert {\n",
              "      background-color: #3B4455;\n",
              "      fill: #D2E3FC;\n",
              "    }\n",
              "\n",
              "    [theme=dark] .colab-df-convert:hover {\n",
              "      background-color: #434B5C;\n",
              "      box-shadow: 0px 1px 3px 1px rgba(0, 0, 0, 0.15);\n",
              "      filter: drop-shadow(0px 1px 2px rgba(0, 0, 0, 0.3));\n",
              "      fill: #FFFFFF;\n",
              "    }\n",
              "  </style>\n",
              "\n",
              "      <script>\n",
              "        const buttonEl =\n",
              "          document.querySelector('#df-7d5da9f6-cea6-4107-a2c6-16c9455d8ede button.colab-df-convert');\n",
              "        buttonEl.style.display =\n",
              "          google.colab.kernel.accessAllowed ? 'block' : 'none';\n",
              "\n",
              "        async function convertToInteractive(key) {\n",
              "          const element = document.querySelector('#df-7d5da9f6-cea6-4107-a2c6-16c9455d8ede');\n",
              "          const dataTable =\n",
              "            await google.colab.kernel.invokeFunction('convertToInteractive',\n",
              "                                                     [key], {});\n",
              "          if (!dataTable) return;\n",
              "\n",
              "          const docLinkHtml = 'Like what you see? Visit the ' +\n",
              "            '<a target=\"_blank\" href=https://colab.research.google.com/notebooks/data_table.ipynb>data table notebook</a>'\n",
              "            + ' to learn more about interactive tables.';\n",
              "          element.innerHTML = '';\n",
              "          dataTable['output_type'] = 'display_data';\n",
              "          await google.colab.output.renderOutput(dataTable, element);\n",
              "          const docLink = document.createElement('div');\n",
              "          docLink.innerHTML = docLinkHtml;\n",
              "          element.appendChild(docLink);\n",
              "        }\n",
              "      </script>\n",
              "    </div>\n",
              "  </div>\n",
              "  "
            ]
          },
          "metadata": {},
          "execution_count": 4
        }
      ],
      "source": [
        "customer.head()"
      ]
    },
    {
      "cell_type": "code",
      "execution_count": null,
      "metadata": {
        "id": "UrsXRYcyancD"
      },
      "outputs": [],
      "source": [
        "transaction = transaction.drop(columns = 'Unnamed: 0')\n",
        "clickstream = clickstream.drop(columns = 'Unnamed: 0')\n",
        "customer = customer.drop(columns = 'Unnamed: 0')"
      ]
    },
    {
      "cell_type": "code",
      "execution_count": null,
      "metadata": {
        "colab": {
          "base_uri": "https://localhost:8080/"
        },
        "id": "F25Bl9jwbZX8",
        "outputId": "1ea46d35-b26e-4b8a-d30b-01d183590d76"
      },
      "outputs": [
        {
          "output_type": "stream",
          "name": "stdout",
          "text": [
            "<class 'pandas.core.frame.DataFrame'>\n",
            "RangeIndex: 1254585 entries, 0 to 1254584\n",
            "Data columns (total 21 columns):\n",
            " #   Column                  Non-Null Count    Dtype  \n",
            "---  ------                  --------------    -----  \n",
            " 0   index                   1254585 non-null  int64  \n",
            " 1   created_at              1254585 non-null  object \n",
            " 2   customer_id             1254585 non-null  int64  \n",
            " 3   session_id              1254585 non-null  object \n",
            " 4   payment_method          1254585 non-null  int64  \n",
            " 5   payment_status          1254585 non-null  int64  \n",
            " 6   promo_amount            1254585 non-null  int64  \n",
            " 7   promo_code              1254585 non-null  int64  \n",
            " 8   shipment_fee            1254585 non-null  int64  \n",
            " 9   shipment_date_limit     1254585 non-null  object \n",
            " 10  total_amount            1254585 non-null  int64  \n",
            " 11  product_id              1254585 non-null  int64  \n",
            " 12  quantity                1254585 non-null  int64  \n",
            " 13  item_price              1254585 non-null  int64  \n",
            " 14  gender                  1244249 non-null  float64\n",
            " 15  master_category         1244249 non-null  float64\n",
            " 16  season                  1244249 non-null  float64\n",
            " 17  product_name_length     1244249 non-null  float64\n",
            " 18  category_byquantity     1254585 non-null  int64  \n",
            " 19  category_byitem         1254585 non-null  int64  \n",
            " 20  estimated_days_arrival  1254585 non-null  int64  \n",
            "dtypes: float64(4), int64(14), object(3)\n",
            "memory usage: 201.0+ MB\n"
          ]
        }
      ],
      "source": [
        "transaction.info()"
      ]
    },
    {
      "cell_type": "code",
      "execution_count": null,
      "metadata": {
        "id": "ko3xUOH2skog"
      },
      "outputs": [],
      "source": [
        "transaction = transaction.groupby(['session_id', 'customer_id']).agg({'created_at':'first',\n",
        "                                                                      'estimated_days_arrival':'first',\n",
        "                                                                      'payment_method':'first',\n",
        "                                                                      'payment_status':'first',\n",
        "                                                                      'promo_amount':'first',\n",
        "                                                                      'shipment_fee':'first',\n",
        "                                                                      'shipment_date_limit':'first',\n",
        "                                                                      'total_amount':'first',\n",
        "                                                                      'product_id':'count',\n",
        "                                                                      'quantity':'sum',\n",
        "                                                                      'item_price':'mean',\n",
        "                                                                      'gender':pd.Series.nunique,\n",
        "                                                                      'master_category':pd.Series.nunique,\n",
        "                                                                      'season':pd.Series.nunique,\n",
        "                                                                      'product_name_length':'mean',\n",
        "                                                                      })"
      ]
    },
    {
      "cell_type": "code",
      "execution_count": null,
      "metadata": {
        "id": "V6nDK8YPHrKZ"
      },
      "outputs": [],
      "source": [
        "transaction = transaction.reset_index()"
      ]
    },
    {
      "cell_type": "code",
      "execution_count": null,
      "metadata": {
        "colab": {
          "base_uri": "https://localhost:8080/"
        },
        "id": "_VE68EZRxnLM",
        "outputId": "f77842dc-c7f2-4671-9bd2-e500896db15d"
      },
      "outputs": [
        {
          "output_type": "execute_result",
          "data": {
            "text/plain": [
              "session_id                   0\n",
              "customer_id                  0\n",
              "created_at                   0\n",
              "estimated_days_arrival       0\n",
              "payment_method               0\n",
              "payment_status               0\n",
              "promo_amount                 0\n",
              "shipment_fee                 0\n",
              "shipment_date_limit          0\n",
              "total_amount                 0\n",
              "product_id                   0\n",
              "quantity                     0\n",
              "item_price                   0\n",
              "gender                       0\n",
              "master_category              0\n",
              "season                       0\n",
              "product_name_length       5815\n",
              "dtype: int64"
            ]
          },
          "metadata": {},
          "execution_count": 9
        }
      ],
      "source": [
        "transaction.isna().sum()"
      ]
    },
    {
      "cell_type": "code",
      "execution_count": null,
      "metadata": {
        "id": "KNK_sSlsca0t"
      },
      "outputs": [],
      "source": [
        "df = pd.merge(transaction, clickstream, how = 'inner', on = 'session_id')\n",
        "df = pd.merge(df, customer, how = 'left', on = 'customer_id')"
      ]
    },
    {
      "cell_type": "code",
      "execution_count": null,
      "metadata": {
        "id": "Yd6j1QcXdKGz"
      },
      "outputs": [],
      "source": [
        "df = df.rename(columns = {'gender_y':'gender_customer', 'gender_x':'gender_product'})"
      ]
    },
    {
      "cell_type": "code",
      "execution_count": null,
      "metadata": {
        "id": "Og5qaoNaotZm"
      },
      "outputs": [],
      "source": [
        "df = df.dropna()"
      ]
    },
    {
      "cell_type": "code",
      "execution_count": null,
      "metadata": {
        "id": "ISALA-a6o-qI"
      },
      "outputs": [],
      "source": [
        "df = df.rename(columns = {'payment_status_x':'payment_status'})"
      ]
    },
    {
      "cell_type": "code",
      "execution_count": null,
      "metadata": {
        "id": "O6uI64wZdlmr"
      },
      "outputs": [],
      "source": [
        "df = df.drop(columns = ['payment_status_y', 'is_not_purchase', 'is_purchase', 'is_purchase_failed'])"
      ]
    },
    {
      "cell_type": "code",
      "execution_count": null,
      "metadata": {
        "id": "dzTrkoondsSx"
      },
      "outputs": [],
      "source": [
        "df = df.drop(index = df[df['session_length'] == 0].index)"
      ]
    },
    {
      "cell_type": "code",
      "execution_count": null,
      "metadata": {
        "id": "jxeC7Be8smGZ"
      },
      "outputs": [],
      "source": [
        "df['created_at'] = pd.to_datetime(df['created_at'])"
      ]
    },
    {
      "cell_type": "code",
      "execution_count": null,
      "metadata": {
        "colab": {
          "base_uri": "https://localhost:8080/"
        },
        "id": "tx6S8hTjsDBI",
        "outputId": "10bf2667-2a91-4c69-9202-9155a71cac2e"
      },
      "outputs": [
        {
          "output_type": "stream",
          "name": "stdout",
          "text": [
            "<class 'pandas.core.frame.DataFrame'>\n",
            "Int64Index: 846523 entries, 0 to 852581\n",
            "Data columns (total 29 columns):\n",
            " #   Column                  Non-Null Count   Dtype              \n",
            "---  ------                  --------------   -----              \n",
            " 0   session_id              846523 non-null  object             \n",
            " 1   customer_id             846523 non-null  int64              \n",
            " 2   created_at              846523 non-null  datetime64[ns, UTC]\n",
            " 3   estimated_days_arrival  846523 non-null  int64              \n",
            " 4   payment_method          846523 non-null  int64              \n",
            " 5   payment_status          846523 non-null  int64              \n",
            " 6   promo_amount            846523 non-null  int64              \n",
            " 7   shipment_fee            846523 non-null  int64              \n",
            " 8   shipment_date_limit     846523 non-null  object             \n",
            " 9   total_amount            846523 non-null  int64              \n",
            " 10  product_id              846523 non-null  int64              \n",
            " 11  quantity                846523 non-null  int64              \n",
            " 12  item_price              846523 non-null  float64            \n",
            " 13  gender_product          846523 non-null  int64              \n",
            " 14  master_category         846523 non-null  int64              \n",
            " 15  season                  846523 non-null  int64              \n",
            " 16  product_name_length     846523 non-null  float64            \n",
            " 17  traffic_source          846523 non-null  int64              \n",
            " 18  event_id                846523 non-null  int64              \n",
            " 19  search_keywords_count   846523 non-null  float64            \n",
            " 20  session_length          846523 non-null  int64              \n",
            " 21  is_search               846523 non-null  int64              \n",
            " 22  gender_customer         846523 non-null  int64              \n",
            " 23  device_type             846523 non-null  int64              \n",
            " 24  age                     846523 non-null  int64              \n",
            " 25  lengthjoin_months       846523 non-null  int64              \n",
            " 26  homelocation_category   846523 non-null  int64              \n",
            " 27  cust_age_category       846523 non-null  int64              \n",
            " 28  membership              846523 non-null  int64              \n",
            "dtypes: datetime64[ns, UTC](1), float64(3), int64(23), object(2)\n",
            "memory usage: 193.8+ MB\n"
          ]
        }
      ],
      "source": [
        "df.info()"
      ]
    },
    {
      "cell_type": "code",
      "execution_count": null,
      "metadata": {
        "colab": {
          "base_uri": "https://localhost:8080/",
          "height": 560
        },
        "id": "ZLdzJUCm2G7Y",
        "outputId": "cae23d7b-8c2a-459f-fa74-c9604dbe4269"
      },
      "outputs": [
        {
          "output_type": "execute_result",
          "data": {
            "text/plain": [
              "                             session_id  customer_id  \\\n",
              "0  00001f29-3ede-4445-95f0-0178934e32ba        74433   \n",
              "1  00003eca-954b-4150-aee1-63fc62f395cf        43805   \n",
              "3  00005746-17ec-449c-9c5c-699a3ea9304a        25255   \n",
              "4  0000649b-9514-4600-979b-42166a798996        16868   \n",
              "5  00007415-e0e7-4a33-95e8-5bc749016876        78259   \n",
              "\n",
              "                        created_at  estimated_days_arrival  payment_method  \\\n",
              "0 2019-05-19 20:17:04.276396+00:00                       1               0   \n",
              "1 2019-08-24 06:26:12.662344+00:00                       5               3   \n",
              "3 2022-03-08 23:21:35.510057+00:00                       4               2   \n",
              "4 2020-07-23 14:31:15.525079+00:00                       4               4   \n",
              "5 2022-07-24 13:16:40.038087+00:00                       2               0   \n",
              "\n",
              "   payment_status  promo_amount  shipment_fee  \\\n",
              "0               1             0             0   \n",
              "1               1             0             0   \n",
              "3               1             0             0   \n",
              "4               1         10288         10000   \n",
              "5               1             0             0   \n",
              "\n",
              "                shipment_date_limit  total_amount  ...  search_keywords_count  \\\n",
              "0  2019-05-21 13:04:58.898492+00:00       1427802  ...                    0.0   \n",
              "1  2019-08-29 17:32:03.784460+00:00        339790  ...                    0.0   \n",
              "3  2022-03-13 17:18:32.359411+00:00       1231854  ...                   11.0   \n",
              "4  2020-07-27 15:19:38.948974+00:00         70859  ...                    1.0   \n",
              "5  2022-07-27 11:35:25.298016+00:00        195528  ...                    9.0   \n",
              "\n",
              "   session_length  is_search  gender_customer  device_type  age  \\\n",
              "0           58528          0                0            0   26   \n",
              "1             742          0                0            0   39   \n",
              "3             255          1                1            0   20   \n",
              "4           84396          1                1            0   25   \n",
              "5             256          1                0            0   22   \n",
              "\n",
              "   lengthjoin_months  homelocation_category  cust_age_category  membership  \n",
              "0                 70                      0                  1           0  \n",
              "1                 39                      0                  0           0  \n",
              "3                 29                      0                  3           1  \n",
              "4                 40                      0                  2           0  \n",
              "5                  3                      0                  2           3  \n",
              "\n",
              "[5 rows x 29 columns]"
            ],
            "text/html": [
              "\n",
              "  <div id=\"df-6d23ae95-3102-417b-b936-8952283e6670\">\n",
              "    <div class=\"colab-df-container\">\n",
              "      <div>\n",
              "<style scoped>\n",
              "    .dataframe tbody tr th:only-of-type {\n",
              "        vertical-align: middle;\n",
              "    }\n",
              "\n",
              "    .dataframe tbody tr th {\n",
              "        vertical-align: top;\n",
              "    }\n",
              "\n",
              "    .dataframe thead th {\n",
              "        text-align: right;\n",
              "    }\n",
              "</style>\n",
              "<table border=\"1\" class=\"dataframe\">\n",
              "  <thead>\n",
              "    <tr style=\"text-align: right;\">\n",
              "      <th></th>\n",
              "      <th>session_id</th>\n",
              "      <th>customer_id</th>\n",
              "      <th>created_at</th>\n",
              "      <th>estimated_days_arrival</th>\n",
              "      <th>payment_method</th>\n",
              "      <th>payment_status</th>\n",
              "      <th>promo_amount</th>\n",
              "      <th>shipment_fee</th>\n",
              "      <th>shipment_date_limit</th>\n",
              "      <th>total_amount</th>\n",
              "      <th>...</th>\n",
              "      <th>search_keywords_count</th>\n",
              "      <th>session_length</th>\n",
              "      <th>is_search</th>\n",
              "      <th>gender_customer</th>\n",
              "      <th>device_type</th>\n",
              "      <th>age</th>\n",
              "      <th>lengthjoin_months</th>\n",
              "      <th>homelocation_category</th>\n",
              "      <th>cust_age_category</th>\n",
              "      <th>membership</th>\n",
              "    </tr>\n",
              "  </thead>\n",
              "  <tbody>\n",
              "    <tr>\n",
              "      <th>0</th>\n",
              "      <td>00001f29-3ede-4445-95f0-0178934e32ba</td>\n",
              "      <td>74433</td>\n",
              "      <td>2019-05-19 20:17:04.276396+00:00</td>\n",
              "      <td>1</td>\n",
              "      <td>0</td>\n",
              "      <td>1</td>\n",
              "      <td>0</td>\n",
              "      <td>0</td>\n",
              "      <td>2019-05-21 13:04:58.898492+00:00</td>\n",
              "      <td>1427802</td>\n",
              "      <td>...</td>\n",
              "      <td>0.0</td>\n",
              "      <td>58528</td>\n",
              "      <td>0</td>\n",
              "      <td>0</td>\n",
              "      <td>0</td>\n",
              "      <td>26</td>\n",
              "      <td>70</td>\n",
              "      <td>0</td>\n",
              "      <td>1</td>\n",
              "      <td>0</td>\n",
              "    </tr>\n",
              "    <tr>\n",
              "      <th>1</th>\n",
              "      <td>00003eca-954b-4150-aee1-63fc62f395cf</td>\n",
              "      <td>43805</td>\n",
              "      <td>2019-08-24 06:26:12.662344+00:00</td>\n",
              "      <td>5</td>\n",
              "      <td>3</td>\n",
              "      <td>1</td>\n",
              "      <td>0</td>\n",
              "      <td>0</td>\n",
              "      <td>2019-08-29 17:32:03.784460+00:00</td>\n",
              "      <td>339790</td>\n",
              "      <td>...</td>\n",
              "      <td>0.0</td>\n",
              "      <td>742</td>\n",
              "      <td>0</td>\n",
              "      <td>0</td>\n",
              "      <td>0</td>\n",
              "      <td>39</td>\n",
              "      <td>39</td>\n",
              "      <td>0</td>\n",
              "      <td>0</td>\n",
              "      <td>0</td>\n",
              "    </tr>\n",
              "    <tr>\n",
              "      <th>3</th>\n",
              "      <td>00005746-17ec-449c-9c5c-699a3ea9304a</td>\n",
              "      <td>25255</td>\n",
              "      <td>2022-03-08 23:21:35.510057+00:00</td>\n",
              "      <td>4</td>\n",
              "      <td>2</td>\n",
              "      <td>1</td>\n",
              "      <td>0</td>\n",
              "      <td>0</td>\n",
              "      <td>2022-03-13 17:18:32.359411+00:00</td>\n",
              "      <td>1231854</td>\n",
              "      <td>...</td>\n",
              "      <td>11.0</td>\n",
              "      <td>255</td>\n",
              "      <td>1</td>\n",
              "      <td>1</td>\n",
              "      <td>0</td>\n",
              "      <td>20</td>\n",
              "      <td>29</td>\n",
              "      <td>0</td>\n",
              "      <td>3</td>\n",
              "      <td>1</td>\n",
              "    </tr>\n",
              "    <tr>\n",
              "      <th>4</th>\n",
              "      <td>0000649b-9514-4600-979b-42166a798996</td>\n",
              "      <td>16868</td>\n",
              "      <td>2020-07-23 14:31:15.525079+00:00</td>\n",
              "      <td>4</td>\n",
              "      <td>4</td>\n",
              "      <td>1</td>\n",
              "      <td>10288</td>\n",
              "      <td>10000</td>\n",
              "      <td>2020-07-27 15:19:38.948974+00:00</td>\n",
              "      <td>70859</td>\n",
              "      <td>...</td>\n",
              "      <td>1.0</td>\n",
              "      <td>84396</td>\n",
              "      <td>1</td>\n",
              "      <td>1</td>\n",
              "      <td>0</td>\n",
              "      <td>25</td>\n",
              "      <td>40</td>\n",
              "      <td>0</td>\n",
              "      <td>2</td>\n",
              "      <td>0</td>\n",
              "    </tr>\n",
              "    <tr>\n",
              "      <th>5</th>\n",
              "      <td>00007415-e0e7-4a33-95e8-5bc749016876</td>\n",
              "      <td>78259</td>\n",
              "      <td>2022-07-24 13:16:40.038087+00:00</td>\n",
              "      <td>2</td>\n",
              "      <td>0</td>\n",
              "      <td>1</td>\n",
              "      <td>0</td>\n",
              "      <td>0</td>\n",
              "      <td>2022-07-27 11:35:25.298016+00:00</td>\n",
              "      <td>195528</td>\n",
              "      <td>...</td>\n",
              "      <td>9.0</td>\n",
              "      <td>256</td>\n",
              "      <td>1</td>\n",
              "      <td>0</td>\n",
              "      <td>0</td>\n",
              "      <td>22</td>\n",
              "      <td>3</td>\n",
              "      <td>0</td>\n",
              "      <td>2</td>\n",
              "      <td>3</td>\n",
              "    </tr>\n",
              "  </tbody>\n",
              "</table>\n",
              "<p>5 rows × 29 columns</p>\n",
              "</div>\n",
              "      <button class=\"colab-df-convert\" onclick=\"convertToInteractive('df-6d23ae95-3102-417b-b936-8952283e6670')\"\n",
              "              title=\"Convert this dataframe to an interactive table.\"\n",
              "              style=\"display:none;\">\n",
              "        \n",
              "  <svg xmlns=\"http://www.w3.org/2000/svg\" height=\"24px\"viewBox=\"0 0 24 24\"\n",
              "       width=\"24px\">\n",
              "    <path d=\"M0 0h24v24H0V0z\" fill=\"none\"/>\n",
              "    <path d=\"M18.56 5.44l.94 2.06.94-2.06 2.06-.94-2.06-.94-.94-2.06-.94 2.06-2.06.94zm-11 1L8.5 8.5l.94-2.06 2.06-.94-2.06-.94L8.5 2.5l-.94 2.06-2.06.94zm10 10l.94 2.06.94-2.06 2.06-.94-2.06-.94-.94-2.06-.94 2.06-2.06.94z\"/><path d=\"M17.41 7.96l-1.37-1.37c-.4-.4-.92-.59-1.43-.59-.52 0-1.04.2-1.43.59L10.3 9.45l-7.72 7.72c-.78.78-.78 2.05 0 2.83L4 21.41c.39.39.9.59 1.41.59.51 0 1.02-.2 1.41-.59l7.78-7.78 2.81-2.81c.8-.78.8-2.07 0-2.86zM5.41 20L4 18.59l7.72-7.72 1.47 1.35L5.41 20z\"/>\n",
              "  </svg>\n",
              "      </button>\n",
              "      \n",
              "  <style>\n",
              "    .colab-df-container {\n",
              "      display:flex;\n",
              "      flex-wrap:wrap;\n",
              "      gap: 12px;\n",
              "    }\n",
              "\n",
              "    .colab-df-convert {\n",
              "      background-color: #E8F0FE;\n",
              "      border: none;\n",
              "      border-radius: 50%;\n",
              "      cursor: pointer;\n",
              "      display: none;\n",
              "      fill: #1967D2;\n",
              "      height: 32px;\n",
              "      padding: 0 0 0 0;\n",
              "      width: 32px;\n",
              "    }\n",
              "\n",
              "    .colab-df-convert:hover {\n",
              "      background-color: #E2EBFA;\n",
              "      box-shadow: 0px 1px 2px rgba(60, 64, 67, 0.3), 0px 1px 3px 1px rgba(60, 64, 67, 0.15);\n",
              "      fill: #174EA6;\n",
              "    }\n",
              "\n",
              "    [theme=dark] .colab-df-convert {\n",
              "      background-color: #3B4455;\n",
              "      fill: #D2E3FC;\n",
              "    }\n",
              "\n",
              "    [theme=dark] .colab-df-convert:hover {\n",
              "      background-color: #434B5C;\n",
              "      box-shadow: 0px 1px 3px 1px rgba(0, 0, 0, 0.15);\n",
              "      filter: drop-shadow(0px 1px 2px rgba(0, 0, 0, 0.3));\n",
              "      fill: #FFFFFF;\n",
              "    }\n",
              "  </style>\n",
              "\n",
              "      <script>\n",
              "        const buttonEl =\n",
              "          document.querySelector('#df-6d23ae95-3102-417b-b936-8952283e6670 button.colab-df-convert');\n",
              "        buttonEl.style.display =\n",
              "          google.colab.kernel.accessAllowed ? 'block' : 'none';\n",
              "\n",
              "        async function convertToInteractive(key) {\n",
              "          const element = document.querySelector('#df-6d23ae95-3102-417b-b936-8952283e6670');\n",
              "          const dataTable =\n",
              "            await google.colab.kernel.invokeFunction('convertToInteractive',\n",
              "                                                     [key], {});\n",
              "          if (!dataTable) return;\n",
              "\n",
              "          const docLinkHtml = 'Like what you see? Visit the ' +\n",
              "            '<a target=\"_blank\" href=https://colab.research.google.com/notebooks/data_table.ipynb>data table notebook</a>'\n",
              "            + ' to learn more about interactive tables.';\n",
              "          element.innerHTML = '';\n",
              "          dataTable['output_type'] = 'display_data';\n",
              "          await google.colab.output.renderOutput(dataTable, element);\n",
              "          const docLink = document.createElement('div');\n",
              "          docLink.innerHTML = docLinkHtml;\n",
              "          element.appendChild(docLink);\n",
              "        }\n",
              "      </script>\n",
              "    </div>\n",
              "  </div>\n",
              "  "
            ]
          },
          "metadata": {},
          "execution_count": 18
        }
      ],
      "source": [
        "df.head()"
      ]
    },
    {
      "cell_type": "code",
      "execution_count": null,
      "metadata": {
        "id": "nIJXwkS0qUqx"
      },
      "outputs": [],
      "source": [
        "df_trial = df[df['payment_status'] == 1]"
      ]
    },
    {
      "cell_type": "code",
      "execution_count": null,
      "metadata": {
        "id": "w0r2IZ5ltGXv"
      },
      "outputs": [],
      "source": [
        "df_trial = df_trial[['created_at', 'customer_id']]"
      ]
    },
    {
      "cell_type": "code",
      "execution_count": null,
      "metadata": {
        "id": "2OF3jrDrtMiu"
      },
      "outputs": [],
      "source": [
        "df_trial['month'] = df_trial['created_at'].apply(lambda x: x.strftime(\"%Y-%m\"))\n",
        "df_trial['first_order'] = df_trial.groupby('customer_id')['created_at'].transform('min')\n",
        "df_trial['first_month'] = df_trial['first_order'].apply(lambda x: x.strftime(\"%Y-%m\"))"
      ]
    },
    {
      "cell_type": "code",
      "execution_count": null,
      "metadata": {
        "id": "5EMtXZHZt8Wf"
      },
      "outputs": [],
      "source": [
        "df_trial_a = df_trial[(df_trial['month'] <= '2022-01') &\n",
        "                      (df_trial['month'] > '2019-12') &\n",
        "                      (df_trial['first_month'] <= '2022-01') &\n",
        "                      (df_trial['first_month'] > '2019-12')]"
      ]
    },
    {
      "cell_type": "code",
      "execution_count": null,
      "metadata": {
        "colab": {
          "base_uri": "https://localhost:8080/"
        },
        "id": "7PHR9wkXwPwK",
        "outputId": "a38537d2-ed2e-480a-9705-58fe30f0be83"
      },
      "outputs": [
        {
          "output_type": "stream",
          "name": "stderr",
          "text": [
            "/usr/local/lib/python3.7/dist-packages/ipykernel_launcher.py:1: SettingWithCopyWarning: \n",
            "A value is trying to be set on a copy of a slice from a DataFrame.\n",
            "Try using .loc[row_indexer,col_indexer] = value instead\n",
            "\n",
            "See the caveats in the documentation: https://pandas.pydata.org/pandas-docs/stable/user_guide/indexing.html#returning-a-view-versus-a-copy\n",
            "  \"\"\"Entry point for launching an IPython kernel.\n"
          ]
        }
      ],
      "source": [
        "df_trial_a['last_order'] = df_trial_a.groupby('customer_id')['created_at'].transform('max')"
      ]
    },
    {
      "cell_type": "code",
      "execution_count": null,
      "metadata": {
        "colab": {
          "base_uri": "https://localhost:8080/"
        },
        "id": "t7ruRdsI5TUH",
        "outputId": "a1f426a2-b146-4bb0-a599-1ed9698db1d3"
      },
      "outputs": [
        {
          "output_type": "execute_result",
          "data": {
            "text/plain": [
              "21033"
            ]
          },
          "metadata": {},
          "execution_count": 24
        }
      ],
      "source": [
        "df_trial_a['customer_id'].nunique()"
      ]
    },
    {
      "cell_type": "code",
      "execution_count": null,
      "metadata": {
        "colab": {
          "base_uri": "https://localhost:8080/",
          "height": 424
        },
        "id": "mXNT_Oa84FKQ",
        "outputId": "459cc190-3526-4c7a-8460-d51fd80746f6"
      },
      "outputs": [
        {
          "output_type": "execute_result",
          "data": {
            "text/plain": [
              "                             created_at  customer_id    month  \\\n",
              "795818 2020-01-30 01:57:06.462966+00:00        48514  2020-01   \n",
              "183548 2020-01-27 22:08:33.760446+00:00        17703  2020-01   \n",
              "516098 2020-01-24 22:57:55.836117+00:00        39367  2020-01   \n",
              "217428 2020-01-04 08:24:36.193865+00:00        30949  2020-01   \n",
              "436697 2020-01-06 05:19:06.273740+00:00        34683  2020-01   \n",
              "...                                 ...          ...      ...   \n",
              "630685 2022-01-09 12:43:55.446273+00:00        22160  2022-01   \n",
              "251163 2022-01-19 23:04:28.011204+00:00        25347  2022-01   \n",
              "316813 2022-01-14 00:53:46.656304+00:00        77592  2022-01   \n",
              "631063 2022-01-03 17:59:03.002038+00:00        91812  2022-01   \n",
              "113717 2022-01-21 06:58:24.575868+00:00        22667  2022-01   \n",
              "\n",
              "                            first_order first_month  \\\n",
              "795818 2020-01-30 01:57:06.462966+00:00     2020-01   \n",
              "183548 2020-01-27 22:08:33.760446+00:00     2020-01   \n",
              "516098 2020-01-04 23:46:12.836117+00:00     2020-01   \n",
              "217428 2020-01-04 08:24:36.193865+00:00     2020-01   \n",
              "436697 2020-01-06 05:19:06.273740+00:00     2020-01   \n",
              "...                                 ...         ...   \n",
              "630685 2021-08-02 12:36:36.446273+00:00     2021-08   \n",
              "251163 2021-01-06 12:39:00.011204+00:00     2021-01   \n",
              "316813 2021-06-27 22:53:46.656304+00:00     2021-06   \n",
              "631063 2020-06-22 01:14:39.002038+00:00     2020-06   \n",
              "113717 2020-11-28 17:05:03.575868+00:00     2020-11   \n",
              "\n",
              "                             last_order  \n",
              "795818 2022-01-31 12:16:30.462966+00:00  \n",
              "183548 2020-01-27 22:08:33.760446+00:00  \n",
              "516098 2022-01-13 21:48:07.836117+00:00  \n",
              "217428 2021-12-09 22:26:24.193865+00:00  \n",
              "436697 2022-01-27 15:46:40.273740+00:00  \n",
              "...                                 ...  \n",
              "630685 2022-01-29 12:55:46.446273+00:00  \n",
              "251163 2022-01-19 23:04:28.011204+00:00  \n",
              "316813 2022-01-14 00:53:46.656304+00:00  \n",
              "631063 2022-01-19 18:15:48.002038+00:00  \n",
              "113717 2022-01-21 06:58:24.575868+00:00  \n",
              "\n",
              "[167485 rows x 6 columns]"
            ],
            "text/html": [
              "\n",
              "  <div id=\"df-78adf5fb-8b0b-4515-aa16-a47e7f37e416\">\n",
              "    <div class=\"colab-df-container\">\n",
              "      <div>\n",
              "<style scoped>\n",
              "    .dataframe tbody tr th:only-of-type {\n",
              "        vertical-align: middle;\n",
              "    }\n",
              "\n",
              "    .dataframe tbody tr th {\n",
              "        vertical-align: top;\n",
              "    }\n",
              "\n",
              "    .dataframe thead th {\n",
              "        text-align: right;\n",
              "    }\n",
              "</style>\n",
              "<table border=\"1\" class=\"dataframe\">\n",
              "  <thead>\n",
              "    <tr style=\"text-align: right;\">\n",
              "      <th></th>\n",
              "      <th>created_at</th>\n",
              "      <th>customer_id</th>\n",
              "      <th>month</th>\n",
              "      <th>first_order</th>\n",
              "      <th>first_month</th>\n",
              "      <th>last_order</th>\n",
              "    </tr>\n",
              "  </thead>\n",
              "  <tbody>\n",
              "    <tr>\n",
              "      <th>795818</th>\n",
              "      <td>2020-01-30 01:57:06.462966+00:00</td>\n",
              "      <td>48514</td>\n",
              "      <td>2020-01</td>\n",
              "      <td>2020-01-30 01:57:06.462966+00:00</td>\n",
              "      <td>2020-01</td>\n",
              "      <td>2022-01-31 12:16:30.462966+00:00</td>\n",
              "    </tr>\n",
              "    <tr>\n",
              "      <th>183548</th>\n",
              "      <td>2020-01-27 22:08:33.760446+00:00</td>\n",
              "      <td>17703</td>\n",
              "      <td>2020-01</td>\n",
              "      <td>2020-01-27 22:08:33.760446+00:00</td>\n",
              "      <td>2020-01</td>\n",
              "      <td>2020-01-27 22:08:33.760446+00:00</td>\n",
              "    </tr>\n",
              "    <tr>\n",
              "      <th>516098</th>\n",
              "      <td>2020-01-24 22:57:55.836117+00:00</td>\n",
              "      <td>39367</td>\n",
              "      <td>2020-01</td>\n",
              "      <td>2020-01-04 23:46:12.836117+00:00</td>\n",
              "      <td>2020-01</td>\n",
              "      <td>2022-01-13 21:48:07.836117+00:00</td>\n",
              "    </tr>\n",
              "    <tr>\n",
              "      <th>217428</th>\n",
              "      <td>2020-01-04 08:24:36.193865+00:00</td>\n",
              "      <td>30949</td>\n",
              "      <td>2020-01</td>\n",
              "      <td>2020-01-04 08:24:36.193865+00:00</td>\n",
              "      <td>2020-01</td>\n",
              "      <td>2021-12-09 22:26:24.193865+00:00</td>\n",
              "    </tr>\n",
              "    <tr>\n",
              "      <th>436697</th>\n",
              "      <td>2020-01-06 05:19:06.273740+00:00</td>\n",
              "      <td>34683</td>\n",
              "      <td>2020-01</td>\n",
              "      <td>2020-01-06 05:19:06.273740+00:00</td>\n",
              "      <td>2020-01</td>\n",
              "      <td>2022-01-27 15:46:40.273740+00:00</td>\n",
              "    </tr>\n",
              "    <tr>\n",
              "      <th>...</th>\n",
              "      <td>...</td>\n",
              "      <td>...</td>\n",
              "      <td>...</td>\n",
              "      <td>...</td>\n",
              "      <td>...</td>\n",
              "      <td>...</td>\n",
              "    </tr>\n",
              "    <tr>\n",
              "      <th>630685</th>\n",
              "      <td>2022-01-09 12:43:55.446273+00:00</td>\n",
              "      <td>22160</td>\n",
              "      <td>2022-01</td>\n",
              "      <td>2021-08-02 12:36:36.446273+00:00</td>\n",
              "      <td>2021-08</td>\n",
              "      <td>2022-01-29 12:55:46.446273+00:00</td>\n",
              "    </tr>\n",
              "    <tr>\n",
              "      <th>251163</th>\n",
              "      <td>2022-01-19 23:04:28.011204+00:00</td>\n",
              "      <td>25347</td>\n",
              "      <td>2022-01</td>\n",
              "      <td>2021-01-06 12:39:00.011204+00:00</td>\n",
              "      <td>2021-01</td>\n",
              "      <td>2022-01-19 23:04:28.011204+00:00</td>\n",
              "    </tr>\n",
              "    <tr>\n",
              "      <th>316813</th>\n",
              "      <td>2022-01-14 00:53:46.656304+00:00</td>\n",
              "      <td>77592</td>\n",
              "      <td>2022-01</td>\n",
              "      <td>2021-06-27 22:53:46.656304+00:00</td>\n",
              "      <td>2021-06</td>\n",
              "      <td>2022-01-14 00:53:46.656304+00:00</td>\n",
              "    </tr>\n",
              "    <tr>\n",
              "      <th>631063</th>\n",
              "      <td>2022-01-03 17:59:03.002038+00:00</td>\n",
              "      <td>91812</td>\n",
              "      <td>2022-01</td>\n",
              "      <td>2020-06-22 01:14:39.002038+00:00</td>\n",
              "      <td>2020-06</td>\n",
              "      <td>2022-01-19 18:15:48.002038+00:00</td>\n",
              "    </tr>\n",
              "    <tr>\n",
              "      <th>113717</th>\n",
              "      <td>2022-01-21 06:58:24.575868+00:00</td>\n",
              "      <td>22667</td>\n",
              "      <td>2022-01</td>\n",
              "      <td>2020-11-28 17:05:03.575868+00:00</td>\n",
              "      <td>2020-11</td>\n",
              "      <td>2022-01-21 06:58:24.575868+00:00</td>\n",
              "    </tr>\n",
              "  </tbody>\n",
              "</table>\n",
              "<p>167485 rows × 6 columns</p>\n",
              "</div>\n",
              "      <button class=\"colab-df-convert\" onclick=\"convertToInteractive('df-78adf5fb-8b0b-4515-aa16-a47e7f37e416')\"\n",
              "              title=\"Convert this dataframe to an interactive table.\"\n",
              "              style=\"display:none;\">\n",
              "        \n",
              "  <svg xmlns=\"http://www.w3.org/2000/svg\" height=\"24px\"viewBox=\"0 0 24 24\"\n",
              "       width=\"24px\">\n",
              "    <path d=\"M0 0h24v24H0V0z\" fill=\"none\"/>\n",
              "    <path d=\"M18.56 5.44l.94 2.06.94-2.06 2.06-.94-2.06-.94-.94-2.06-.94 2.06-2.06.94zm-11 1L8.5 8.5l.94-2.06 2.06-.94-2.06-.94L8.5 2.5l-.94 2.06-2.06.94zm10 10l.94 2.06.94-2.06 2.06-.94-2.06-.94-.94-2.06-.94 2.06-2.06.94z\"/><path d=\"M17.41 7.96l-1.37-1.37c-.4-.4-.92-.59-1.43-.59-.52 0-1.04.2-1.43.59L10.3 9.45l-7.72 7.72c-.78.78-.78 2.05 0 2.83L4 21.41c.39.39.9.59 1.41.59.51 0 1.02-.2 1.41-.59l7.78-7.78 2.81-2.81c.8-.78.8-2.07 0-2.86zM5.41 20L4 18.59l7.72-7.72 1.47 1.35L5.41 20z\"/>\n",
              "  </svg>\n",
              "      </button>\n",
              "      \n",
              "  <style>\n",
              "    .colab-df-container {\n",
              "      display:flex;\n",
              "      flex-wrap:wrap;\n",
              "      gap: 12px;\n",
              "    }\n",
              "\n",
              "    .colab-df-convert {\n",
              "      background-color: #E8F0FE;\n",
              "      border: none;\n",
              "      border-radius: 50%;\n",
              "      cursor: pointer;\n",
              "      display: none;\n",
              "      fill: #1967D2;\n",
              "      height: 32px;\n",
              "      padding: 0 0 0 0;\n",
              "      width: 32px;\n",
              "    }\n",
              "\n",
              "    .colab-df-convert:hover {\n",
              "      background-color: #E2EBFA;\n",
              "      box-shadow: 0px 1px 2px rgba(60, 64, 67, 0.3), 0px 1px 3px 1px rgba(60, 64, 67, 0.15);\n",
              "      fill: #174EA6;\n",
              "    }\n",
              "\n",
              "    [theme=dark] .colab-df-convert {\n",
              "      background-color: #3B4455;\n",
              "      fill: #D2E3FC;\n",
              "    }\n",
              "\n",
              "    [theme=dark] .colab-df-convert:hover {\n",
              "      background-color: #434B5C;\n",
              "      box-shadow: 0px 1px 3px 1px rgba(0, 0, 0, 0.15);\n",
              "      filter: drop-shadow(0px 1px 2px rgba(0, 0, 0, 0.3));\n",
              "      fill: #FFFFFF;\n",
              "    }\n",
              "  </style>\n",
              "\n",
              "      <script>\n",
              "        const buttonEl =\n",
              "          document.querySelector('#df-78adf5fb-8b0b-4515-aa16-a47e7f37e416 button.colab-df-convert');\n",
              "        buttonEl.style.display =\n",
              "          google.colab.kernel.accessAllowed ? 'block' : 'none';\n",
              "\n",
              "        async function convertToInteractive(key) {\n",
              "          const element = document.querySelector('#df-78adf5fb-8b0b-4515-aa16-a47e7f37e416');\n",
              "          const dataTable =\n",
              "            await google.colab.kernel.invokeFunction('convertToInteractive',\n",
              "                                                     [key], {});\n",
              "          if (!dataTable) return;\n",
              "\n",
              "          const docLinkHtml = 'Like what you see? Visit the ' +\n",
              "            '<a target=\"_blank\" href=https://colab.research.google.com/notebooks/data_table.ipynb>data table notebook</a>'\n",
              "            + ' to learn more about interactive tables.';\n",
              "          element.innerHTML = '';\n",
              "          dataTable['output_type'] = 'display_data';\n",
              "          await google.colab.output.renderOutput(dataTable, element);\n",
              "          const docLink = document.createElement('div');\n",
              "          docLink.innerHTML = docLinkHtml;\n",
              "          element.appendChild(docLink);\n",
              "        }\n",
              "      </script>\n",
              "    </div>\n",
              "  </div>\n",
              "  "
            ]
          },
          "metadata": {},
          "execution_count": 25
        }
      ],
      "source": [
        "df_trial_a.sort_values('month', ascending = True)"
      ]
    },
    {
      "cell_type": "code",
      "execution_count": null,
      "metadata": {
        "id": "hhL4_6yXvoxw"
      },
      "outputs": [],
      "source": [
        "a = df_trial_a.pivot_table(index = \"first_month\",\n",
        "                 columns = \"month\",\n",
        "                 values = \"customer_id\",\n",
        "                 aggfunc = pd.Series.nunique,\n",
        "                 fill_value = 0)"
      ]
    },
    {
      "cell_type": "code",
      "execution_count": null,
      "metadata": {
        "colab": {
          "base_uri": "https://localhost:8080/",
          "height": 894
        },
        "id": "_9bGMjFumEeD",
        "outputId": "3536af4d-924d-4290-f4a9-b68bb9ab0475"
      },
      "outputs": [
        {
          "output_type": "execute_result",
          "data": {
            "text/plain": [
              "month        2020-01  2020-02  2020-03  2020-04  2020-05  2020-06  2020-07  \\\n",
              "first_month                                                                  \n",
              "2020-01          638      127      179      172      207      195      211   \n",
              "2020-02            0      734      176      231      251      240      265   \n",
              "2020-03            0        0      697      184      234      248      269   \n",
              "2020-04            0        0        0      677      178      244      246   \n",
              "2020-05            0        0        0        0      447       77      109   \n",
              "2020-06            0        0        0        0        0      660      174   \n",
              "2020-07            0        0        0        0        0        0     1347   \n",
              "2020-08            0        0        0        0        0        0        0   \n",
              "2020-09            0        0        0        0        0        0        0   \n",
              "2020-10            0        0        0        0        0        0        0   \n",
              "2020-11            0        0        0        0        0        0        0   \n",
              "2020-12            0        0        0        0        0        0        0   \n",
              "2021-01            0        0        0        0        0        0        0   \n",
              "2021-02            0        0        0        0        0        0        0   \n",
              "2021-03            0        0        0        0        0        0        0   \n",
              "2021-04            0        0        0        0        0        0        0   \n",
              "2021-05            0        0        0        0        0        0        0   \n",
              "2021-06            0        0        0        0        0        0        0   \n",
              "2021-07            0        0        0        0        0        0        0   \n",
              "2021-08            0        0        0        0        0        0        0   \n",
              "2021-09            0        0        0        0        0        0        0   \n",
              "2021-10            0        0        0        0        0        0        0   \n",
              "2021-11            0        0        0        0        0        0        0   \n",
              "2021-12            0        0        0        0        0        0        0   \n",
              "2022-01            0        0        0        0        0        0        0   \n",
              "\n",
              "month        2020-08  2020-09  2020-10  ...  2021-04  2021-05  2021-06  \\\n",
              "first_month                             ...                              \n",
              "2020-01          202      199      184  ...      311      183      179   \n",
              "2020-02          261      280      254  ...      193      415      246   \n",
              "2020-03          260      246      269  ...      238      373      223   \n",
              "2020-04          260      258      244  ...      263      211      377   \n",
              "2020-05          128      122      115  ...      108      126      209   \n",
              "2020-06          217      252      237  ...      264      239      207   \n",
              "2020-07          344      454      488  ...      432      521      466   \n",
              "2020-08         1028      285      388  ...      485      404      421   \n",
              "2020-09            0      808      212  ...      318      327      298   \n",
              "2020-10            0        0      838  ...      313      380      295   \n",
              "2020-11            0        0        0  ...      362      311      386   \n",
              "2020-12            0        0        0  ...      143      158      148   \n",
              "2021-01            0        0        0  ...      352      360      365   \n",
              "2021-02            0        0        0  ...      299      321      321   \n",
              "2021-03            0        0        0  ...      255      330      341   \n",
              "2021-04            0        0        0  ...      762      227      285   \n",
              "2021-05            0        0        0  ...        0      465      102   \n",
              "2021-06            0        0        0  ...        0        0      769   \n",
              "2021-07            0        0        0  ...        0        0        0   \n",
              "2021-08            0        0        0  ...        0        0        0   \n",
              "2021-09            0        0        0  ...        0        0        0   \n",
              "2021-10            0        0        0  ...        0        0        0   \n",
              "2021-11            0        0        0  ...        0        0        0   \n",
              "2021-12            0        0        0  ...        0        0        0   \n",
              "2022-01            0        0        0  ...        0        0        0   \n",
              "\n",
              "month        2021-07  2021-08  2021-09  2021-10  2021-11  2021-12  2022-01  \n",
              "first_month                                                                 \n",
              "2020-01          221      198      252      179      188      216      225  \n",
              "2020-02          242      286      210      332      233      300      239  \n",
              "2020-03          258      259      249      303      238      297      235  \n",
              "2020-04          248      247      262      308      224      255      278  \n",
              "2020-05          103      126      125      105      156      105      146  \n",
              "2020-06          345      248      256      219      310      236      246  \n",
              "2020-07          729      431      462      523      573      431      563  \n",
              "2020-08          353      559      391      426      369      474      404  \n",
              "2020-09          294      419      260      291      292      356      279  \n",
              "2020-10          347      277      473      304      338      366      307  \n",
              "2020-11          349      337      472      299      351      328      388  \n",
              "2020-12          158      145      110      245      129      145      185  \n",
              "2021-01          394      339      338      477      307      358      416  \n",
              "2021-02          302      346      316      269      423      317      287  \n",
              "2021-03          387      337      346      329      494      292      348  \n",
              "2021-04          308      305      348      290      261      412      314  \n",
              "2021-05          156      163      150      175      158      224      140  \n",
              "2021-06          250      298      329      323      325      281      432  \n",
              "2021-07         1573      542      680      732      756      687      905  \n",
              "2021-08            0     1160      432      538      536      615      506  \n",
              "2021-09            0        0      978      370      452      444      473  \n",
              "2021-10            0        0        0     1052      405      503      542  \n",
              "2021-11            0        0        0        0     1009      394      471  \n",
              "2021-12            0        0        0        0        0      476      134  \n",
              "2022-01            0        0        0        0        0        0     1062  \n",
              "\n",
              "[25 rows x 25 columns]"
            ],
            "text/html": [
              "\n",
              "  <div id=\"df-ee70feff-6c47-460d-8c55-a52c3c6dfd43\">\n",
              "    <div class=\"colab-df-container\">\n",
              "      <div>\n",
              "<style scoped>\n",
              "    .dataframe tbody tr th:only-of-type {\n",
              "        vertical-align: middle;\n",
              "    }\n",
              "\n",
              "    .dataframe tbody tr th {\n",
              "        vertical-align: top;\n",
              "    }\n",
              "\n",
              "    .dataframe thead th {\n",
              "        text-align: right;\n",
              "    }\n",
              "</style>\n",
              "<table border=\"1\" class=\"dataframe\">\n",
              "  <thead>\n",
              "    <tr style=\"text-align: right;\">\n",
              "      <th>month</th>\n",
              "      <th>2020-01</th>\n",
              "      <th>2020-02</th>\n",
              "      <th>2020-03</th>\n",
              "      <th>2020-04</th>\n",
              "      <th>2020-05</th>\n",
              "      <th>2020-06</th>\n",
              "      <th>2020-07</th>\n",
              "      <th>2020-08</th>\n",
              "      <th>2020-09</th>\n",
              "      <th>2020-10</th>\n",
              "      <th>...</th>\n",
              "      <th>2021-04</th>\n",
              "      <th>2021-05</th>\n",
              "      <th>2021-06</th>\n",
              "      <th>2021-07</th>\n",
              "      <th>2021-08</th>\n",
              "      <th>2021-09</th>\n",
              "      <th>2021-10</th>\n",
              "      <th>2021-11</th>\n",
              "      <th>2021-12</th>\n",
              "      <th>2022-01</th>\n",
              "    </tr>\n",
              "    <tr>\n",
              "      <th>first_month</th>\n",
              "      <th></th>\n",
              "      <th></th>\n",
              "      <th></th>\n",
              "      <th></th>\n",
              "      <th></th>\n",
              "      <th></th>\n",
              "      <th></th>\n",
              "      <th></th>\n",
              "      <th></th>\n",
              "      <th></th>\n",
              "      <th></th>\n",
              "      <th></th>\n",
              "      <th></th>\n",
              "      <th></th>\n",
              "      <th></th>\n",
              "      <th></th>\n",
              "      <th></th>\n",
              "      <th></th>\n",
              "      <th></th>\n",
              "      <th></th>\n",
              "      <th></th>\n",
              "    </tr>\n",
              "  </thead>\n",
              "  <tbody>\n",
              "    <tr>\n",
              "      <th>2020-01</th>\n",
              "      <td>638</td>\n",
              "      <td>127</td>\n",
              "      <td>179</td>\n",
              "      <td>172</td>\n",
              "      <td>207</td>\n",
              "      <td>195</td>\n",
              "      <td>211</td>\n",
              "      <td>202</td>\n",
              "      <td>199</td>\n",
              "      <td>184</td>\n",
              "      <td>...</td>\n",
              "      <td>311</td>\n",
              "      <td>183</td>\n",
              "      <td>179</td>\n",
              "      <td>221</td>\n",
              "      <td>198</td>\n",
              "      <td>252</td>\n",
              "      <td>179</td>\n",
              "      <td>188</td>\n",
              "      <td>216</td>\n",
              "      <td>225</td>\n",
              "    </tr>\n",
              "    <tr>\n",
              "      <th>2020-02</th>\n",
              "      <td>0</td>\n",
              "      <td>734</td>\n",
              "      <td>176</td>\n",
              "      <td>231</td>\n",
              "      <td>251</td>\n",
              "      <td>240</td>\n",
              "      <td>265</td>\n",
              "      <td>261</td>\n",
              "      <td>280</td>\n",
              "      <td>254</td>\n",
              "      <td>...</td>\n",
              "      <td>193</td>\n",
              "      <td>415</td>\n",
              "      <td>246</td>\n",
              "      <td>242</td>\n",
              "      <td>286</td>\n",
              "      <td>210</td>\n",
              "      <td>332</td>\n",
              "      <td>233</td>\n",
              "      <td>300</td>\n",
              "      <td>239</td>\n",
              "    </tr>\n",
              "    <tr>\n",
              "      <th>2020-03</th>\n",
              "      <td>0</td>\n",
              "      <td>0</td>\n",
              "      <td>697</td>\n",
              "      <td>184</td>\n",
              "      <td>234</td>\n",
              "      <td>248</td>\n",
              "      <td>269</td>\n",
              "      <td>260</td>\n",
              "      <td>246</td>\n",
              "      <td>269</td>\n",
              "      <td>...</td>\n",
              "      <td>238</td>\n",
              "      <td>373</td>\n",
              "      <td>223</td>\n",
              "      <td>258</td>\n",
              "      <td>259</td>\n",
              "      <td>249</td>\n",
              "      <td>303</td>\n",
              "      <td>238</td>\n",
              "      <td>297</td>\n",
              "      <td>235</td>\n",
              "    </tr>\n",
              "    <tr>\n",
              "      <th>2020-04</th>\n",
              "      <td>0</td>\n",
              "      <td>0</td>\n",
              "      <td>0</td>\n",
              "      <td>677</td>\n",
              "      <td>178</td>\n",
              "      <td>244</td>\n",
              "      <td>246</td>\n",
              "      <td>260</td>\n",
              "      <td>258</td>\n",
              "      <td>244</td>\n",
              "      <td>...</td>\n",
              "      <td>263</td>\n",
              "      <td>211</td>\n",
              "      <td>377</td>\n",
              "      <td>248</td>\n",
              "      <td>247</td>\n",
              "      <td>262</td>\n",
              "      <td>308</td>\n",
              "      <td>224</td>\n",
              "      <td>255</td>\n",
              "      <td>278</td>\n",
              "    </tr>\n",
              "    <tr>\n",
              "      <th>2020-05</th>\n",
              "      <td>0</td>\n",
              "      <td>0</td>\n",
              "      <td>0</td>\n",
              "      <td>0</td>\n",
              "      <td>447</td>\n",
              "      <td>77</td>\n",
              "      <td>109</td>\n",
              "      <td>128</td>\n",
              "      <td>122</td>\n",
              "      <td>115</td>\n",
              "      <td>...</td>\n",
              "      <td>108</td>\n",
              "      <td>126</td>\n",
              "      <td>209</td>\n",
              "      <td>103</td>\n",
              "      <td>126</td>\n",
              "      <td>125</td>\n",
              "      <td>105</td>\n",
              "      <td>156</td>\n",
              "      <td>105</td>\n",
              "      <td>146</td>\n",
              "    </tr>\n",
              "    <tr>\n",
              "      <th>2020-06</th>\n",
              "      <td>0</td>\n",
              "      <td>0</td>\n",
              "      <td>0</td>\n",
              "      <td>0</td>\n",
              "      <td>0</td>\n",
              "      <td>660</td>\n",
              "      <td>174</td>\n",
              "      <td>217</td>\n",
              "      <td>252</td>\n",
              "      <td>237</td>\n",
              "      <td>...</td>\n",
              "      <td>264</td>\n",
              "      <td>239</td>\n",
              "      <td>207</td>\n",
              "      <td>345</td>\n",
              "      <td>248</td>\n",
              "      <td>256</td>\n",
              "      <td>219</td>\n",
              "      <td>310</td>\n",
              "      <td>236</td>\n",
              "      <td>246</td>\n",
              "    </tr>\n",
              "    <tr>\n",
              "      <th>2020-07</th>\n",
              "      <td>0</td>\n",
              "      <td>0</td>\n",
              "      <td>0</td>\n",
              "      <td>0</td>\n",
              "      <td>0</td>\n",
              "      <td>0</td>\n",
              "      <td>1347</td>\n",
              "      <td>344</td>\n",
              "      <td>454</td>\n",
              "      <td>488</td>\n",
              "      <td>...</td>\n",
              "      <td>432</td>\n",
              "      <td>521</td>\n",
              "      <td>466</td>\n",
              "      <td>729</td>\n",
              "      <td>431</td>\n",
              "      <td>462</td>\n",
              "      <td>523</td>\n",
              "      <td>573</td>\n",
              "      <td>431</td>\n",
              "      <td>563</td>\n",
              "    </tr>\n",
              "    <tr>\n",
              "      <th>2020-08</th>\n",
              "      <td>0</td>\n",
              "      <td>0</td>\n",
              "      <td>0</td>\n",
              "      <td>0</td>\n",
              "      <td>0</td>\n",
              "      <td>0</td>\n",
              "      <td>0</td>\n",
              "      <td>1028</td>\n",
              "      <td>285</td>\n",
              "      <td>388</td>\n",
              "      <td>...</td>\n",
              "      <td>485</td>\n",
              "      <td>404</td>\n",
              "      <td>421</td>\n",
              "      <td>353</td>\n",
              "      <td>559</td>\n",
              "      <td>391</td>\n",
              "      <td>426</td>\n",
              "      <td>369</td>\n",
              "      <td>474</td>\n",
              "      <td>404</td>\n",
              "    </tr>\n",
              "    <tr>\n",
              "      <th>2020-09</th>\n",
              "      <td>0</td>\n",
              "      <td>0</td>\n",
              "      <td>0</td>\n",
              "      <td>0</td>\n",
              "      <td>0</td>\n",
              "      <td>0</td>\n",
              "      <td>0</td>\n",
              "      <td>0</td>\n",
              "      <td>808</td>\n",
              "      <td>212</td>\n",
              "      <td>...</td>\n",
              "      <td>318</td>\n",
              "      <td>327</td>\n",
              "      <td>298</td>\n",
              "      <td>294</td>\n",
              "      <td>419</td>\n",
              "      <td>260</td>\n",
              "      <td>291</td>\n",
              "      <td>292</td>\n",
              "      <td>356</td>\n",
              "      <td>279</td>\n",
              "    </tr>\n",
              "    <tr>\n",
              "      <th>2020-10</th>\n",
              "      <td>0</td>\n",
              "      <td>0</td>\n",
              "      <td>0</td>\n",
              "      <td>0</td>\n",
              "      <td>0</td>\n",
              "      <td>0</td>\n",
              "      <td>0</td>\n",
              "      <td>0</td>\n",
              "      <td>0</td>\n",
              "      <td>838</td>\n",
              "      <td>...</td>\n",
              "      <td>313</td>\n",
              "      <td>380</td>\n",
              "      <td>295</td>\n",
              "      <td>347</td>\n",
              "      <td>277</td>\n",
              "      <td>473</td>\n",
              "      <td>304</td>\n",
              "      <td>338</td>\n",
              "      <td>366</td>\n",
              "      <td>307</td>\n",
              "    </tr>\n",
              "    <tr>\n",
              "      <th>2020-11</th>\n",
              "      <td>0</td>\n",
              "      <td>0</td>\n",
              "      <td>0</td>\n",
              "      <td>0</td>\n",
              "      <td>0</td>\n",
              "      <td>0</td>\n",
              "      <td>0</td>\n",
              "      <td>0</td>\n",
              "      <td>0</td>\n",
              "      <td>0</td>\n",
              "      <td>...</td>\n",
              "      <td>362</td>\n",
              "      <td>311</td>\n",
              "      <td>386</td>\n",
              "      <td>349</td>\n",
              "      <td>337</td>\n",
              "      <td>472</td>\n",
              "      <td>299</td>\n",
              "      <td>351</td>\n",
              "      <td>328</td>\n",
              "      <td>388</td>\n",
              "    </tr>\n",
              "    <tr>\n",
              "      <th>2020-12</th>\n",
              "      <td>0</td>\n",
              "      <td>0</td>\n",
              "      <td>0</td>\n",
              "      <td>0</td>\n",
              "      <td>0</td>\n",
              "      <td>0</td>\n",
              "      <td>0</td>\n",
              "      <td>0</td>\n",
              "      <td>0</td>\n",
              "      <td>0</td>\n",
              "      <td>...</td>\n",
              "      <td>143</td>\n",
              "      <td>158</td>\n",
              "      <td>148</td>\n",
              "      <td>158</td>\n",
              "      <td>145</td>\n",
              "      <td>110</td>\n",
              "      <td>245</td>\n",
              "      <td>129</td>\n",
              "      <td>145</td>\n",
              "      <td>185</td>\n",
              "    </tr>\n",
              "    <tr>\n",
              "      <th>2021-01</th>\n",
              "      <td>0</td>\n",
              "      <td>0</td>\n",
              "      <td>0</td>\n",
              "      <td>0</td>\n",
              "      <td>0</td>\n",
              "      <td>0</td>\n",
              "      <td>0</td>\n",
              "      <td>0</td>\n",
              "      <td>0</td>\n",
              "      <td>0</td>\n",
              "      <td>...</td>\n",
              "      <td>352</td>\n",
              "      <td>360</td>\n",
              "      <td>365</td>\n",
              "      <td>394</td>\n",
              "      <td>339</td>\n",
              "      <td>338</td>\n",
              "      <td>477</td>\n",
              "      <td>307</td>\n",
              "      <td>358</td>\n",
              "      <td>416</td>\n",
              "    </tr>\n",
              "    <tr>\n",
              "      <th>2021-02</th>\n",
              "      <td>0</td>\n",
              "      <td>0</td>\n",
              "      <td>0</td>\n",
              "      <td>0</td>\n",
              "      <td>0</td>\n",
              "      <td>0</td>\n",
              "      <td>0</td>\n",
              "      <td>0</td>\n",
              "      <td>0</td>\n",
              "      <td>0</td>\n",
              "      <td>...</td>\n",
              "      <td>299</td>\n",
              "      <td>321</td>\n",
              "      <td>321</td>\n",
              "      <td>302</td>\n",
              "      <td>346</td>\n",
              "      <td>316</td>\n",
              "      <td>269</td>\n",
              "      <td>423</td>\n",
              "      <td>317</td>\n",
              "      <td>287</td>\n",
              "    </tr>\n",
              "    <tr>\n",
              "      <th>2021-03</th>\n",
              "      <td>0</td>\n",
              "      <td>0</td>\n",
              "      <td>0</td>\n",
              "      <td>0</td>\n",
              "      <td>0</td>\n",
              "      <td>0</td>\n",
              "      <td>0</td>\n",
              "      <td>0</td>\n",
              "      <td>0</td>\n",
              "      <td>0</td>\n",
              "      <td>...</td>\n",
              "      <td>255</td>\n",
              "      <td>330</td>\n",
              "      <td>341</td>\n",
              "      <td>387</td>\n",
              "      <td>337</td>\n",
              "      <td>346</td>\n",
              "      <td>329</td>\n",
              "      <td>494</td>\n",
              "      <td>292</td>\n",
              "      <td>348</td>\n",
              "    </tr>\n",
              "    <tr>\n",
              "      <th>2021-04</th>\n",
              "      <td>0</td>\n",
              "      <td>0</td>\n",
              "      <td>0</td>\n",
              "      <td>0</td>\n",
              "      <td>0</td>\n",
              "      <td>0</td>\n",
              "      <td>0</td>\n",
              "      <td>0</td>\n",
              "      <td>0</td>\n",
              "      <td>0</td>\n",
              "      <td>...</td>\n",
              "      <td>762</td>\n",
              "      <td>227</td>\n",
              "      <td>285</td>\n",
              "      <td>308</td>\n",
              "      <td>305</td>\n",
              "      <td>348</td>\n",
              "      <td>290</td>\n",
              "      <td>261</td>\n",
              "      <td>412</td>\n",
              "      <td>314</td>\n",
              "    </tr>\n",
              "    <tr>\n",
              "      <th>2021-05</th>\n",
              "      <td>0</td>\n",
              "      <td>0</td>\n",
              "      <td>0</td>\n",
              "      <td>0</td>\n",
              "      <td>0</td>\n",
              "      <td>0</td>\n",
              "      <td>0</td>\n",
              "      <td>0</td>\n",
              "      <td>0</td>\n",
              "      <td>0</td>\n",
              "      <td>...</td>\n",
              "      <td>0</td>\n",
              "      <td>465</td>\n",
              "      <td>102</td>\n",
              "      <td>156</td>\n",
              "      <td>163</td>\n",
              "      <td>150</td>\n",
              "      <td>175</td>\n",
              "      <td>158</td>\n",
              "      <td>224</td>\n",
              "      <td>140</td>\n",
              "    </tr>\n",
              "    <tr>\n",
              "      <th>2021-06</th>\n",
              "      <td>0</td>\n",
              "      <td>0</td>\n",
              "      <td>0</td>\n",
              "      <td>0</td>\n",
              "      <td>0</td>\n",
              "      <td>0</td>\n",
              "      <td>0</td>\n",
              "      <td>0</td>\n",
              "      <td>0</td>\n",
              "      <td>0</td>\n",
              "      <td>...</td>\n",
              "      <td>0</td>\n",
              "      <td>0</td>\n",
              "      <td>769</td>\n",
              "      <td>250</td>\n",
              "      <td>298</td>\n",
              "      <td>329</td>\n",
              "      <td>323</td>\n",
              "      <td>325</td>\n",
              "      <td>281</td>\n",
              "      <td>432</td>\n",
              "    </tr>\n",
              "    <tr>\n",
              "      <th>2021-07</th>\n",
              "      <td>0</td>\n",
              "      <td>0</td>\n",
              "      <td>0</td>\n",
              "      <td>0</td>\n",
              "      <td>0</td>\n",
              "      <td>0</td>\n",
              "      <td>0</td>\n",
              "      <td>0</td>\n",
              "      <td>0</td>\n",
              "      <td>0</td>\n",
              "      <td>...</td>\n",
              "      <td>0</td>\n",
              "      <td>0</td>\n",
              "      <td>0</td>\n",
              "      <td>1573</td>\n",
              "      <td>542</td>\n",
              "      <td>680</td>\n",
              "      <td>732</td>\n",
              "      <td>756</td>\n",
              "      <td>687</td>\n",
              "      <td>905</td>\n",
              "    </tr>\n",
              "    <tr>\n",
              "      <th>2021-08</th>\n",
              "      <td>0</td>\n",
              "      <td>0</td>\n",
              "      <td>0</td>\n",
              "      <td>0</td>\n",
              "      <td>0</td>\n",
              "      <td>0</td>\n",
              "      <td>0</td>\n",
              "      <td>0</td>\n",
              "      <td>0</td>\n",
              "      <td>0</td>\n",
              "      <td>...</td>\n",
              "      <td>0</td>\n",
              "      <td>0</td>\n",
              "      <td>0</td>\n",
              "      <td>0</td>\n",
              "      <td>1160</td>\n",
              "      <td>432</td>\n",
              "      <td>538</td>\n",
              "      <td>536</td>\n",
              "      <td>615</td>\n",
              "      <td>506</td>\n",
              "    </tr>\n",
              "    <tr>\n",
              "      <th>2021-09</th>\n",
              "      <td>0</td>\n",
              "      <td>0</td>\n",
              "      <td>0</td>\n",
              "      <td>0</td>\n",
              "      <td>0</td>\n",
              "      <td>0</td>\n",
              "      <td>0</td>\n",
              "      <td>0</td>\n",
              "      <td>0</td>\n",
              "      <td>0</td>\n",
              "      <td>...</td>\n",
              "      <td>0</td>\n",
              "      <td>0</td>\n",
              "      <td>0</td>\n",
              "      <td>0</td>\n",
              "      <td>0</td>\n",
              "      <td>978</td>\n",
              "      <td>370</td>\n",
              "      <td>452</td>\n",
              "      <td>444</td>\n",
              "      <td>473</td>\n",
              "    </tr>\n",
              "    <tr>\n",
              "      <th>2021-10</th>\n",
              "      <td>0</td>\n",
              "      <td>0</td>\n",
              "      <td>0</td>\n",
              "      <td>0</td>\n",
              "      <td>0</td>\n",
              "      <td>0</td>\n",
              "      <td>0</td>\n",
              "      <td>0</td>\n",
              "      <td>0</td>\n",
              "      <td>0</td>\n",
              "      <td>...</td>\n",
              "      <td>0</td>\n",
              "      <td>0</td>\n",
              "      <td>0</td>\n",
              "      <td>0</td>\n",
              "      <td>0</td>\n",
              "      <td>0</td>\n",
              "      <td>1052</td>\n",
              "      <td>405</td>\n",
              "      <td>503</td>\n",
              "      <td>542</td>\n",
              "    </tr>\n",
              "    <tr>\n",
              "      <th>2021-11</th>\n",
              "      <td>0</td>\n",
              "      <td>0</td>\n",
              "      <td>0</td>\n",
              "      <td>0</td>\n",
              "      <td>0</td>\n",
              "      <td>0</td>\n",
              "      <td>0</td>\n",
              "      <td>0</td>\n",
              "      <td>0</td>\n",
              "      <td>0</td>\n",
              "      <td>...</td>\n",
              "      <td>0</td>\n",
              "      <td>0</td>\n",
              "      <td>0</td>\n",
              "      <td>0</td>\n",
              "      <td>0</td>\n",
              "      <td>0</td>\n",
              "      <td>0</td>\n",
              "      <td>1009</td>\n",
              "      <td>394</td>\n",
              "      <td>471</td>\n",
              "    </tr>\n",
              "    <tr>\n",
              "      <th>2021-12</th>\n",
              "      <td>0</td>\n",
              "      <td>0</td>\n",
              "      <td>0</td>\n",
              "      <td>0</td>\n",
              "      <td>0</td>\n",
              "      <td>0</td>\n",
              "      <td>0</td>\n",
              "      <td>0</td>\n",
              "      <td>0</td>\n",
              "      <td>0</td>\n",
              "      <td>...</td>\n",
              "      <td>0</td>\n",
              "      <td>0</td>\n",
              "      <td>0</td>\n",
              "      <td>0</td>\n",
              "      <td>0</td>\n",
              "      <td>0</td>\n",
              "      <td>0</td>\n",
              "      <td>0</td>\n",
              "      <td>476</td>\n",
              "      <td>134</td>\n",
              "    </tr>\n",
              "    <tr>\n",
              "      <th>2022-01</th>\n",
              "      <td>0</td>\n",
              "      <td>0</td>\n",
              "      <td>0</td>\n",
              "      <td>0</td>\n",
              "      <td>0</td>\n",
              "      <td>0</td>\n",
              "      <td>0</td>\n",
              "      <td>0</td>\n",
              "      <td>0</td>\n",
              "      <td>0</td>\n",
              "      <td>...</td>\n",
              "      <td>0</td>\n",
              "      <td>0</td>\n",
              "      <td>0</td>\n",
              "      <td>0</td>\n",
              "      <td>0</td>\n",
              "      <td>0</td>\n",
              "      <td>0</td>\n",
              "      <td>0</td>\n",
              "      <td>0</td>\n",
              "      <td>1062</td>\n",
              "    </tr>\n",
              "  </tbody>\n",
              "</table>\n",
              "<p>25 rows × 25 columns</p>\n",
              "</div>\n",
              "      <button class=\"colab-df-convert\" onclick=\"convertToInteractive('df-ee70feff-6c47-460d-8c55-a52c3c6dfd43')\"\n",
              "              title=\"Convert this dataframe to an interactive table.\"\n",
              "              style=\"display:none;\">\n",
              "        \n",
              "  <svg xmlns=\"http://www.w3.org/2000/svg\" height=\"24px\"viewBox=\"0 0 24 24\"\n",
              "       width=\"24px\">\n",
              "    <path d=\"M0 0h24v24H0V0z\" fill=\"none\"/>\n",
              "    <path d=\"M18.56 5.44l.94 2.06.94-2.06 2.06-.94-2.06-.94-.94-2.06-.94 2.06-2.06.94zm-11 1L8.5 8.5l.94-2.06 2.06-.94-2.06-.94L8.5 2.5l-.94 2.06-2.06.94zm10 10l.94 2.06.94-2.06 2.06-.94-2.06-.94-.94-2.06-.94 2.06-2.06.94z\"/><path d=\"M17.41 7.96l-1.37-1.37c-.4-.4-.92-.59-1.43-.59-.52 0-1.04.2-1.43.59L10.3 9.45l-7.72 7.72c-.78.78-.78 2.05 0 2.83L4 21.41c.39.39.9.59 1.41.59.51 0 1.02-.2 1.41-.59l7.78-7.78 2.81-2.81c.8-.78.8-2.07 0-2.86zM5.41 20L4 18.59l7.72-7.72 1.47 1.35L5.41 20z\"/>\n",
              "  </svg>\n",
              "      </button>\n",
              "      \n",
              "  <style>\n",
              "    .colab-df-container {\n",
              "      display:flex;\n",
              "      flex-wrap:wrap;\n",
              "      gap: 12px;\n",
              "    }\n",
              "\n",
              "    .colab-df-convert {\n",
              "      background-color: #E8F0FE;\n",
              "      border: none;\n",
              "      border-radius: 50%;\n",
              "      cursor: pointer;\n",
              "      display: none;\n",
              "      fill: #1967D2;\n",
              "      height: 32px;\n",
              "      padding: 0 0 0 0;\n",
              "      width: 32px;\n",
              "    }\n",
              "\n",
              "    .colab-df-convert:hover {\n",
              "      background-color: #E2EBFA;\n",
              "      box-shadow: 0px 1px 2px rgba(60, 64, 67, 0.3), 0px 1px 3px 1px rgba(60, 64, 67, 0.15);\n",
              "      fill: #174EA6;\n",
              "    }\n",
              "\n",
              "    [theme=dark] .colab-df-convert {\n",
              "      background-color: #3B4455;\n",
              "      fill: #D2E3FC;\n",
              "    }\n",
              "\n",
              "    [theme=dark] .colab-df-convert:hover {\n",
              "      background-color: #434B5C;\n",
              "      box-shadow: 0px 1px 3px 1px rgba(0, 0, 0, 0.15);\n",
              "      filter: drop-shadow(0px 1px 2px rgba(0, 0, 0, 0.3));\n",
              "      fill: #FFFFFF;\n",
              "    }\n",
              "  </style>\n",
              "\n",
              "      <script>\n",
              "        const buttonEl =\n",
              "          document.querySelector('#df-ee70feff-6c47-460d-8c55-a52c3c6dfd43 button.colab-df-convert');\n",
              "        buttonEl.style.display =\n",
              "          google.colab.kernel.accessAllowed ? 'block' : 'none';\n",
              "\n",
              "        async function convertToInteractive(key) {\n",
              "          const element = document.querySelector('#df-ee70feff-6c47-460d-8c55-a52c3c6dfd43');\n",
              "          const dataTable =\n",
              "            await google.colab.kernel.invokeFunction('convertToInteractive',\n",
              "                                                     [key], {});\n",
              "          if (!dataTable) return;\n",
              "\n",
              "          const docLinkHtml = 'Like what you see? Visit the ' +\n",
              "            '<a target=\"_blank\" href=https://colab.research.google.com/notebooks/data_table.ipynb>data table notebook</a>'\n",
              "            + ' to learn more about interactive tables.';\n",
              "          element.innerHTML = '';\n",
              "          dataTable['output_type'] = 'display_data';\n",
              "          await google.colab.output.renderOutput(dataTable, element);\n",
              "          const docLink = document.createElement('div');\n",
              "          docLink.innerHTML = docLinkHtml;\n",
              "          element.appendChild(docLink);\n",
              "        }\n",
              "      </script>\n",
              "    </div>\n",
              "  </div>\n",
              "  "
            ]
          },
          "metadata": {},
          "execution_count": 27
        }
      ],
      "source": [
        "a"
      ]
    },
    {
      "cell_type": "code",
      "execution_count": null,
      "metadata": {
        "colab": {
          "base_uri": "https://localhost:8080/"
        },
        "id": "pTh3zq9MBfIa",
        "outputId": "fdcd6eb6-1486-4092-809d-38a5e18c60b1"
      },
      "outputs": [
        {
          "output_type": "execute_result",
          "data": {
            "text/plain": [
              "array([['2017-01'],\n",
              "       ['2017-02'],\n",
              "       ['2017-03'],\n",
              "       ['2017-04'],\n",
              "       ['2017-05'],\n",
              "       ['2017-06'],\n",
              "       ['2017-07'],\n",
              "       ['2017-08'],\n",
              "       ['2017-09'],\n",
              "       ['2017-10'],\n",
              "       ['2017-11'],\n",
              "       ['2017-12']], dtype=object)"
            ]
          },
          "metadata": {},
          "execution_count": 28
        }
      ],
      "source": [
        "np.array(pd.DataFrame(df_trial['month'].unique()).sort_values(0, ascending = True).iloc[7:19])"
      ]
    },
    {
      "cell_type": "code",
      "execution_count": null,
      "metadata": {
        "id": "XyAE7h1-4uHD"
      },
      "outputs": [],
      "source": [
        "data2017 = np.array(pd.DataFrame(df_trial['month'].unique()).sort_values(0, ascending = True).reset_index()[0].iloc[7:19])\n",
        "data2018 = np.array(pd.DataFrame(df_trial['month'].unique()).sort_values(0, ascending = True).reset_index()[0].iloc[19:31])\n",
        "data2019 = np.array(pd.DataFrame(df_trial['month'].unique()).sort_values(0, ascending = True).reset_index()[0].iloc[31:43])\n",
        "data2020 = np.array(pd.DataFrame(df_trial['month'].unique()).sort_values(0, ascending = True).reset_index()[0].iloc[33:45])\n",
        "data2021 = np.array(pd.DataFrame(df_trial['month'].unique()).sort_values(0, ascending = True).reset_index()[0].iloc[45:57])\n",
        "data2022 = np.array(pd.DataFrame(df_trial['month'].unique()).sort_values(0, ascending = True).reset_index()[0].iloc[57:])"
      ]
    },
    {
      "cell_type": "code",
      "execution_count": null,
      "metadata": {
        "id": "M1Hwq5DLmAwk"
      },
      "outputs": [],
      "source": [
        "def segmentation(array_month):\n",
        "  temp_array = []\n",
        "  for i in range(len(array_month)):\n",
        "    temp = df_trial[df_trial['month'] == array_month[i]]\n",
        "    temp_array.append(temp)\n",
        "  return temp_array"
      ]
    },
    {
      "cell_type": "code",
      "execution_count": null,
      "metadata": {
        "id": "bJah54EtDizr"
      },
      "outputs": [],
      "source": [
        "tahun2017 = segmentation(data2021)"
      ]
    },
    {
      "cell_type": "code",
      "execution_count": null,
      "metadata": {
        "colab": {
          "base_uri": "https://localhost:8080/",
          "height": 424
        },
        "id": "_Tz2lKRTZY8C",
        "outputId": "df3f0870-a3b2-4010-e0b0-f5a471ebe3e6"
      },
      "outputs": [
        {
          "output_type": "execute_result",
          "data": {
            "text/plain": [
              "                             created_at  customer_id    month  \\\n",
              "6      2020-03-17 08:36:24.395556+00:00        31159  2020-03   \n",
              "66     2020-03-03 23:18:30.625797+00:00        28441  2020-03   \n",
              "124    2020-03-22 09:03:00.982387+00:00        33025  2020-03   \n",
              "134    2020-03-18 10:02:59.065284+00:00        76304  2020-03   \n",
              "199    2020-03-05 22:15:10.641407+00:00        51778  2020-03   \n",
              "...                                 ...          ...      ...   \n",
              "852413 2020-03-06 09:47:09.660888+00:00        44024  2020-03   \n",
              "852440 2020-03-30 20:46:22.451209+00:00         6311  2020-03   \n",
              "852469 2020-03-07 02:10:19.365024+00:00        57621  2020-03   \n",
              "852518 2020-03-30 01:00:12.821267+00:00        37247  2020-03   \n",
              "852567 2020-03-02 14:50:42.746358+00:00        79206  2020-03   \n",
              "\n",
              "                            first_order first_month  \n",
              "6      2018-08-15 05:24:21.395556+00:00     2018-08  \n",
              "66     2017-05-13 20:18:11.625797+00:00     2017-05  \n",
              "124    2020-03-22 09:03:00.982387+00:00     2020-03  \n",
              "134    2019-05-15 10:14:19.065284+00:00     2019-05  \n",
              "199    2018-09-30 20:44:12.641407+00:00     2018-09  \n",
              "...                                 ...         ...  \n",
              "852413 2019-06-24 03:32:04.660888+00:00     2019-06  \n",
              "852440 2017-10-09 18:25:31.451209+00:00     2017-10  \n",
              "852469 2018-04-13 21:46:35.365024+00:00     2018-04  \n",
              "852518 2018-06-03 23:45:27.821267+00:00     2018-06  \n",
              "852567 2017-09-04 01:20:53.746358+00:00     2017-09  \n",
              "\n",
              "[12286 rows x 5 columns]"
            ],
            "text/html": [
              "\n",
              "  <div id=\"df-3763426c-064c-4b60-a759-70aed14c74bb\">\n",
              "    <div class=\"colab-df-container\">\n",
              "      <div>\n",
              "<style scoped>\n",
              "    .dataframe tbody tr th:only-of-type {\n",
              "        vertical-align: middle;\n",
              "    }\n",
              "\n",
              "    .dataframe tbody tr th {\n",
              "        vertical-align: top;\n",
              "    }\n",
              "\n",
              "    .dataframe thead th {\n",
              "        text-align: right;\n",
              "    }\n",
              "</style>\n",
              "<table border=\"1\" class=\"dataframe\">\n",
              "  <thead>\n",
              "    <tr style=\"text-align: right;\">\n",
              "      <th></th>\n",
              "      <th>created_at</th>\n",
              "      <th>customer_id</th>\n",
              "      <th>month</th>\n",
              "      <th>first_order</th>\n",
              "      <th>first_month</th>\n",
              "    </tr>\n",
              "  </thead>\n",
              "  <tbody>\n",
              "    <tr>\n",
              "      <th>6</th>\n",
              "      <td>2020-03-17 08:36:24.395556+00:00</td>\n",
              "      <td>31159</td>\n",
              "      <td>2020-03</td>\n",
              "      <td>2018-08-15 05:24:21.395556+00:00</td>\n",
              "      <td>2018-08</td>\n",
              "    </tr>\n",
              "    <tr>\n",
              "      <th>66</th>\n",
              "      <td>2020-03-03 23:18:30.625797+00:00</td>\n",
              "      <td>28441</td>\n",
              "      <td>2020-03</td>\n",
              "      <td>2017-05-13 20:18:11.625797+00:00</td>\n",
              "      <td>2017-05</td>\n",
              "    </tr>\n",
              "    <tr>\n",
              "      <th>124</th>\n",
              "      <td>2020-03-22 09:03:00.982387+00:00</td>\n",
              "      <td>33025</td>\n",
              "      <td>2020-03</td>\n",
              "      <td>2020-03-22 09:03:00.982387+00:00</td>\n",
              "      <td>2020-03</td>\n",
              "    </tr>\n",
              "    <tr>\n",
              "      <th>134</th>\n",
              "      <td>2020-03-18 10:02:59.065284+00:00</td>\n",
              "      <td>76304</td>\n",
              "      <td>2020-03</td>\n",
              "      <td>2019-05-15 10:14:19.065284+00:00</td>\n",
              "      <td>2019-05</td>\n",
              "    </tr>\n",
              "    <tr>\n",
              "      <th>199</th>\n",
              "      <td>2020-03-05 22:15:10.641407+00:00</td>\n",
              "      <td>51778</td>\n",
              "      <td>2020-03</td>\n",
              "      <td>2018-09-30 20:44:12.641407+00:00</td>\n",
              "      <td>2018-09</td>\n",
              "    </tr>\n",
              "    <tr>\n",
              "      <th>...</th>\n",
              "      <td>...</td>\n",
              "      <td>...</td>\n",
              "      <td>...</td>\n",
              "      <td>...</td>\n",
              "      <td>...</td>\n",
              "    </tr>\n",
              "    <tr>\n",
              "      <th>852413</th>\n",
              "      <td>2020-03-06 09:47:09.660888+00:00</td>\n",
              "      <td>44024</td>\n",
              "      <td>2020-03</td>\n",
              "      <td>2019-06-24 03:32:04.660888+00:00</td>\n",
              "      <td>2019-06</td>\n",
              "    </tr>\n",
              "    <tr>\n",
              "      <th>852440</th>\n",
              "      <td>2020-03-30 20:46:22.451209+00:00</td>\n",
              "      <td>6311</td>\n",
              "      <td>2020-03</td>\n",
              "      <td>2017-10-09 18:25:31.451209+00:00</td>\n",
              "      <td>2017-10</td>\n",
              "    </tr>\n",
              "    <tr>\n",
              "      <th>852469</th>\n",
              "      <td>2020-03-07 02:10:19.365024+00:00</td>\n",
              "      <td>57621</td>\n",
              "      <td>2020-03</td>\n",
              "      <td>2018-04-13 21:46:35.365024+00:00</td>\n",
              "      <td>2018-04</td>\n",
              "    </tr>\n",
              "    <tr>\n",
              "      <th>852518</th>\n",
              "      <td>2020-03-30 01:00:12.821267+00:00</td>\n",
              "      <td>37247</td>\n",
              "      <td>2020-03</td>\n",
              "      <td>2018-06-03 23:45:27.821267+00:00</td>\n",
              "      <td>2018-06</td>\n",
              "    </tr>\n",
              "    <tr>\n",
              "      <th>852567</th>\n",
              "      <td>2020-03-02 14:50:42.746358+00:00</td>\n",
              "      <td>79206</td>\n",
              "      <td>2020-03</td>\n",
              "      <td>2017-09-04 01:20:53.746358+00:00</td>\n",
              "      <td>2017-09</td>\n",
              "    </tr>\n",
              "  </tbody>\n",
              "</table>\n",
              "<p>12286 rows × 5 columns</p>\n",
              "</div>\n",
              "      <button class=\"colab-df-convert\" onclick=\"convertToInteractive('df-3763426c-064c-4b60-a759-70aed14c74bb')\"\n",
              "              title=\"Convert this dataframe to an interactive table.\"\n",
              "              style=\"display:none;\">\n",
              "        \n",
              "  <svg xmlns=\"http://www.w3.org/2000/svg\" height=\"24px\"viewBox=\"0 0 24 24\"\n",
              "       width=\"24px\">\n",
              "    <path d=\"M0 0h24v24H0V0z\" fill=\"none\"/>\n",
              "    <path d=\"M18.56 5.44l.94 2.06.94-2.06 2.06-.94-2.06-.94-.94-2.06-.94 2.06-2.06.94zm-11 1L8.5 8.5l.94-2.06 2.06-.94-2.06-.94L8.5 2.5l-.94 2.06-2.06.94zm10 10l.94 2.06.94-2.06 2.06-.94-2.06-.94-.94-2.06-.94 2.06-2.06.94z\"/><path d=\"M17.41 7.96l-1.37-1.37c-.4-.4-.92-.59-1.43-.59-.52 0-1.04.2-1.43.59L10.3 9.45l-7.72 7.72c-.78.78-.78 2.05 0 2.83L4 21.41c.39.39.9.59 1.41.59.51 0 1.02-.2 1.41-.59l7.78-7.78 2.81-2.81c.8-.78.8-2.07 0-2.86zM5.41 20L4 18.59l7.72-7.72 1.47 1.35L5.41 20z\"/>\n",
              "  </svg>\n",
              "      </button>\n",
              "      \n",
              "  <style>\n",
              "    .colab-df-container {\n",
              "      display:flex;\n",
              "      flex-wrap:wrap;\n",
              "      gap: 12px;\n",
              "    }\n",
              "\n",
              "    .colab-df-convert {\n",
              "      background-color: #E8F0FE;\n",
              "      border: none;\n",
              "      border-radius: 50%;\n",
              "      cursor: pointer;\n",
              "      display: none;\n",
              "      fill: #1967D2;\n",
              "      height: 32px;\n",
              "      padding: 0 0 0 0;\n",
              "      width: 32px;\n",
              "    }\n",
              "\n",
              "    .colab-df-convert:hover {\n",
              "      background-color: #E2EBFA;\n",
              "      box-shadow: 0px 1px 2px rgba(60, 64, 67, 0.3), 0px 1px 3px 1px rgba(60, 64, 67, 0.15);\n",
              "      fill: #174EA6;\n",
              "    }\n",
              "\n",
              "    [theme=dark] .colab-df-convert {\n",
              "      background-color: #3B4455;\n",
              "      fill: #D2E3FC;\n",
              "    }\n",
              "\n",
              "    [theme=dark] .colab-df-convert:hover {\n",
              "      background-color: #434B5C;\n",
              "      box-shadow: 0px 1px 3px 1px rgba(0, 0, 0, 0.15);\n",
              "      filter: drop-shadow(0px 1px 2px rgba(0, 0, 0, 0.3));\n",
              "      fill: #FFFFFF;\n",
              "    }\n",
              "  </style>\n",
              "\n",
              "      <script>\n",
              "        const buttonEl =\n",
              "          document.querySelector('#df-3763426c-064c-4b60-a759-70aed14c74bb button.colab-df-convert');\n",
              "        buttonEl.style.display =\n",
              "          google.colab.kernel.accessAllowed ? 'block' : 'none';\n",
              "\n",
              "        async function convertToInteractive(key) {\n",
              "          const element = document.querySelector('#df-3763426c-064c-4b60-a759-70aed14c74bb');\n",
              "          const dataTable =\n",
              "            await google.colab.kernel.invokeFunction('convertToInteractive',\n",
              "                                                     [key], {});\n",
              "          if (!dataTable) return;\n",
              "\n",
              "          const docLinkHtml = 'Like what you see? Visit the ' +\n",
              "            '<a target=\"_blank\" href=https://colab.research.google.com/notebooks/data_table.ipynb>data table notebook</a>'\n",
              "            + ' to learn more about interactive tables.';\n",
              "          element.innerHTML = '';\n",
              "          dataTable['output_type'] = 'display_data';\n",
              "          await google.colab.output.renderOutput(dataTable, element);\n",
              "          const docLink = document.createElement('div');\n",
              "          docLink.innerHTML = docLinkHtml;\n",
              "          element.appendChild(docLink);\n",
              "        }\n",
              "      </script>\n",
              "    </div>\n",
              "  </div>\n",
              "  "
            ]
          },
          "metadata": {},
          "execution_count": 32
        }
      ],
      "source": [
        "tahun2017[0]"
      ]
    },
    {
      "cell_type": "code",
      "execution_count": null,
      "metadata": {
        "id": "rCbfSeC08ea9"
      },
      "outputs": [],
      "source": [
        "tahun2021 = segmentation(data2022)"
      ]
    },
    {
      "cell_type": "code",
      "execution_count": null,
      "metadata": {
        "id": "m4PCMV2r3tAV"
      },
      "outputs": [],
      "source": [
        "u = pd.concat(tahun2021[:6])"
      ]
    },
    {
      "cell_type": "code",
      "execution_count": null,
      "metadata": {
        "colab": {
          "base_uri": "https://localhost:8080/",
          "height": 424
        },
        "id": "ETsfSido36LC",
        "outputId": "0f9b6821-47e6-4691-e6b9-be01e3f29f7a"
      },
      "outputs": [
        {
          "output_type": "execute_result",
          "data": {
            "text/plain": [
              "                             created_at  customer_id    month  \\\n",
              "7      2021-03-10 13:15:34.110664+00:00         1681  2021-03   \n",
              "32     2021-03-22 20:24:28.785820+00:00        47641  2021-03   \n",
              "63     2021-03-20 00:42:38.316417+00:00        19116  2021-03   \n",
              "88     2021-03-31 00:29:31.036379+00:00        49907  2021-03   \n",
              "107    2021-03-16 20:42:14.276669+00:00         6663  2021-03   \n",
              "...                                 ...          ...      ...   \n",
              "852232 2021-08-19 20:46:59.551234+00:00        67150  2021-08   \n",
              "852268 2021-08-28 20:25:50.658925+00:00        93012  2021-08   \n",
              "852296 2021-08-05 07:27:24.553224+00:00        74072  2021-08   \n",
              "852395 2021-08-31 13:42:56.019908+00:00        67299  2021-08   \n",
              "852452 2021-08-27 02:46:13.291935+00:00        78902  2021-08   \n",
              "\n",
              "                            first_order first_month  \n",
              "7      2020-03-23 11:04:37.110664+00:00     2020-03  \n",
              "32     2017-02-26 05:11:08.785820+00:00     2017-02  \n",
              "63     2019-07-28 21:09:30.316417+00:00     2019-07  \n",
              "88     2020-02-16 14:18:22.036379+00:00     2020-02  \n",
              "107    2019-05-06 09:47:06.276669+00:00     2019-05  \n",
              "...                                 ...         ...  \n",
              "852232 2017-10-13 13:49:52.551234+00:00     2017-10  \n",
              "852268 2020-09-02 09:52:03.658925+00:00     2020-09  \n",
              "852296 2019-10-15 02:02:25.553224+00:00     2019-10  \n",
              "852395 2017-07-19 10:34:33.019908+00:00     2017-07  \n",
              "852452 2020-08-15 21:51:21.291935+00:00     2020-08  \n",
              "\n",
              "[116838 rows x 5 columns]"
            ],
            "text/html": [
              "\n",
              "  <div id=\"df-1c3076ff-8f2b-4e00-b317-cd78f41ea3aa\">\n",
              "    <div class=\"colab-df-container\">\n",
              "      <div>\n",
              "<style scoped>\n",
              "    .dataframe tbody tr th:only-of-type {\n",
              "        vertical-align: middle;\n",
              "    }\n",
              "\n",
              "    .dataframe tbody tr th {\n",
              "        vertical-align: top;\n",
              "    }\n",
              "\n",
              "    .dataframe thead th {\n",
              "        text-align: right;\n",
              "    }\n",
              "</style>\n",
              "<table border=\"1\" class=\"dataframe\">\n",
              "  <thead>\n",
              "    <tr style=\"text-align: right;\">\n",
              "      <th></th>\n",
              "      <th>created_at</th>\n",
              "      <th>customer_id</th>\n",
              "      <th>month</th>\n",
              "      <th>first_order</th>\n",
              "      <th>first_month</th>\n",
              "    </tr>\n",
              "  </thead>\n",
              "  <tbody>\n",
              "    <tr>\n",
              "      <th>7</th>\n",
              "      <td>2021-03-10 13:15:34.110664+00:00</td>\n",
              "      <td>1681</td>\n",
              "      <td>2021-03</td>\n",
              "      <td>2020-03-23 11:04:37.110664+00:00</td>\n",
              "      <td>2020-03</td>\n",
              "    </tr>\n",
              "    <tr>\n",
              "      <th>32</th>\n",
              "      <td>2021-03-22 20:24:28.785820+00:00</td>\n",
              "      <td>47641</td>\n",
              "      <td>2021-03</td>\n",
              "      <td>2017-02-26 05:11:08.785820+00:00</td>\n",
              "      <td>2017-02</td>\n",
              "    </tr>\n",
              "    <tr>\n",
              "      <th>63</th>\n",
              "      <td>2021-03-20 00:42:38.316417+00:00</td>\n",
              "      <td>19116</td>\n",
              "      <td>2021-03</td>\n",
              "      <td>2019-07-28 21:09:30.316417+00:00</td>\n",
              "      <td>2019-07</td>\n",
              "    </tr>\n",
              "    <tr>\n",
              "      <th>88</th>\n",
              "      <td>2021-03-31 00:29:31.036379+00:00</td>\n",
              "      <td>49907</td>\n",
              "      <td>2021-03</td>\n",
              "      <td>2020-02-16 14:18:22.036379+00:00</td>\n",
              "      <td>2020-02</td>\n",
              "    </tr>\n",
              "    <tr>\n",
              "      <th>107</th>\n",
              "      <td>2021-03-16 20:42:14.276669+00:00</td>\n",
              "      <td>6663</td>\n",
              "      <td>2021-03</td>\n",
              "      <td>2019-05-06 09:47:06.276669+00:00</td>\n",
              "      <td>2019-05</td>\n",
              "    </tr>\n",
              "    <tr>\n",
              "      <th>...</th>\n",
              "      <td>...</td>\n",
              "      <td>...</td>\n",
              "      <td>...</td>\n",
              "      <td>...</td>\n",
              "      <td>...</td>\n",
              "    </tr>\n",
              "    <tr>\n",
              "      <th>852232</th>\n",
              "      <td>2021-08-19 20:46:59.551234+00:00</td>\n",
              "      <td>67150</td>\n",
              "      <td>2021-08</td>\n",
              "      <td>2017-10-13 13:49:52.551234+00:00</td>\n",
              "      <td>2017-10</td>\n",
              "    </tr>\n",
              "    <tr>\n",
              "      <th>852268</th>\n",
              "      <td>2021-08-28 20:25:50.658925+00:00</td>\n",
              "      <td>93012</td>\n",
              "      <td>2021-08</td>\n",
              "      <td>2020-09-02 09:52:03.658925+00:00</td>\n",
              "      <td>2020-09</td>\n",
              "    </tr>\n",
              "    <tr>\n",
              "      <th>852296</th>\n",
              "      <td>2021-08-05 07:27:24.553224+00:00</td>\n",
              "      <td>74072</td>\n",
              "      <td>2021-08</td>\n",
              "      <td>2019-10-15 02:02:25.553224+00:00</td>\n",
              "      <td>2019-10</td>\n",
              "    </tr>\n",
              "    <tr>\n",
              "      <th>852395</th>\n",
              "      <td>2021-08-31 13:42:56.019908+00:00</td>\n",
              "      <td>67299</td>\n",
              "      <td>2021-08</td>\n",
              "      <td>2017-07-19 10:34:33.019908+00:00</td>\n",
              "      <td>2017-07</td>\n",
              "    </tr>\n",
              "    <tr>\n",
              "      <th>852452</th>\n",
              "      <td>2021-08-27 02:46:13.291935+00:00</td>\n",
              "      <td>78902</td>\n",
              "      <td>2021-08</td>\n",
              "      <td>2020-08-15 21:51:21.291935+00:00</td>\n",
              "      <td>2020-08</td>\n",
              "    </tr>\n",
              "  </tbody>\n",
              "</table>\n",
              "<p>116838 rows × 5 columns</p>\n",
              "</div>\n",
              "      <button class=\"colab-df-convert\" onclick=\"convertToInteractive('df-1c3076ff-8f2b-4e00-b317-cd78f41ea3aa')\"\n",
              "              title=\"Convert this dataframe to an interactive table.\"\n",
              "              style=\"display:none;\">\n",
              "        \n",
              "  <svg xmlns=\"http://www.w3.org/2000/svg\" height=\"24px\"viewBox=\"0 0 24 24\"\n",
              "       width=\"24px\">\n",
              "    <path d=\"M0 0h24v24H0V0z\" fill=\"none\"/>\n",
              "    <path d=\"M18.56 5.44l.94 2.06.94-2.06 2.06-.94-2.06-.94-.94-2.06-.94 2.06-2.06.94zm-11 1L8.5 8.5l.94-2.06 2.06-.94-2.06-.94L8.5 2.5l-.94 2.06-2.06.94zm10 10l.94 2.06.94-2.06 2.06-.94-2.06-.94-.94-2.06-.94 2.06-2.06.94z\"/><path d=\"M17.41 7.96l-1.37-1.37c-.4-.4-.92-.59-1.43-.59-.52 0-1.04.2-1.43.59L10.3 9.45l-7.72 7.72c-.78.78-.78 2.05 0 2.83L4 21.41c.39.39.9.59 1.41.59.51 0 1.02-.2 1.41-.59l7.78-7.78 2.81-2.81c.8-.78.8-2.07 0-2.86zM5.41 20L4 18.59l7.72-7.72 1.47 1.35L5.41 20z\"/>\n",
              "  </svg>\n",
              "      </button>\n",
              "      \n",
              "  <style>\n",
              "    .colab-df-container {\n",
              "      display:flex;\n",
              "      flex-wrap:wrap;\n",
              "      gap: 12px;\n",
              "    }\n",
              "\n",
              "    .colab-df-convert {\n",
              "      background-color: #E8F0FE;\n",
              "      border: none;\n",
              "      border-radius: 50%;\n",
              "      cursor: pointer;\n",
              "      display: none;\n",
              "      fill: #1967D2;\n",
              "      height: 32px;\n",
              "      padding: 0 0 0 0;\n",
              "      width: 32px;\n",
              "    }\n",
              "\n",
              "    .colab-df-convert:hover {\n",
              "      background-color: #E2EBFA;\n",
              "      box-shadow: 0px 1px 2px rgba(60, 64, 67, 0.3), 0px 1px 3px 1px rgba(60, 64, 67, 0.15);\n",
              "      fill: #174EA6;\n",
              "    }\n",
              "\n",
              "    [theme=dark] .colab-df-convert {\n",
              "      background-color: #3B4455;\n",
              "      fill: #D2E3FC;\n",
              "    }\n",
              "\n",
              "    [theme=dark] .colab-df-convert:hover {\n",
              "      background-color: #434B5C;\n",
              "      box-shadow: 0px 1px 3px 1px rgba(0, 0, 0, 0.15);\n",
              "      filter: drop-shadow(0px 1px 2px rgba(0, 0, 0, 0.3));\n",
              "      fill: #FFFFFF;\n",
              "    }\n",
              "  </style>\n",
              "\n",
              "      <script>\n",
              "        const buttonEl =\n",
              "          document.querySelector('#df-1c3076ff-8f2b-4e00-b317-cd78f41ea3aa button.colab-df-convert');\n",
              "        buttonEl.style.display =\n",
              "          google.colab.kernel.accessAllowed ? 'block' : 'none';\n",
              "\n",
              "        async function convertToInteractive(key) {\n",
              "          const element = document.querySelector('#df-1c3076ff-8f2b-4e00-b317-cd78f41ea3aa');\n",
              "          const dataTable =\n",
              "            await google.colab.kernel.invokeFunction('convertToInteractive',\n",
              "                                                     [key], {});\n",
              "          if (!dataTable) return;\n",
              "\n",
              "          const docLinkHtml = 'Like what you see? Visit the ' +\n",
              "            '<a target=\"_blank\" href=https://colab.research.google.com/notebooks/data_table.ipynb>data table notebook</a>'\n",
              "            + ' to learn more about interactive tables.';\n",
              "          element.innerHTML = '';\n",
              "          dataTable['output_type'] = 'display_data';\n",
              "          await google.colab.output.renderOutput(dataTable, element);\n",
              "          const docLink = document.createElement('div');\n",
              "          docLink.innerHTML = docLinkHtml;\n",
              "          element.appendChild(docLink);\n",
              "        }\n",
              "      </script>\n",
              "    </div>\n",
              "  </div>\n",
              "  "
            ]
          },
          "metadata": {},
          "execution_count": 35
        }
      ],
      "source": [
        "u"
      ]
    },
    {
      "cell_type": "code",
      "execution_count": null,
      "metadata": {
        "id": "UhnZPdxAF61Z"
      },
      "outputs": [],
      "source": [
        "df_final = df.groupby('customer_id').agg({'created_at':'first',\n",
        "                                'estimated_days_arrival':'mean','payment_method':'first', 'payment_status':'first', 'promo_amount':'mean', 'shipment_fee':'mean',\n",
        "                                'total_amount':'mean', 'product_id':'count', 'quantity':'sum', 'item_price':'mean', 'gender_product':pd.Series.nunique,\n",
        "                                'master_category':pd.Series.nunique, 'season':pd.Series.nunique, 'product_name_length':'mean', 'event_id':'mean', 'search_keywords_count':'sum'})"
      ]
    },
    {
      "cell_type": "code",
      "execution_count": null,
      "metadata": {
        "id": "wgWCfjSYAZ2r"
      },
      "outputs": [],
      "source": [
        "df_final = pd.merge(df_final, customer, how = 'left', on = 'customer_id')"
      ]
    },
    {
      "cell_type": "code",
      "execution_count": null,
      "metadata": {
        "id": "vyxlZw2HJshg"
      },
      "outputs": [],
      "source": [
        "df_final_customer = df_final.reset_index()"
      ]
    },
    {
      "cell_type": "markdown",
      "metadata": {
        "id": "MbHSsS3D93Ph"
      },
      "source": [
        "#disini mulainya"
      ]
    },
    {
      "cell_type": "code",
      "execution_count": null,
      "metadata": {
        "id": "W-xe7x6e2dxn"
      },
      "outputs": [],
      "source": [
        "#untuk di dashboard\n",
        "a = df_trial_a.pivot_table(index = \"first_month\",\n",
        "                 columns = \"month\",\n",
        "                 values = \"customer_id\",\n",
        "                 aggfunc = pd.Series.nunique,\n",
        "                 fill_value = 0)"
      ]
    },
    {
      "cell_type": "code",
      "execution_count": null,
      "metadata": {
        "id": "38EI9VYgBr2Y"
      },
      "outputs": [],
      "source": [
        "data2020 = np.array(pd.DataFrame(df_trial['month'].unique()).sort_values(0, ascending = True).reset_index()[0].iloc[43:55])\n",
        "data2021 = np.array(pd.DataFrame(df_trial['month'].unique()).sort_values(0, ascending = True).reset_index()[0].iloc[55:67])"
      ]
    },
    {
      "cell_type": "code",
      "execution_count": null,
      "metadata": {
        "id": "C-ukd7DIByPn"
      },
      "outputs": [],
      "source": [
        "tahun2020 = segmentation(data2020)\n",
        "tahun2021 = segmentation(data2021)"
      ]
    },
    {
      "cell_type": "code",
      "execution_count": null,
      "metadata": {
        "id": "eIgs3sAThGSI"
      },
      "outputs": [],
      "source": [
        "tahun2021a = pd.concat(tahun2021[:2]).groupby(['customer_id', 'month']).count().reset_index()\n",
        "tahun2021b = pd.concat(tahun2021[3:5]).groupby(['customer_id', 'month']).count().reset_index()\n",
        "\n",
        "tahun2021c = pd.concat(tahun2021[6:8]).groupby(['customer_id', 'month']).count().reset_index()\n",
        "tahun2021d = pd.concat(tahun2021[9:11]).groupby(['customer_id', 'month']).count().reset_index()"
      ]
    },
    {
      "cell_type": "code",
      "execution_count": null,
      "metadata": {
        "id": "KqTSjloIB2nT"
      },
      "outputs": [],
      "source": [
        "tahun2020a = pd.concat(tahun2020[:2]).groupby(['customer_id', 'month']).count().reset_index()\n",
        "tahun2020b = pd.concat(tahun2020[3:5]).groupby(['customer_id', 'month']).count().reset_index()\n",
        "\n",
        "tahun2020c = pd.concat(tahun2020[6:8]).groupby(['customer_id', 'month']).count().reset_index()\n",
        "tahun2020d = pd.concat(tahun2020[9:11]).groupby(['customer_id', 'month']).count().reset_index()"
      ]
    },
    {
      "cell_type": "code",
      "execution_count": null,
      "metadata": {
        "id": "WPcTAZHz_Nsv"
      },
      "outputs": [],
      "source": [
        "final2020 = pd.merge(tahun2020a, tahun2020b, on = 'customer_id', how = 'outer')\n",
        "final2020.fillna(0, inplace=True)\n",
        "\n",
        "final2020.loc[(final2020['created_at_x'] > 0) & (final2020['created_at_y'] > 0), 'customer_segment'] = 'not_churn'\n",
        "final2020.loc[(final2020['created_at_x'] > 0) & (final2020['created_at_y'] == 0), 'customer_segment'] = 'churn'\n",
        "final2020.loc[(final2020['created_at_x'] == 0) & (final2020['created_at_y'] > 0), 'customer_segment'] = 'new_cust'\n",
        "final2020.loc[(final2020['created_at_x'] == 0) & (final2020['created_at_y'] == 0), 'customer_segment'] = 'passive'"
      ]
    },
    {
      "cell_type": "code",
      "execution_count": null,
      "metadata": {
        "id": "SOPd-oCpjVuI"
      },
      "outputs": [],
      "source": [
        "final2020a = pd.merge(tahun2020c, tahun2020d, on = 'customer_id', how = 'outer')\n",
        "final2020a.fillna(0, inplace=True)\n",
        "\n",
        "final2020a.loc[(final2020a['created_at_x'] > 0) & (final2020a['created_at_y'] == 0), 'customer_segment'] = 'churn'\n",
        "final2020a.loc[(final2020a['created_at_x'] > 0) & (final2020a['created_at_y'] > 0), 'customer_segment'] = 'not_churn'\n",
        "final2020a.loc[(final2020a['created_at_x'] == 0) & (final2020a['created_at_y'] > 0), 'customer_segment'] = 'new_cust'\n",
        "final2020a.loc[(final2020a['created_at_x'] == 0) & (final2020a['created_at_y'] == 0), 'customer_segment'] = 'passive'"
      ]
    },
    {
      "cell_type": "code",
      "execution_count": null,
      "metadata": {
        "id": "qbChc6JWknvY"
      },
      "outputs": [],
      "source": [
        "final2021 = pd.merge(tahun2021a, tahun2021b, on = 'customer_id', how = 'outer')\n",
        "final2021.fillna(0, inplace=True)\n",
        "\n",
        "final2021.loc[(final2021['created_at_x'] > 0) & (final2021['created_at_y'] > 0), 'customer_segment'] = 'not_churn'\n",
        "final2021.loc[(final2021['created_at_x'] > 0) & (final2021['created_at_y'] == 0), 'customer_segment'] = 'churn'\n",
        "final2021.loc[(final2021['created_at_x'] == 0) & (final2021['created_at_y'] > 0), 'customer_segment'] = 'new_cust'\n",
        "final2021.loc[(final2021['created_at_x'] == 0) & (final2021['created_at_y'] == 0), 'customer_segment'] = 'passive'"
      ]
    },
    {
      "cell_type": "code",
      "execution_count": null,
      "metadata": {
        "id": "gXGt0EbIky3H"
      },
      "outputs": [],
      "source": [
        "final2021a = pd.merge(tahun2021c, tahun2021d, on = 'customer_id', how = 'outer')\n",
        "final2021a.fillna(0, inplace=True)\n",
        "\n",
        "final2021a.loc[(final2021a['created_at_x'] > 0) & (final2021a['created_at_y'] > 0), 'customer_segment'] = 'not_churn'\n",
        "final2021a.loc[(final2021a['created_at_x'] > 0) & (final2021a['created_at_y'] == 0), 'customer_segment'] = 'churn'\n",
        "final2021a.loc[(final2021a['created_at_x'] == 0) & (final2021a['created_at_y'] > 0), 'customer_segment'] = 'new_cust'\n",
        "final2021a.loc[(final2021a['created_at_x'] == 0) & (final2021a['created_at_y'] == 0), 'customer_segment'] = 'passive'"
      ]
    },
    {
      "cell_type": "code",
      "execution_count": null,
      "metadata": {
        "colab": {
          "base_uri": "https://localhost:8080/"
        },
        "id": "pQBBlJmUbxWJ",
        "outputId": "490200bb-e849-4c7d-9e4d-57a7e58eb507"
      },
      "outputs": [
        {
          "output_type": "execute_result",
          "data": {
            "text/plain": [
              "not_churn    27731\n",
              "new_cust      5405\n",
              "churn         4276\n",
              "Name: customer_segment, dtype: int64"
            ]
          },
          "metadata": {},
          "execution_count": 48
        }
      ],
      "source": [
        "final2020a['customer_segment'].value_counts()"
      ]
    },
    {
      "cell_type": "code",
      "execution_count": null,
      "metadata": {
        "id": "SINxPWfKHkwo"
      },
      "outputs": [],
      "source": [
        "data_2020 = pd.concat([final2020, final2020a])"
      ]
    },
    {
      "cell_type": "code",
      "execution_count": null,
      "metadata": {
        "id": "5scg5jXSkYq3"
      },
      "outputs": [],
      "source": [
        "data_2021 = pd.concat([final2021, final2021a])"
      ]
    },
    {
      "cell_type": "code",
      "execution_count": null,
      "metadata": {
        "id": "EEQU9mdNlE0Y"
      },
      "outputs": [],
      "source": [
        "data_ml = pd.concat([data_2020, data_2021])"
      ]
    },
    {
      "cell_type": "code",
      "execution_count": null,
      "metadata": {
        "id": "MgqUIWCTqHwj"
      },
      "outputs": [],
      "source": [
        "data_ml = data_ml.groupby('customer_id').first()"
      ]
    },
    {
      "cell_type": "code",
      "execution_count": null,
      "metadata": {
        "colab": {
          "base_uri": "https://localhost:8080/"
        },
        "id": "MtJQOkPvqTuD",
        "outputId": "b06dfab5-90b0-4bae-faa8-cedaabe8d0ac"
      },
      "outputs": [
        {
          "output_type": "execute_result",
          "data": {
            "text/plain": [
              "not_churn    14272\n",
              "new_cust     12585\n",
              "churn         9632\n",
              "Name: customer_segment, dtype: int64"
            ]
          },
          "metadata": {},
          "execution_count": 53
        }
      ],
      "source": [
        "data_ml['customer_segment'].value_counts()"
      ]
    },
    {
      "cell_type": "code",
      "execution_count": null,
      "metadata": {
        "id": "18ajEnPDlX8L"
      },
      "outputs": [],
      "source": [
        "data_ml = pd.merge(data_ml, df_final_customer, how = 'left', on = 'customer_id')"
      ]
    },
    {
      "cell_type": "code",
      "execution_count": null,
      "metadata": {
        "colab": {
          "base_uri": "https://localhost:8080/",
          "height": 300
        },
        "id": "VSymkmCUlnix",
        "outputId": "2d6f8ee0-0340-44ce-f7e9-41d6e4096bf4"
      },
      "outputs": [
        {
          "output_type": "execute_result",
          "data": {
            "text/plain": [
              "   customer_id  month_x  created_at_x  first_order_x  first_month_x  month_y  \\\n",
              "0            3  2020-01           1.0            1.0            1.0  2020-04   \n",
              "1            8  2021-02           1.0            1.0            1.0  2021-04   \n",
              "2            9        0           0.0            0.0            0.0  2021-11   \n",
              "3           15        0           0.0            0.0            0.0  2020-04   \n",
              "4           18  2020-01           1.0            1.0            1.0  2020-04   \n",
              "\n",
              "   created_at_y  first_order_y  first_month_y customer_segment  ...  \\\n",
              "0           1.0            1.0            1.0        not_churn  ...   \n",
              "1           1.0            1.0            1.0        not_churn  ...   \n",
              "2           1.0            1.0            1.0         new_cust  ...   \n",
              "3           1.0            1.0            1.0         new_cust  ...   \n",
              "4           1.0            1.0            1.0        not_churn  ...   \n",
              "\n",
              "   product_name_length   event_id  search_keywords_count  gender  device_type  \\\n",
              "0            36.173203  13.372549                   51.0       1            0   \n",
              "1            34.642857  28.857143                    9.0       0            0   \n",
              "2            34.250000   9.833333                    4.0       0            0   \n",
              "3            35.720000  11.400000                    3.0       0            0   \n",
              "4            34.964286  15.928571                   54.0       0            0   \n",
              "\n",
              "   age  lengthjoin_months  homelocation_category  cust_age_category  \\\n",
              "0   36                 51                      0                  0   \n",
              "1   22                 21                      1                  2   \n",
              "2   16                 17                      0                  3   \n",
              "3   39                 38                      0                  0   \n",
              "4   27                 44                      0                  1   \n",
              "\n",
              "   membership  \n",
              "0           0  \n",
              "1           2  \n",
              "2           2  \n",
              "3           0  \n",
              "4           0  \n",
              "\n",
              "[5 rows x 34 columns]"
            ],
            "text/html": [
              "\n",
              "  <div id=\"df-579aba91-46ba-4fc7-bd4a-24d6e3e44cd6\">\n",
              "    <div class=\"colab-df-container\">\n",
              "      <div>\n",
              "<style scoped>\n",
              "    .dataframe tbody tr th:only-of-type {\n",
              "        vertical-align: middle;\n",
              "    }\n",
              "\n",
              "    .dataframe tbody tr th {\n",
              "        vertical-align: top;\n",
              "    }\n",
              "\n",
              "    .dataframe thead th {\n",
              "        text-align: right;\n",
              "    }\n",
              "</style>\n",
              "<table border=\"1\" class=\"dataframe\">\n",
              "  <thead>\n",
              "    <tr style=\"text-align: right;\">\n",
              "      <th></th>\n",
              "      <th>customer_id</th>\n",
              "      <th>month_x</th>\n",
              "      <th>created_at_x</th>\n",
              "      <th>first_order_x</th>\n",
              "      <th>first_month_x</th>\n",
              "      <th>month_y</th>\n",
              "      <th>created_at_y</th>\n",
              "      <th>first_order_y</th>\n",
              "      <th>first_month_y</th>\n",
              "      <th>customer_segment</th>\n",
              "      <th>...</th>\n",
              "      <th>product_name_length</th>\n",
              "      <th>event_id</th>\n",
              "      <th>search_keywords_count</th>\n",
              "      <th>gender</th>\n",
              "      <th>device_type</th>\n",
              "      <th>age</th>\n",
              "      <th>lengthjoin_months</th>\n",
              "      <th>homelocation_category</th>\n",
              "      <th>cust_age_category</th>\n",
              "      <th>membership</th>\n",
              "    </tr>\n",
              "  </thead>\n",
              "  <tbody>\n",
              "    <tr>\n",
              "      <th>0</th>\n",
              "      <td>3</td>\n",
              "      <td>2020-01</td>\n",
              "      <td>1.0</td>\n",
              "      <td>1.0</td>\n",
              "      <td>1.0</td>\n",
              "      <td>2020-04</td>\n",
              "      <td>1.0</td>\n",
              "      <td>1.0</td>\n",
              "      <td>1.0</td>\n",
              "      <td>not_churn</td>\n",
              "      <td>...</td>\n",
              "      <td>36.173203</td>\n",
              "      <td>13.372549</td>\n",
              "      <td>51.0</td>\n",
              "      <td>1</td>\n",
              "      <td>0</td>\n",
              "      <td>36</td>\n",
              "      <td>51</td>\n",
              "      <td>0</td>\n",
              "      <td>0</td>\n",
              "      <td>0</td>\n",
              "    </tr>\n",
              "    <tr>\n",
              "      <th>1</th>\n",
              "      <td>8</td>\n",
              "      <td>2021-02</td>\n",
              "      <td>1.0</td>\n",
              "      <td>1.0</td>\n",
              "      <td>1.0</td>\n",
              "      <td>2021-04</td>\n",
              "      <td>1.0</td>\n",
              "      <td>1.0</td>\n",
              "      <td>1.0</td>\n",
              "      <td>not_churn</td>\n",
              "      <td>...</td>\n",
              "      <td>34.642857</td>\n",
              "      <td>28.857143</td>\n",
              "      <td>9.0</td>\n",
              "      <td>0</td>\n",
              "      <td>0</td>\n",
              "      <td>22</td>\n",
              "      <td>21</td>\n",
              "      <td>1</td>\n",
              "      <td>2</td>\n",
              "      <td>2</td>\n",
              "    </tr>\n",
              "    <tr>\n",
              "      <th>2</th>\n",
              "      <td>9</td>\n",
              "      <td>0</td>\n",
              "      <td>0.0</td>\n",
              "      <td>0.0</td>\n",
              "      <td>0.0</td>\n",
              "      <td>2021-11</td>\n",
              "      <td>1.0</td>\n",
              "      <td>1.0</td>\n",
              "      <td>1.0</td>\n",
              "      <td>new_cust</td>\n",
              "      <td>...</td>\n",
              "      <td>34.250000</td>\n",
              "      <td>9.833333</td>\n",
              "      <td>4.0</td>\n",
              "      <td>0</td>\n",
              "      <td>0</td>\n",
              "      <td>16</td>\n",
              "      <td>17</td>\n",
              "      <td>0</td>\n",
              "      <td>3</td>\n",
              "      <td>2</td>\n",
              "    </tr>\n",
              "    <tr>\n",
              "      <th>3</th>\n",
              "      <td>15</td>\n",
              "      <td>0</td>\n",
              "      <td>0.0</td>\n",
              "      <td>0.0</td>\n",
              "      <td>0.0</td>\n",
              "      <td>2020-04</td>\n",
              "      <td>1.0</td>\n",
              "      <td>1.0</td>\n",
              "      <td>1.0</td>\n",
              "      <td>new_cust</td>\n",
              "      <td>...</td>\n",
              "      <td>35.720000</td>\n",
              "      <td>11.400000</td>\n",
              "      <td>3.0</td>\n",
              "      <td>0</td>\n",
              "      <td>0</td>\n",
              "      <td>39</td>\n",
              "      <td>38</td>\n",
              "      <td>0</td>\n",
              "      <td>0</td>\n",
              "      <td>0</td>\n",
              "    </tr>\n",
              "    <tr>\n",
              "      <th>4</th>\n",
              "      <td>18</td>\n",
              "      <td>2020-01</td>\n",
              "      <td>1.0</td>\n",
              "      <td>1.0</td>\n",
              "      <td>1.0</td>\n",
              "      <td>2020-04</td>\n",
              "      <td>1.0</td>\n",
              "      <td>1.0</td>\n",
              "      <td>1.0</td>\n",
              "      <td>not_churn</td>\n",
              "      <td>...</td>\n",
              "      <td>34.964286</td>\n",
              "      <td>15.928571</td>\n",
              "      <td>54.0</td>\n",
              "      <td>0</td>\n",
              "      <td>0</td>\n",
              "      <td>27</td>\n",
              "      <td>44</td>\n",
              "      <td>0</td>\n",
              "      <td>1</td>\n",
              "      <td>0</td>\n",
              "    </tr>\n",
              "  </tbody>\n",
              "</table>\n",
              "<p>5 rows × 34 columns</p>\n",
              "</div>\n",
              "      <button class=\"colab-df-convert\" onclick=\"convertToInteractive('df-579aba91-46ba-4fc7-bd4a-24d6e3e44cd6')\"\n",
              "              title=\"Convert this dataframe to an interactive table.\"\n",
              "              style=\"display:none;\">\n",
              "        \n",
              "  <svg xmlns=\"http://www.w3.org/2000/svg\" height=\"24px\"viewBox=\"0 0 24 24\"\n",
              "       width=\"24px\">\n",
              "    <path d=\"M0 0h24v24H0V0z\" fill=\"none\"/>\n",
              "    <path d=\"M18.56 5.44l.94 2.06.94-2.06 2.06-.94-2.06-.94-.94-2.06-.94 2.06-2.06.94zm-11 1L8.5 8.5l.94-2.06 2.06-.94-2.06-.94L8.5 2.5l-.94 2.06-2.06.94zm10 10l.94 2.06.94-2.06 2.06-.94-2.06-.94-.94-2.06-.94 2.06-2.06.94z\"/><path d=\"M17.41 7.96l-1.37-1.37c-.4-.4-.92-.59-1.43-.59-.52 0-1.04.2-1.43.59L10.3 9.45l-7.72 7.72c-.78.78-.78 2.05 0 2.83L4 21.41c.39.39.9.59 1.41.59.51 0 1.02-.2 1.41-.59l7.78-7.78 2.81-2.81c.8-.78.8-2.07 0-2.86zM5.41 20L4 18.59l7.72-7.72 1.47 1.35L5.41 20z\"/>\n",
              "  </svg>\n",
              "      </button>\n",
              "      \n",
              "  <style>\n",
              "    .colab-df-container {\n",
              "      display:flex;\n",
              "      flex-wrap:wrap;\n",
              "      gap: 12px;\n",
              "    }\n",
              "\n",
              "    .colab-df-convert {\n",
              "      background-color: #E8F0FE;\n",
              "      border: none;\n",
              "      border-radius: 50%;\n",
              "      cursor: pointer;\n",
              "      display: none;\n",
              "      fill: #1967D2;\n",
              "      height: 32px;\n",
              "      padding: 0 0 0 0;\n",
              "      width: 32px;\n",
              "    }\n",
              "\n",
              "    .colab-df-convert:hover {\n",
              "      background-color: #E2EBFA;\n",
              "      box-shadow: 0px 1px 2px rgba(60, 64, 67, 0.3), 0px 1px 3px 1px rgba(60, 64, 67, 0.15);\n",
              "      fill: #174EA6;\n",
              "    }\n",
              "\n",
              "    [theme=dark] .colab-df-convert {\n",
              "      background-color: #3B4455;\n",
              "      fill: #D2E3FC;\n",
              "    }\n",
              "\n",
              "    [theme=dark] .colab-df-convert:hover {\n",
              "      background-color: #434B5C;\n",
              "      box-shadow: 0px 1px 3px 1px rgba(0, 0, 0, 0.15);\n",
              "      filter: drop-shadow(0px 1px 2px rgba(0, 0, 0, 0.3));\n",
              "      fill: #FFFFFF;\n",
              "    }\n",
              "  </style>\n",
              "\n",
              "      <script>\n",
              "        const buttonEl =\n",
              "          document.querySelector('#df-579aba91-46ba-4fc7-bd4a-24d6e3e44cd6 button.colab-df-convert');\n",
              "        buttonEl.style.display =\n",
              "          google.colab.kernel.accessAllowed ? 'block' : 'none';\n",
              "\n",
              "        async function convertToInteractive(key) {\n",
              "          const element = document.querySelector('#df-579aba91-46ba-4fc7-bd4a-24d6e3e44cd6');\n",
              "          const dataTable =\n",
              "            await google.colab.kernel.invokeFunction('convertToInteractive',\n",
              "                                                     [key], {});\n",
              "          if (!dataTable) return;\n",
              "\n",
              "          const docLinkHtml = 'Like what you see? Visit the ' +\n",
              "            '<a target=\"_blank\" href=https://colab.research.google.com/notebooks/data_table.ipynb>data table notebook</a>'\n",
              "            + ' to learn more about interactive tables.';\n",
              "          element.innerHTML = '';\n",
              "          dataTable['output_type'] = 'display_data';\n",
              "          await google.colab.output.renderOutput(dataTable, element);\n",
              "          const docLink = document.createElement('div');\n",
              "          docLink.innerHTML = docLinkHtml;\n",
              "          element.appendChild(docLink);\n",
              "        }\n",
              "      </script>\n",
              "    </div>\n",
              "  </div>\n",
              "  "
            ]
          },
          "metadata": {},
          "execution_count": 55
        }
      ],
      "source": [
        "data_ml.head()"
      ]
    },
    {
      "cell_type": "code",
      "execution_count": null,
      "metadata": {
        "colab": {
          "base_uri": "https://localhost:8080/"
        },
        "id": "9fEK-Zn-lix5",
        "outputId": "18adfa75-4545-4110-d330-f6c95548d24e"
      },
      "outputs": [
        {
          "output_type": "stream",
          "name": "stdout",
          "text": [
            "<class 'pandas.core.frame.DataFrame'>\n",
            "Int64Index: 36489 entries, 0 to 36488\n",
            "Data columns (total 34 columns):\n",
            " #   Column                  Non-Null Count  Dtype              \n",
            "---  ------                  --------------  -----              \n",
            " 0   customer_id             36489 non-null  int64              \n",
            " 1   month_x                 36489 non-null  object             \n",
            " 2   created_at_x            36489 non-null  float64            \n",
            " 3   first_order_x           36489 non-null  float64            \n",
            " 4   first_month_x           36489 non-null  float64            \n",
            " 5   month_y                 36489 non-null  object             \n",
            " 6   created_at_y            36489 non-null  float64            \n",
            " 7   first_order_y           36489 non-null  float64            \n",
            " 8   first_month_y           36489 non-null  float64            \n",
            " 9   customer_segment        36489 non-null  object             \n",
            " 10  index                   36489 non-null  int64              \n",
            " 11  created_at              36489 non-null  datetime64[ns, UTC]\n",
            " 12  estimated_days_arrival  36489 non-null  float64            \n",
            " 13  payment_method          36489 non-null  int64              \n",
            " 14  payment_status          36489 non-null  int64              \n",
            " 15  promo_amount            36489 non-null  float64            \n",
            " 16  shipment_fee            36489 non-null  float64            \n",
            " 17  total_amount            36489 non-null  float64            \n",
            " 18  product_id              36489 non-null  int64              \n",
            " 19  quantity                36489 non-null  int64              \n",
            " 20  item_price              36489 non-null  float64            \n",
            " 21  gender_product          36489 non-null  int64              \n",
            " 22  master_category         36489 non-null  int64              \n",
            " 23  season                  36489 non-null  int64              \n",
            " 24  product_name_length     36489 non-null  float64            \n",
            " 25  event_id                36489 non-null  float64            \n",
            " 26  search_keywords_count   36489 non-null  float64            \n",
            " 27  gender                  36489 non-null  int64              \n",
            " 28  device_type             36489 non-null  int64              \n",
            " 29  age                     36489 non-null  int64              \n",
            " 30  lengthjoin_months       36489 non-null  int64              \n",
            " 31  homelocation_category   36489 non-null  int64              \n",
            " 32  cust_age_category       36489 non-null  int64              \n",
            " 33  membership              36489 non-null  int64              \n",
            "dtypes: datetime64[ns, UTC](1), float64(14), int64(16), object(3)\n",
            "memory usage: 9.7+ MB\n"
          ]
        }
      ],
      "source": [
        "data_ml.info()"
      ]
    },
    {
      "cell_type": "code",
      "execution_count": null,
      "metadata": {
        "id": "RmQ4MYkznJ-z"
      },
      "outputs": [],
      "source": [
        "ml_ready = data_ml[(data_ml['customer_segment'] == 'churn') | (data_ml['customer_segment'] == 'not_churn')]"
      ]
    },
    {
      "cell_type": "code",
      "execution_count": null,
      "metadata": {
        "id": "oXy44Iwpn0_z"
      },
      "outputs": [],
      "source": [
        "ml_ready = ml_ready.drop(columns = ['customer_id', 'month_x', 'created_at_x', 'first_month_x', 'first_order_x', 'month_y', 'created_at_y', 'first_order_y', 'first_month_y',\n",
        "                                    'index'])"
      ]
    },
    {
      "cell_type": "code",
      "execution_count": null,
      "metadata": {
        "id": "A4eFlUJjrYsH"
      },
      "outputs": [],
      "source": [
        "ml_ready = ml_ready.drop(columns = 'created_at')"
      ]
    },
    {
      "cell_type": "code",
      "execution_count": null,
      "metadata": {
        "colab": {
          "base_uri": "https://localhost:8080/",
          "height": 300
        },
        "id": "m5u3exXIssQj",
        "outputId": "883e070d-bfd8-4022-a6dc-cb0fcfbb4830"
      },
      "outputs": [
        {
          "output_type": "execute_result",
          "data": {
            "text/plain": [
              "  customer_segment  estimated_days_arrival  payment_method  payment_status  \\\n",
              "0        not_churn                3.058824               0               1   \n",
              "1        not_churn                2.857143               0               1   \n",
              "4        not_churn                3.071429               1               1   \n",
              "6            churn                3.000000               2               1   \n",
              "7        not_churn                2.866667               2               1   \n",
              "\n",
              "   promo_amount  shipment_fee   total_amount  product_id  quantity  \\\n",
              "0   2570.235294   7156.862745  416978.215686          51        88   \n",
              "1   1099.857143   6428.571429  556937.285714           7        19   \n",
              "4   2809.857143   9821.428571  419977.142857          28        47   \n",
              "6      0.000000      0.000000  372441.000000           1         1   \n",
              "7   2877.066667  10666.666667  544023.533333          15        33   \n",
              "\n",
              "      item_price  ...  product_name_length   event_id  search_keywords_count  \\\n",
              "0  241362.797386  ...            36.173203  13.372549                   51.0   \n",
              "1  247604.500000  ...            34.642857  28.857143                    9.0   \n",
              "4  245597.244898  ...            34.964286  15.928571                   54.0   \n",
              "6  372441.000000  ...            30.000000   8.000000                    0.0   \n",
              "7  221975.711111  ...            33.055556  11.066667                   16.0   \n",
              "\n",
              "   gender  device_type  age  lengthjoin_months  homelocation_category  \\\n",
              "0       1            0   36                 51                      0   \n",
              "1       0            0   22                 21                      1   \n",
              "4       0            0   27                 44                      0   \n",
              "6       1            0   28                 15                      0   \n",
              "7       1            0   67                 28                      0   \n",
              "\n",
              "   cust_age_category  membership  \n",
              "0                  0           0  \n",
              "1                  2           2  \n",
              "4                  1           0  \n",
              "6                  1           2  \n",
              "7                  0           1  \n",
              "\n",
              "[5 rows x 23 columns]"
            ],
            "text/html": [
              "\n",
              "  <div id=\"df-b94e3cee-50a4-4741-8c8f-82ca175052f7\">\n",
              "    <div class=\"colab-df-container\">\n",
              "      <div>\n",
              "<style scoped>\n",
              "    .dataframe tbody tr th:only-of-type {\n",
              "        vertical-align: middle;\n",
              "    }\n",
              "\n",
              "    .dataframe tbody tr th {\n",
              "        vertical-align: top;\n",
              "    }\n",
              "\n",
              "    .dataframe thead th {\n",
              "        text-align: right;\n",
              "    }\n",
              "</style>\n",
              "<table border=\"1\" class=\"dataframe\">\n",
              "  <thead>\n",
              "    <tr style=\"text-align: right;\">\n",
              "      <th></th>\n",
              "      <th>customer_segment</th>\n",
              "      <th>estimated_days_arrival</th>\n",
              "      <th>payment_method</th>\n",
              "      <th>payment_status</th>\n",
              "      <th>promo_amount</th>\n",
              "      <th>shipment_fee</th>\n",
              "      <th>total_amount</th>\n",
              "      <th>product_id</th>\n",
              "      <th>quantity</th>\n",
              "      <th>item_price</th>\n",
              "      <th>...</th>\n",
              "      <th>product_name_length</th>\n",
              "      <th>event_id</th>\n",
              "      <th>search_keywords_count</th>\n",
              "      <th>gender</th>\n",
              "      <th>device_type</th>\n",
              "      <th>age</th>\n",
              "      <th>lengthjoin_months</th>\n",
              "      <th>homelocation_category</th>\n",
              "      <th>cust_age_category</th>\n",
              "      <th>membership</th>\n",
              "    </tr>\n",
              "  </thead>\n",
              "  <tbody>\n",
              "    <tr>\n",
              "      <th>0</th>\n",
              "      <td>not_churn</td>\n",
              "      <td>3.058824</td>\n",
              "      <td>0</td>\n",
              "      <td>1</td>\n",
              "      <td>2570.235294</td>\n",
              "      <td>7156.862745</td>\n",
              "      <td>416978.215686</td>\n",
              "      <td>51</td>\n",
              "      <td>88</td>\n",
              "      <td>241362.797386</td>\n",
              "      <td>...</td>\n",
              "      <td>36.173203</td>\n",
              "      <td>13.372549</td>\n",
              "      <td>51.0</td>\n",
              "      <td>1</td>\n",
              "      <td>0</td>\n",
              "      <td>36</td>\n",
              "      <td>51</td>\n",
              "      <td>0</td>\n",
              "      <td>0</td>\n",
              "      <td>0</td>\n",
              "    </tr>\n",
              "    <tr>\n",
              "      <th>1</th>\n",
              "      <td>not_churn</td>\n",
              "      <td>2.857143</td>\n",
              "      <td>0</td>\n",
              "      <td>1</td>\n",
              "      <td>1099.857143</td>\n",
              "      <td>6428.571429</td>\n",
              "      <td>556937.285714</td>\n",
              "      <td>7</td>\n",
              "      <td>19</td>\n",
              "      <td>247604.500000</td>\n",
              "      <td>...</td>\n",
              "      <td>34.642857</td>\n",
              "      <td>28.857143</td>\n",
              "      <td>9.0</td>\n",
              "      <td>0</td>\n",
              "      <td>0</td>\n",
              "      <td>22</td>\n",
              "      <td>21</td>\n",
              "      <td>1</td>\n",
              "      <td>2</td>\n",
              "      <td>2</td>\n",
              "    </tr>\n",
              "    <tr>\n",
              "      <th>4</th>\n",
              "      <td>not_churn</td>\n",
              "      <td>3.071429</td>\n",
              "      <td>1</td>\n",
              "      <td>1</td>\n",
              "      <td>2809.857143</td>\n",
              "      <td>9821.428571</td>\n",
              "      <td>419977.142857</td>\n",
              "      <td>28</td>\n",
              "      <td>47</td>\n",
              "      <td>245597.244898</td>\n",
              "      <td>...</td>\n",
              "      <td>34.964286</td>\n",
              "      <td>15.928571</td>\n",
              "      <td>54.0</td>\n",
              "      <td>0</td>\n",
              "      <td>0</td>\n",
              "      <td>27</td>\n",
              "      <td>44</td>\n",
              "      <td>0</td>\n",
              "      <td>1</td>\n",
              "      <td>0</td>\n",
              "    </tr>\n",
              "    <tr>\n",
              "      <th>6</th>\n",
              "      <td>churn</td>\n",
              "      <td>3.000000</td>\n",
              "      <td>2</td>\n",
              "      <td>1</td>\n",
              "      <td>0.000000</td>\n",
              "      <td>0.000000</td>\n",
              "      <td>372441.000000</td>\n",
              "      <td>1</td>\n",
              "      <td>1</td>\n",
              "      <td>372441.000000</td>\n",
              "      <td>...</td>\n",
              "      <td>30.000000</td>\n",
              "      <td>8.000000</td>\n",
              "      <td>0.0</td>\n",
              "      <td>1</td>\n",
              "      <td>0</td>\n",
              "      <td>28</td>\n",
              "      <td>15</td>\n",
              "      <td>0</td>\n",
              "      <td>1</td>\n",
              "      <td>2</td>\n",
              "    </tr>\n",
              "    <tr>\n",
              "      <th>7</th>\n",
              "      <td>not_churn</td>\n",
              "      <td>2.866667</td>\n",
              "      <td>2</td>\n",
              "      <td>1</td>\n",
              "      <td>2877.066667</td>\n",
              "      <td>10666.666667</td>\n",
              "      <td>544023.533333</td>\n",
              "      <td>15</td>\n",
              "      <td>33</td>\n",
              "      <td>221975.711111</td>\n",
              "      <td>...</td>\n",
              "      <td>33.055556</td>\n",
              "      <td>11.066667</td>\n",
              "      <td>16.0</td>\n",
              "      <td>1</td>\n",
              "      <td>0</td>\n",
              "      <td>67</td>\n",
              "      <td>28</td>\n",
              "      <td>0</td>\n",
              "      <td>0</td>\n",
              "      <td>1</td>\n",
              "    </tr>\n",
              "  </tbody>\n",
              "</table>\n",
              "<p>5 rows × 23 columns</p>\n",
              "</div>\n",
              "      <button class=\"colab-df-convert\" onclick=\"convertToInteractive('df-b94e3cee-50a4-4741-8c8f-82ca175052f7')\"\n",
              "              title=\"Convert this dataframe to an interactive table.\"\n",
              "              style=\"display:none;\">\n",
              "        \n",
              "  <svg xmlns=\"http://www.w3.org/2000/svg\" height=\"24px\"viewBox=\"0 0 24 24\"\n",
              "       width=\"24px\">\n",
              "    <path d=\"M0 0h24v24H0V0z\" fill=\"none\"/>\n",
              "    <path d=\"M18.56 5.44l.94 2.06.94-2.06 2.06-.94-2.06-.94-.94-2.06-.94 2.06-2.06.94zm-11 1L8.5 8.5l.94-2.06 2.06-.94-2.06-.94L8.5 2.5l-.94 2.06-2.06.94zm10 10l.94 2.06.94-2.06 2.06-.94-2.06-.94-.94-2.06-.94 2.06-2.06.94z\"/><path d=\"M17.41 7.96l-1.37-1.37c-.4-.4-.92-.59-1.43-.59-.52 0-1.04.2-1.43.59L10.3 9.45l-7.72 7.72c-.78.78-.78 2.05 0 2.83L4 21.41c.39.39.9.59 1.41.59.51 0 1.02-.2 1.41-.59l7.78-7.78 2.81-2.81c.8-.78.8-2.07 0-2.86zM5.41 20L4 18.59l7.72-7.72 1.47 1.35L5.41 20z\"/>\n",
              "  </svg>\n",
              "      </button>\n",
              "      \n",
              "  <style>\n",
              "    .colab-df-container {\n",
              "      display:flex;\n",
              "      flex-wrap:wrap;\n",
              "      gap: 12px;\n",
              "    }\n",
              "\n",
              "    .colab-df-convert {\n",
              "      background-color: #E8F0FE;\n",
              "      border: none;\n",
              "      border-radius: 50%;\n",
              "      cursor: pointer;\n",
              "      display: none;\n",
              "      fill: #1967D2;\n",
              "      height: 32px;\n",
              "      padding: 0 0 0 0;\n",
              "      width: 32px;\n",
              "    }\n",
              "\n",
              "    .colab-df-convert:hover {\n",
              "      background-color: #E2EBFA;\n",
              "      box-shadow: 0px 1px 2px rgba(60, 64, 67, 0.3), 0px 1px 3px 1px rgba(60, 64, 67, 0.15);\n",
              "      fill: #174EA6;\n",
              "    }\n",
              "\n",
              "    [theme=dark] .colab-df-convert {\n",
              "      background-color: #3B4455;\n",
              "      fill: #D2E3FC;\n",
              "    }\n",
              "\n",
              "    [theme=dark] .colab-df-convert:hover {\n",
              "      background-color: #434B5C;\n",
              "      box-shadow: 0px 1px 3px 1px rgba(0, 0, 0, 0.15);\n",
              "      filter: drop-shadow(0px 1px 2px rgba(0, 0, 0, 0.3));\n",
              "      fill: #FFFFFF;\n",
              "    }\n",
              "  </style>\n",
              "\n",
              "      <script>\n",
              "        const buttonEl =\n",
              "          document.querySelector('#df-b94e3cee-50a4-4741-8c8f-82ca175052f7 button.colab-df-convert');\n",
              "        buttonEl.style.display =\n",
              "          google.colab.kernel.accessAllowed ? 'block' : 'none';\n",
              "\n",
              "        async function convertToInteractive(key) {\n",
              "          const element = document.querySelector('#df-b94e3cee-50a4-4741-8c8f-82ca175052f7');\n",
              "          const dataTable =\n",
              "            await google.colab.kernel.invokeFunction('convertToInteractive',\n",
              "                                                     [key], {});\n",
              "          if (!dataTable) return;\n",
              "\n",
              "          const docLinkHtml = 'Like what you see? Visit the ' +\n",
              "            '<a target=\"_blank\" href=https://colab.research.google.com/notebooks/data_table.ipynb>data table notebook</a>'\n",
              "            + ' to learn more about interactive tables.';\n",
              "          element.innerHTML = '';\n",
              "          dataTable['output_type'] = 'display_data';\n",
              "          await google.colab.output.renderOutput(dataTable, element);\n",
              "          const docLink = document.createElement('div');\n",
              "          docLink.innerHTML = docLinkHtml;\n",
              "          element.appendChild(docLink);\n",
              "        }\n",
              "      </script>\n",
              "    </div>\n",
              "  </div>\n",
              "  "
            ]
          },
          "metadata": {},
          "execution_count": 60
        }
      ],
      "source": [
        "ml_ready.head()"
      ]
    },
    {
      "cell_type": "code",
      "execution_count": null,
      "metadata": {
        "id": "-xTaFFbXr-Gb"
      },
      "outputs": [],
      "source": [
        "ml_ready['customer_segment'].replace(to_replace='churn', value=1, inplace=True)\n",
        "ml_ready['customer_segment'].replace(to_replace='not_churn', value=0, inplace=True)\n",
        "ml_ready = ml_ready.rename(columns = {'customer_segment':'churn'})"
      ]
    },
    {
      "cell_type": "code",
      "execution_count": null,
      "metadata": {
        "id": "Pp6H8HaTs9FP"
      },
      "outputs": [],
      "source": [
        "ml_ready = ml_ready.reset_index()\n",
        "ml_ready = ml_ready.drop(columns = 'index')"
      ]
    },
    {
      "cell_type": "code",
      "execution_count": null,
      "metadata": {
        "colab": {
          "base_uri": "https://localhost:8080/",
          "height": 391
        },
        "id": "cP1U4uIdtIRu",
        "outputId": "43011693-d811-4188-a4ea-16b572d410dc"
      },
      "outputs": [
        {
          "output_type": "execute_result",
          "data": {
            "text/plain": [
              "<matplotlib.axes._subplots.AxesSubplot at 0x7f735e284bd0>"
            ]
          },
          "metadata": {},
          "execution_count": 63
        },
        {
          "output_type": "display_data",
          "data": {
            "text/plain": [
              "<Figure size 432x288 with 1 Axes>"
            ],
            "image/png": "[encoded data removed]"
          },
          "metadata": {
            "needs_background": "light"
          }
        }
      ],
      "source": [
        "ml_ready.corr()['churn'].sort_values(ascending = False).plot(kind='bar')"
      ]
    },
    {
      "cell_type": "code",
      "execution_count": null,
      "metadata": {
        "id": "qKoxTGisDY40"
      },
      "outputs": [],
      "source": [
        "from sklearn.model_selection import train_test_split, cross_validate, cross_val_score, KFold, GridSearchCV\n",
        "from sklearn.metrics import accuracy_score, precision_score, recall_score, f1_score"
      ]
    },
    {
      "cell_type": "code",
      "execution_count": null,
      "metadata": {
        "id": "NYk6JvGlOJTT"
      },
      "outputs": [],
      "source": [
        "from sklearn.metrics import accuracy_score, f1_score, precision_score, recall_score, classification_report, confusion_matrix, fbeta_score"
      ]
    },
    {
      "cell_type": "code",
      "execution_count": null,
      "metadata": {
        "id": "rwMzm10rHLip"
      },
      "outputs": [],
      "source": [
        "from sklearn.neighbors import KNeighborsClassifier\n",
        "from sklearn.model_selection import train_test_split"
      ]
    },
    {
      "cell_type": "code",
      "execution_count": null,
      "metadata": {
        "id": "t1glJWddtKyb"
      },
      "outputs": [],
      "source": [
        "y = ml_ready['churn'].values\n",
        "X = ml_ready.drop(['churn'], axis = 1)"
      ]
    },
    {
      "cell_type": "code",
      "source": [
        "from sklearn.preprocessing import MinMaxScaler\n",
        "scaler = MinMaxScaler()\n",
        "scaler.fit(X)\n",
        "X = scaler.transform(X)"
      ],
      "metadata": {
        "id": "-PBqfYF-FgkR"
      },
      "execution_count": null,
      "outputs": []
    },
    {
      "cell_type": "code",
      "execution_count": null,
      "metadata": {
        "id": "0o8WYZMtHT9_"
      },
      "outputs": [],
      "source": [
        "X_train, X_test, y_train, y_test = train_test_split(X, y, test_size=0.2, random_state=42, stratify=y)"
      ]
    },
    {
      "cell_type": "markdown",
      "metadata": {
        "id": "eZM-pR25JUFf"
      },
      "source": [
        "## KNN"
      ]
    },
    {
      "cell_type": "code",
      "execution_count": null,
      "metadata": {
        "id": "EI-tOTtzHU0y"
      },
      "outputs": [],
      "source": [
        "knn = KNeighborsClassifier(n_neighbors = 3)"
      ]
    },
    {
      "cell_type": "code",
      "execution_count": null,
      "metadata": {
        "colab": {
          "base_uri": "https://localhost:8080/"
        },
        "id": "0bedvv7WHZXx",
        "outputId": "e724541d-3a00-4ff1-a0bd-559f9e289b4b"
      },
      "outputs": [
        {
          "output_type": "execute_result",
          "data": {
            "text/plain": [
              "KNeighborsClassifier(n_neighbors=3)"
            ]
          },
          "metadata": {},
          "execution_count": 71
        }
      ],
      "source": [
        "knn.fit(X_train, y_train)"
      ]
    },
    {
      "cell_type": "code",
      "execution_count": null,
      "metadata": {
        "id": "VU57JtP7HaM_"
      },
      "outputs": [],
      "source": [
        "y_pred = knn.predict(X_test)"
      ]
    },
    {
      "cell_type": "code",
      "execution_count": null,
      "metadata": {
        "colab": {
          "base_uri": "https://localhost:8080/"
        },
        "id": "IwVnswEOHmCf",
        "outputId": "0ae6e963-a90a-4222-d47a-71120130fc16"
      },
      "outputs": [
        {
          "output_type": "execute_result",
          "data": {
            "text/plain": [
              "KNeighborsClassifier(n_neighbors=3)"
            ]
          },
          "metadata": {},
          "execution_count": 73
        }
      ],
      "source": [
        "knn.fit(X_train,y_train)"
      ]
    },
    {
      "cell_type": "code",
      "execution_count": null,
      "metadata": {
        "colab": {
          "base_uri": "https://localhost:8080/"
        },
        "id": "4eElRBcZHoVy",
        "outputId": "bc5df1ad-006a-4a00-870e-7c3f14a5cad6"
      },
      "outputs": [
        {
          "output_type": "execute_result",
          "data": {
            "text/plain": [
              "0.7883288015059611"
            ]
          },
          "metadata": {},
          "execution_count": 74
        }
      ],
      "source": [
        "knn.score(X_test,y_test)"
      ]
    },
    {
      "cell_type": "code",
      "execution_count": null,
      "metadata": {
        "id": "bDQPfLy6ObnR"
      },
      "outputs": [],
      "source": [
        "acc = accuracy_score(y_test, y_pred )\n",
        "prec = precision_score(y_test, y_pred )\n",
        "rec = recall_score(y_test, y_pred )\n",
        "f1 = f1_score(y_test, y_pred )\n",
        "f2 = fbeta_score(y_test, y_pred, beta=2.0)"
      ]
    },
    {
      "cell_type": "code",
      "execution_count": null,
      "metadata": {
        "colab": {
          "base_uri": "https://localhost:8080/"
        },
        "id": "F2DCdzHQOgBk",
        "outputId": "d7ea5ad7-6725-42d1-e3ea-4ffb1389d107"
      },
      "outputs": [
        {
          "output_type": "stream",
          "name": "stdout",
          "text": [
            "  Model  Accuracy  Precision    Recall  F1 Score  F2 Score\n",
            "0   KNN  0.788329   0.790343  0.645898  0.710857  0.670403\n"
          ]
        }
      ],
      "source": [
        "results = pd.DataFrame([[\n",
        "'KNN', acc, prec, rec, f1, f2]],\n",
        " columns = ['Model', 'Accuracy', 'Precision',\n",
        "'Recall', 'F1 Score', 'F2 Score'])\n",
        "print (results)"
      ]
    },
    {
      "cell_type": "markdown",
      "metadata": {
        "id": "78YKJv3nJdhE"
      },
      "source": [
        "## Decision Tree"
      ]
    },
    {
      "cell_type": "code",
      "execution_count": null,
      "metadata": {
        "id": "Rc77HIgJJfHn"
      },
      "outputs": [],
      "source": [
        "from sklearn.tree import DecisionTreeClassifier\n",
        "from sklearn.metrics import auc, roc_auc_score, roc_curve"
      ]
    },
    {
      "cell_type": "code",
      "execution_count": null,
      "metadata": {
        "id": "y0UT5RubJi-t"
      },
      "outputs": [],
      "source": [
        "# Fitting Decision Tree to the Training set:\n",
        "classifier = DecisionTreeClassifier(criterion = 'entropy', random_state = 0)\n",
        "classifier.fit(X_train, y_train)\n",
        "# Predicting the Test set results\n",
        "y_pred = classifier.predict(X_test)"
      ]
    },
    {
      "cell_type": "code",
      "execution_count": null,
      "metadata": {
        "id": "ff18-uAYKHB4"
      },
      "outputs": [],
      "source": [
        "#Evaluate results\n",
        "acc = accuracy_score(y_test, y_pred )\n",
        "prec = precision_score(y_test, y_pred )\n",
        "rec = recall_score(y_test, y_pred )\n",
        "f1 = f1_score(y_test, y_pred )\n",
        "f2 = fbeta_score(y_test, y_pred, beta=2.0)"
      ]
    },
    {
      "cell_type": "code",
      "execution_count": null,
      "metadata": {
        "id": "qlcOGicLKJ12"
      },
      "outputs": [],
      "source": [
        "model_results = pd.DataFrame([[\n",
        "'Decision Tree', acc, prec, rec, f1, f2]],\n",
        " columns = ['Model', 'Accuracy', 'Precision',\n",
        "'Recall', 'F1 Score', 'F2 Score'])"
      ]
    },
    {
      "cell_type": "code",
      "execution_count": null,
      "metadata": {
        "colab": {
          "base_uri": "https://localhost:8080/"
        },
        "id": "TR98WRjGKKdv",
        "outputId": "8306cc95-21a0-4de8-be58-f3a38adf8a6f"
      },
      "outputs": [
        {
          "output_type": "stream",
          "name": "stdout",
          "text": [
            "           Model  Accuracy  Precision    Recall  F1 Score  F2 Score\n",
            "1  Decision Tree  0.923029   0.902376  0.907061  0.904713  0.906120\n",
            "0            KNN  0.788329   0.790343  0.645898  0.710857  0.670403\n"
          ]
        }
      ],
      "source": [
        "results = results.append(model_results, ignore_index = True)\n",
        "results = results.sort_values([\"Precision\",\n",
        "\"Recall\", \"F2 Score\"], ascending = False)\n",
        "print (results)"
      ]
    },
    {
      "cell_type": "code",
      "execution_count": null,
      "metadata": {
        "colab": {
          "base_uri": "https://localhost:8080/",
          "height": 382
        },
        "id": "0QIKfh0cKNYn",
        "outputId": "a7f2db93-4bc3-426f-ca8f-819fd014e666"
      },
      "outputs": [
        {
          "output_type": "execute_result",
          "data": {
            "text/plain": [
              "Text(0.5, 15.0, 'Predicted label\\n')"
            ]
          },
          "metadata": {},
          "execution_count": 82
        },
        {
          "output_type": "display_data",
          "data": {
            "text/plain": [
              "<Figure size 2016x1440 with 0 Axes>"
            ]
          },
          "metadata": {}
        },
        {
          "output_type": "display_data",
          "data": {
            "text/plain": [
              "<Figure size 432x288 with 2 Axes>"
            ],
            "image/png": "[encoded data removed]"
          },
          "metadata": {
            "needs_background": "light"
          }
        }
      ],
      "source": [
        "#Confusion Matrix\n",
        "\n",
        "cm = confusion_matrix(y_test, y_pred)\n",
        "df_cm = pd.DataFrame(cm, index = (0, 1), columns = (0, 1))\n",
        "plt.figure(figsize = (28,20))\n",
        "fig, ax = plt.subplots()\n",
        "sns.set(font_scale=1.4)\n",
        "sns.heatmap(df_cm, annot=True, fmt='g'#,cmap=\"YlGnBu\"\n",
        "           )\n",
        "class_names=[0,1]\n",
        "tick_marks = np.arange(len(class_names))\n",
        "plt.tight_layout()\n",
        "plt.title('Confusion matrix : Decision Tree \\n', y=1.1)\n",
        "plt.xticks(tick_marks, class_names)\n",
        "plt.yticks(tick_marks, class_names)\n",
        "ax.xaxis.set_label_position(\"top\")\n",
        "plt.ylabel('Actual label\\n')\n",
        "plt.xlabel('Predicted label\\n')"
      ]
    },
    {
      "cell_type": "code",
      "execution_count": null,
      "metadata": {
        "colab": {
          "base_uri": "https://localhost:8080/",
          "height": 490
        },
        "id": "sCDXeGfpKRDL",
        "outputId": "b672306f-5f70-4e2e-87e6-5ed28ec53baa"
      },
      "outputs": [
        {
          "output_type": "display_data",
          "data": {
            "text/plain": [
              "<Figure size 1008x432 with 1 Axes>"
            ],
            "image/png": "[encoded data removed]"
          },
          "metadata": {}
        }
      ],
      "source": [
        "#ROC Curve\n",
        "\n",
        "classifier.fit(X_train, y_train)\n",
        "probs = classifier.predict_proba(X_test)\n",
        "probs = probs[:, 1]\n",
        "classifier_roc_auc = accuracy_score(y_test, y_pred )\n",
        "rf_fpr, rf_tpr, rf_thresholds = roc_curve(y_test, classifier.predict_proba(X_test)[:,1])\n",
        "plt.figure(figsize=(14, 6))\n",
        "# Plot Logistic Regression ROC\n",
        "plt.plot(rf_fpr, rf_tpr,\n",
        "label='Decision Tree (area = %0.2f)' % classifier_roc_auc)\n",
        "# Plot Base Rate ROC\n",
        "plt.plot([0,1], [0,1],label='Base Rate')\n",
        "plt.xlim([0.0, 1.0])\n",
        "plt.ylim([0.0, 1.05])\n",
        "plt.ylabel('True Positive Rate \\n',horizontalalignment=\"center\",\n",
        "fontstyle = \"normal\", fontsize = \"medium\",\n",
        "fontfamily = \"sans-serif\")\n",
        "plt.xlabel('\\nFalse Positive Rate \\n',horizontalalignment=\"center\",\n",
        "fontstyle = \"normal\", fontsize = \"medium\",\n",
        "fontfamily = \"sans-serif\")\n",
        "plt.title('ROC Graph \\n',horizontalalignment=\"center\",\n",
        "fontstyle = \"normal\", fontsize = \"22\",\n",
        "fontfamily = \"sans-serif\")\n",
        "plt.legend(loc=\"lower right\", fontsize = \"medium\")\n",
        "plt.xticks(rotation=0, horizontalalignment=\"center\")\n",
        "plt.yticks(rotation=0, horizontalalignment=\"right\")\n",
        "plt.show()"
      ]
    },
    {
      "cell_type": "markdown",
      "metadata": {
        "id": "M5IjY0h-KWbM"
      },
      "source": [
        "## Random Forest"
      ]
    },
    {
      "cell_type": "code",
      "execution_count": null,
      "metadata": {
        "id": "WCmWnJTWKYYf"
      },
      "outputs": [],
      "source": [
        "from sklearn.ensemble import RandomForestClassifier"
      ]
    },
    {
      "cell_type": "code",
      "execution_count": null,
      "metadata": {
        "colab": {
          "base_uri": "https://localhost:8080/"
        },
        "id": "bfshflksKbXx",
        "outputId": "9c9f98c1-1236-4721-a629-a569c1f72b69"
      },
      "outputs": [
        {
          "output_type": "execute_result",
          "data": {
            "text/plain": [
              "RandomForestClassifier(criterion='entropy', n_estimators=72, random_state=0)"
            ]
          },
          "metadata": {},
          "execution_count": 85
        }
      ],
      "source": [
        "# Fitting Random Forest to the Training set:\n",
        "\n",
        "classifier = RandomForestClassifier(n_estimators = 72,\n",
        "criterion = 'entropy', random_state = 0)\n",
        "classifier.fit(X_train, y_train)"
      ]
    },
    {
      "cell_type": "code",
      "execution_count": null,
      "metadata": {
        "id": "eeZsZPZcKdR3"
      },
      "outputs": [],
      "source": [
        "# Predicting the Test set results\n",
        "y_pred = classifier.predict(X_test)"
      ]
    },
    {
      "cell_type": "code",
      "execution_count": null,
      "metadata": {
        "colab": {
          "base_uri": "https://localhost:8080/"
        },
        "id": "cdkEnUQnKgEW",
        "outputId": "be0e1125-e542-469e-f580-f72613524bc6"
      },
      "outputs": [
        {
          "output_type": "stream",
          "name": "stdout",
          "text": [
            "           Model  Accuracy  Precision    Recall  F1 Score  F2 Score\n",
            "2  Random Forest  0.939134   0.961083  0.884735  0.921330  0.899019\n",
            "0  Decision Tree  0.923029   0.902376  0.907061  0.904713  0.906120\n",
            "1            KNN  0.788329   0.790343  0.645898  0.710857  0.670403\n"
          ]
        }
      ],
      "source": [
        "#Evaluate results\n",
        "accuracy_score, f1_score, precision_score, recall_score\n",
        "acc = accuracy_score(y_test, y_pred )\n",
        "prec = precision_score(y_test, y_pred )\n",
        "rec = recall_score(y_test, y_pred )\n",
        "f1 = f1_score(y_test, y_pred )\n",
        "f2 = fbeta_score(y_test, y_pred, beta=2.0)\n",
        "model_results = pd.DataFrame([['Random Forest',\n",
        "acc, prec, rec, f1, f2]],\n",
        "columns = ['Model', 'Accuracy', 'Precision',\n",
        "'Recall', 'F1 Score', 'F2 Score'])\n",
        "results = results.append(model_results, ignore_index = True)\n",
        "results = results.sort_values([\"Precision\",\n",
        "\"Recall\", \"F2 Score\"], ascending = False)\n",
        "print (results)"
      ]
    },
    {
      "cell_type": "code",
      "execution_count": null,
      "metadata": {
        "colab": {
          "base_uri": "https://localhost:8080/",
          "height": 397
        },
        "id": "QQdqEoa9KhvP",
        "outputId": "6bcffef7-7fb8-4465-dd9a-e0519e89e600"
      },
      "outputs": [
        {
          "output_type": "execute_result",
          "data": {
            "text/plain": [
              "Text(0.5, 7.5, 'Predicted label\\n')"
            ]
          },
          "metadata": {},
          "execution_count": 88
        },
        {
          "output_type": "display_data",
          "data": {
            "text/plain": [
              "<Figure size 2016x1440 with 0 Axes>"
            ]
          },
          "metadata": {}
        },
        {
          "output_type": "display_data",
          "data": {
            "text/plain": [
              "<Figure size 432x288 with 2 Axes>"
            ],
            "image/png": "[encoded data removed]"
          },
          "metadata": {}
        }
      ],
      "source": [
        "#Confusion Matrix\n",
        "\n",
        "cm = confusion_matrix(y_test, y_pred)\n",
        "df_cm = pd.DataFrame(cm, index = (0, 1), columns = (0, 1))\n",
        "plt.figure(figsize = (28,20))\n",
        "fig, ax = plt.subplots()\n",
        "sns.set(font_scale=1.4)\n",
        "sns.heatmap(df_cm, annot=True, fmt='g'#,cmap=\"YlGnBu\"\n",
        "           )\n",
        "class_names=[0,1]\n",
        "tick_marks = np.arange(len(class_names))\n",
        "plt.tight_layout()\n",
        "plt.title('Confusion matrix : Random Forest \\n', y=1.1)\n",
        "plt.xticks(tick_marks, class_names)\n",
        "plt.yticks(tick_marks, class_names)\n",
        "ax.xaxis.set_label_position(\"top\")\n",
        "plt.ylabel('Actual label\\n')\n",
        "plt.xlabel('Predicted label\\n')"
      ]
    },
    {
      "cell_type": "code",
      "execution_count": null,
      "metadata": {
        "colab": {
          "base_uri": "https://localhost:8080/",
          "height": 490
        },
        "id": "K2z3fzZ2K1Ee",
        "outputId": "c57b23cd-2136-4ce3-8fe5-e842c77deaf5"
      },
      "outputs": [
        {
          "output_type": "display_data",
          "data": {
            "text/plain": [
              "<Figure size 1008x432 with 1 Axes>"
            ],
            "image/png": "[encoded data removed]"
          },
          "metadata": {}
        }
      ],
      "source": [
        "#ROC Curve\n",
        "\n",
        "classifier.fit(X_train, y_train)\n",
        "probs = classifier.predict_proba(X_test)\n",
        "probs = probs[:, 1]\n",
        "classifier_roc_auc = accuracy_score(y_test, y_pred )\n",
        "rf_fpr, rf_tpr, rf_thresholds = roc_curve(y_test, classifier.predict_proba(X_test)[:,1])\n",
        "plt.figure(figsize=(14, 6))\n",
        "# Plot Logistic Regression ROC\n",
        "plt.plot(rf_fpr, rf_tpr,\n",
        "label='Random Forest (area = %0.2f)' % classifier_roc_auc)\n",
        "# Plot Base Rate ROC\n",
        "plt.plot([0,1], [0,1],label='Base Rate')\n",
        "plt.xlim([0.0, 1.0])\n",
        "plt.ylim([0.0, 1.05])\n",
        "plt.ylabel('True Positive Rate \\n',horizontalalignment=\"center\",\n",
        "fontstyle = \"normal\", fontsize = \"medium\",\n",
        "fontfamily = \"sans-serif\")\n",
        "plt.xlabel('\\nFalse Positive Rate \\n',horizontalalignment=\"center\",\n",
        "fontstyle = \"normal\", fontsize = \"medium\",\n",
        "fontfamily = \"sans-serif\")\n",
        "plt.title('ROC Graph \\n',horizontalalignment=\"center\",\n",
        "fontstyle = \"normal\", fontsize = \"22\",\n",
        "fontfamily = \"sans-serif\")\n",
        "plt.legend(loc=\"lower right\", fontsize = \"medium\")\n",
        "plt.xticks(rotation=0, horizontalalignment=\"center\")\n",
        "plt.yticks(rotation=0, horizontalalignment=\"right\")\n",
        "plt.show()"
      ]
    },
    {
      "cell_type": "code",
      "source": [
        "from sklearn.svm import SVC"
      ],
      "metadata": {
        "id": "Nnl8sy2uIaMR"
      },
      "execution_count": null,
      "outputs": []
    },
    {
      "cell_type": "code",
      "source": [
        "classifier = SVC(random_state=1)\n",
        "classifier.fit(X_train, y_train)\n",
        "y_pred = classifier.predict(X_test)"
      ],
      "metadata": {
        "id": "2_P1pjk0Imy9"
      },
      "execution_count": null,
      "outputs": []
    },
    {
      "cell_type": "code",
      "source": [
        "#Evaluate results\n",
        "accuracy_score, f1_score, precision_score, recall_score\n",
        "acc = accuracy_score(y_test, y_pred )\n",
        "prec = precision_score(y_test, y_pred )\n",
        "rec = recall_score(y_test, y_pred )\n",
        "f1 = f1_score(y_test, y_pred )\n",
        "f2 = fbeta_score(y_test, y_pred, beta=2.0)\n",
        "model_results = pd.DataFrame([['SVM',\n",
        "acc, prec, rec, f1, f2]],\n",
        "columns = ['Model', 'Accuracy', 'Precision',\n",
        "'Recall', 'F1 Score', 'F2 Score'])\n",
        "results = results.append(model_results, ignore_index = True)\n",
        "results = results.sort_values([\"Precision\",\n",
        "\"Recall\", \"F2 Score\"], ascending = False)\n",
        "print (results)"
      ],
      "metadata": {
        "colab": {
          "base_uri": "https://localhost:8080/"
        },
        "id": "KtK2r3DkJPsr",
        "outputId": "a4e7e0ee-553e-47a3-ae25-18874017b5b0"
      },
      "execution_count": null,
      "outputs": [
        {
          "output_type": "stream",
          "name": "stdout",
          "text": [
            "           Model  Accuracy  Precision    Recall  F1 Score  F2 Score\n",
            "0  Random Forest  0.939134   0.961083  0.884735  0.921330  0.899019\n",
            "1  Decision Tree  0.923029   0.902376  0.907061  0.904713  0.906120\n",
            "2            SVM  0.890609   0.841031  0.898235  0.868692  0.886180\n",
            "4            SVM  0.874294   0.837150  0.854102  0.845541  0.850657\n",
            "3            KNN  0.788329   0.790343  0.645898  0.710857  0.670403\n"
          ]
        }
      ]
    },
    {
      "cell_type": "markdown",
      "metadata": {
        "id": "vv-EnP-8SWn9"
      },
      "source": [
        "## XGBoost"
      ]
    },
    {
      "cell_type": "code",
      "execution_count": null,
      "metadata": {
        "id": "VpEqCXcISVm0"
      },
      "outputs": [],
      "source": [
        "# Packages\n",
        "from sklearn.metrics import mean_squared_error\n",
        "from sklearn.metrics import mean_absolute_error\n",
        "from sklearn.metrics import r2_score\n",
        "from sklearn.model_selection import cross_val_score, KFold\n",
        "import plotly.express as px\n",
        "import plotly.figure_factory as ff\n",
        "import plotly.graph_objs as go\n",
        "import xgboost as xgb"
      ]
    },
    {
      "cell_type": "code",
      "execution_count": null,
      "metadata": {
        "colab": {
          "base_uri": "https://localhost:8080/"
        },
        "id": "dOe1JG3KSdqW",
        "outputId": "f52d35c9-035b-4c8a-bff0-385eec4bbaca"
      },
      "outputs": [
        {
          "output_type": "stream",
          "name": "stdout",
          "text": [
            "Looking in indexes: https://pypi.org/simple, https://us-python.pkg.dev/colab-wheels/public/simple/\n",
            "Requirement already satisfied: xgboost in /usr/local/lib/python3.7/dist-packages (0.90)\n",
            "Requirement already satisfied: scipy in /usr/local/lib/python3.7/dist-packages (from xgboost) (1.7.3)\n",
            "Requirement already satisfied: numpy in /usr/local/lib/python3.7/dist-packages (from xgboost) (1.21.6)\n"
          ]
        }
      ],
      "source": [
        "pip install xgboost"
      ]
    },
    {
      "cell_type": "code",
      "execution_count": null,
      "metadata": {
        "colab": {
          "base_uri": "https://localhost:8080/"
        },
        "id": "kh_jr5woSkLe",
        "outputId": "98a2eec6-c12f-4d2c-da8a-46d466aeaad0"
      },
      "outputs": [
        {
          "output_type": "execute_result",
          "data": {
            "text/plain": [
              "XGBRegressor(max_depth=5, n_estimators=1000, objective='reg:squarederror',\n",
              "             subsample=0.5)"
            ]
          },
          "metadata": {},
          "execution_count": 91
        }
      ],
      "source": [
        "reg_mod = xgb.XGBRegressor(objective='reg:squarederror',\n",
        "    n_estimators=1000,\n",
        "    learning_rate=0.10,\n",
        "    subsample=0.5,\n",
        "    colsample_bytree=1,\n",
        "    max_depth=5)\n",
        "reg_mod.fit(X_train, y_train)"
      ]
    },
    {
      "cell_type": "code",
      "execution_count": null,
      "metadata": {
        "colab": {
          "base_uri": "https://localhost:8080/"
        },
        "id": "6Gu5K53ISoCz",
        "outputId": "74d4ab45-51a5-469f-9c3b-41d557cc9fa7"
      },
      "outputs": [
        {
          "output_type": "stream",
          "name": "stdout",
          "text": [
            "[0.11288935 0.09718356 0.04228333 ... 0.14806646 0.2129327  0.11931807]\n"
          ]
        }
      ],
      "source": [
        "reg_mod.fit(X_train,y_train)\n",
        "\n",
        "xgb_predictions = reg_mod.predict(X_test)\n",
        "print(xgb_predictions)"
      ]
    },
    {
      "cell_type": "code",
      "execution_count": null,
      "metadata": {
        "colab": {
          "base_uri": "https://localhost:8080/"
        },
        "id": "Cnsvyc2aSryI",
        "outputId": "018f1a17-9ffc-4e4a-e657-b9334fd0cec8"
      },
      "outputs": [
        {
          "output_type": "stream",
          "name": "stdout",
          "text": [
            "RMSE: 0.212467\n"
          ]
        }
      ],
      "source": [
        "rmse = np.sqrt(mean_squared_error(y_test, xgb_predictions))\n",
        "print(\"RMSE: %f\" % (rmse))"
      ]
    },
    {
      "cell_type": "code",
      "execution_count": null,
      "metadata": {
        "id": "A7imcQm7S5JF"
      },
      "outputs": [],
      "source": [
        "data_dmatrix = xgb.DMatrix(data=X,label=y)"
      ]
    },
    {
      "cell_type": "code",
      "execution_count": null,
      "metadata": {
        "colab": {
          "base_uri": "https://localhost:8080/"
        },
        "id": "p8VjsmNrS7s1",
        "outputId": "7a813587-01eb-4660-f243-a14d08883a93"
      },
      "outputs": [
        {
          "output_type": "stream",
          "name": "stdout",
          "text": [
            "[04:37:55] WARNING: /workspace/src/objective/regression_obj.cu:152: reg:linear is now deprecated in favor of reg:squarederror.\n",
            "[04:37:55] WARNING: /workspace/src/objective/regression_obj.cu:152: reg:linear is now deprecated in favor of reg:squarederror.\n",
            "[04:37:55] WARNING: /workspace/src/objective/regression_obj.cu:152: reg:linear is now deprecated in favor of reg:squarederror.\n"
          ]
        }
      ],
      "source": [
        "Params = {\"objective\":\"reg:linear\",'colsample_bytree': 0.3,'learning_rate': 0.1,\n",
        "                'max_depth': 5, 'alpha': 10}\n",
        "\n",
        "cv_results = xgb.cv(dtrain=data_dmatrix, params=Params, nfold=3,\n",
        "                    num_boost_round=50,early_stopping_rounds=10,metrics=\"rmse\", as_pandas=True, seed=100)"
      ]
    },
    {
      "cell_type": "code",
      "execution_count": null,
      "metadata": {
        "colab": {
          "base_uri": "https://localhost:8080/",
          "height": 206
        },
        "id": "Iau084ZpTCA-",
        "outputId": "c43befc7-6151-4c83-d5bf-3c145c76f33a"
      },
      "outputs": [
        {
          "output_type": "execute_result",
          "data": {
            "text/plain": [
              "    train-rmse-mean  train-rmse-std  test-rmse-mean  test-rmse-std\n",
              "49         0.223512        0.002422        0.230646       0.006455\n",
              "48         0.223634        0.002429        0.230707       0.006462\n",
              "47         0.224847        0.002519        0.231850       0.006346\n",
              "46         0.226964        0.002029        0.233861       0.006443\n",
              "45         0.227211        0.002075        0.234043       0.006431"
            ],
            "text/html": [
              "\n",
              "  <div id=\"df-6b87450f-4cbc-463d-b80a-3bbee0cb5d48\">\n",
              "    <div class=\"colab-df-container\">\n",
              "      <div>\n",
              "<style scoped>\n",
              "    .dataframe tbody tr th:only-of-type {\n",
              "        vertical-align: middle;\n",
              "    }\n",
              "\n",
              "    .dataframe tbody tr th {\n",
              "        vertical-align: top;\n",
              "    }\n",
              "\n",
              "    .dataframe thead th {\n",
              "        text-align: right;\n",
              "    }\n",
              "</style>\n",
              "<table border=\"1\" class=\"dataframe\">\n",
              "  <thead>\n",
              "    <tr style=\"text-align: right;\">\n",
              "      <th></th>\n",
              "      <th>train-rmse-mean</th>\n",
              "      <th>train-rmse-std</th>\n",
              "      <th>test-rmse-mean</th>\n",
              "      <th>test-rmse-std</th>\n",
              "    </tr>\n",
              "  </thead>\n",
              "  <tbody>\n",
              "    <tr>\n",
              "      <th>49</th>\n",
              "      <td>0.223512</td>\n",
              "      <td>0.002422</td>\n",
              "      <td>0.230646</td>\n",
              "      <td>0.006455</td>\n",
              "    </tr>\n",
              "    <tr>\n",
              "      <th>48</th>\n",
              "      <td>0.223634</td>\n",
              "      <td>0.002429</td>\n",
              "      <td>0.230707</td>\n",
              "      <td>0.006462</td>\n",
              "    </tr>\n",
              "    <tr>\n",
              "      <th>47</th>\n",
              "      <td>0.224847</td>\n",
              "      <td>0.002519</td>\n",
              "      <td>0.231850</td>\n",
              "      <td>0.006346</td>\n",
              "    </tr>\n",
              "    <tr>\n",
              "      <th>46</th>\n",
              "      <td>0.226964</td>\n",
              "      <td>0.002029</td>\n",
              "      <td>0.233861</td>\n",
              "      <td>0.006443</td>\n",
              "    </tr>\n",
              "    <tr>\n",
              "      <th>45</th>\n",
              "      <td>0.227211</td>\n",
              "      <td>0.002075</td>\n",
              "      <td>0.234043</td>\n",
              "      <td>0.006431</td>\n",
              "    </tr>\n",
              "  </tbody>\n",
              "</table>\n",
              "</div>\n",
              "      <button class=\"colab-df-convert\" onclick=\"convertToInteractive('df-6b87450f-4cbc-463d-b80a-3bbee0cb5d48')\"\n",
              "              title=\"Convert this dataframe to an interactive table.\"\n",
              "              style=\"display:none;\">\n",
              "        \n",
              "  <svg xmlns=\"http://www.w3.org/2000/svg\" height=\"24px\"viewBox=\"0 0 24 24\"\n",
              "       width=\"24px\">\n",
              "    <path d=\"M0 0h24v24H0V0z\" fill=\"none\"/>\n",
              "    <path d=\"M18.56 5.44l.94 2.06.94-2.06 2.06-.94-2.06-.94-.94-2.06-.94 2.06-2.06.94zm-11 1L8.5 8.5l.94-2.06 2.06-.94-2.06-.94L8.5 2.5l-.94 2.06-2.06.94zm10 10l.94 2.06.94-2.06 2.06-.94-2.06-.94-.94-2.06-.94 2.06-2.06.94z\"/><path d=\"M17.41 7.96l-1.37-1.37c-.4-.4-.92-.59-1.43-.59-.52 0-1.04.2-1.43.59L10.3 9.45l-7.72 7.72c-.78.78-.78 2.05 0 2.83L4 21.41c.39.39.9.59 1.41.59.51 0 1.02-.2 1.41-.59l7.78-7.78 2.81-2.81c.8-.78.8-2.07 0-2.86zM5.41 20L4 18.59l7.72-7.72 1.47 1.35L5.41 20z\"/>\n",
              "  </svg>\n",
              "      </button>\n",
              "      \n",
              "  <style>\n",
              "    .colab-df-container {\n",
              "      display:flex;\n",
              "      flex-wrap:wrap;\n",
              "      gap: 12px;\n",
              "    }\n",
              "\n",
              "    .colab-df-convert {\n",
              "      background-color: #E8F0FE;\n",
              "      border: none;\n",
              "      border-radius: 50%;\n",
              "      cursor: pointer;\n",
              "      display: none;\n",
              "      fill: #1967D2;\n",
              "      height: 32px;\n",
              "      padding: 0 0 0 0;\n",
              "      width: 32px;\n",
              "    }\n",
              "\n",
              "    .colab-df-convert:hover {\n",
              "      background-color: #E2EBFA;\n",
              "      box-shadow: 0px 1px 2px rgba(60, 64, 67, 0.3), 0px 1px 3px 1px rgba(60, 64, 67, 0.15);\n",
              "      fill: #174EA6;\n",
              "    }\n",
              "\n",
              "    [theme=dark] .colab-df-convert {\n",
              "      background-color: #3B4455;\n",
              "      fill: #D2E3FC;\n",
              "    }\n",
              "\n",
              "    [theme=dark] .colab-df-convert:hover {\n",
              "      background-color: #434B5C;\n",
              "      box-shadow: 0px 1px 3px 1px rgba(0, 0, 0, 0.15);\n",
              "      filter: drop-shadow(0px 1px 2px rgba(0, 0, 0, 0.3));\n",
              "      fill: #FFFFFF;\n",
              "    }\n",
              "  </style>\n",
              "\n",
              "      <script>\n",
              "        const buttonEl =\n",
              "          document.querySelector('#df-6b87450f-4cbc-463d-b80a-3bbee0cb5d48 button.colab-df-convert');\n",
              "        buttonEl.style.display =\n",
              "          google.colab.kernel.accessAllowed ? 'block' : 'none';\n",
              "\n",
              "        async function convertToInteractive(key) {\n",
              "          const element = document.querySelector('#df-6b87450f-4cbc-463d-b80a-3bbee0cb5d48');\n",
              "          const dataTable =\n",
              "            await google.colab.kernel.invokeFunction('convertToInteractive',\n",
              "                                                     [key], {});\n",
              "          if (!dataTable) return;\n",
              "\n",
              "          const docLinkHtml = 'Like what you see? Visit the ' +\n",
              "            '<a target=\"_blank\" href=https://colab.research.google.com/notebooks/data_table.ipynb>data table notebook</a>'\n",
              "            + ' to learn more about interactive tables.';\n",
              "          element.innerHTML = '';\n",
              "          dataTable['output_type'] = 'display_data';\n",
              "          await google.colab.output.renderOutput(dataTable, element);\n",
              "          const docLink = document.createElement('div');\n",
              "          docLink.innerHTML = docLinkHtml;\n",
              "          element.appendChild(docLink);\n",
              "        }\n",
              "      </script>\n",
              "    </div>\n",
              "  </div>\n",
              "  "
            ]
          },
          "metadata": {},
          "execution_count": 96
        }
      ],
      "source": [
        "cv_results.sort_values(by='test-rmse-mean',inplace=True)\n",
        "cv_results.head()"
      ]
    },
    {
      "cell_type": "code",
      "execution_count": null,
      "metadata": {
        "colab": {
          "base_uri": "https://localhost:8080/"
        },
        "id": "PKlJ5RM7TGu6",
        "outputId": "9a40ac29-b449-4165-88c7-5ea53cc4b66d"
      },
      "outputs": [
        {
          "output_type": "stream",
          "name": "stdout",
          "text": [
            "[04:37:57] WARNING: /workspace/src/objective/regression_obj.cu:152: reg:linear is now deprecated in favor of reg:squarederror.\n",
            "<xgboost.core.Booster object at 0x7ff883cd6d90>\n"
          ]
        }
      ],
      "source": [
        "xg_reg = xgb.train(params=Params, dtrain=data_dmatrix, num_boost_round=10)\n",
        "print(xg_reg)"
      ]
    },
    {
      "cell_type": "code",
      "execution_count": null,
      "metadata": {
        "colab": {
          "base_uri": "https://localhost:8080/",
          "height": 85
        },
        "id": "JvRrgBYBTRFj",
        "outputId": "85c01872-0863-473f-a256-0fbde1a65aca"
      },
      "outputs": [
        {
          "output_type": "display_data",
          "data": {
            "text/plain": [
              "<Figure size 432x288 with 1 Axes>"
            ],
            "image/png": "[encoded data removed]"
          },
          "metadata": {}
        }
      ],
      "source": [
        "# Plot Tree\n",
        "xgb.plot_tree(xg_reg,num_trees=0)\n",
        "plt.rcParams['figure.figsize'] = [80, 30]\n",
        "plt.show()"
      ]
    },
    {
      "cell_type": "code",
      "execution_count": null,
      "metadata": {
        "colab": {
          "base_uri": "https://localhost:8080/",
          "height": 636
        },
        "id": "GUbL9H85TVM6",
        "outputId": "ef7e673c-f093-4f1f-9b6b-147f2ed3fbaa"
      },
      "outputs": [
        {
          "output_type": "display_data",
          "data": {
            "text/plain": [
              "<Figure size 5760x2160 with 1 Axes>"
            ],
            "image/png": "[encoded data removed]"
          },
          "metadata": {}
        }
      ],
      "source": [
        "# Feature Importance\n",
        "xgb.plot_importance(xg_reg)\n",
        "plt.rcParams['figure.figsize'] = [10, 8]\n",
        "plt.show()"
      ]
    },
    {
      "cell_type": "code",
      "execution_count": null,
      "metadata": {
        "colab": {
          "base_uri": "https://localhost:8080/"
        },
        "id": "SFW-5wJTTYls",
        "outputId": "d75f0fb5-339a-4d19-d232-7fc7406e41ae"
      },
      "outputs": [
        {
          "output_type": "execute_result",
          "data": {
            "text/plain": [
              "{'base_score': 0.5,\n",
              " 'booster': 'gbtree',\n",
              " 'colsample_bylevel': 1,\n",
              " 'colsample_bynode': 1,\n",
              " 'colsample_bytree': 1,\n",
              " 'gamma': 0,\n",
              " 'learning_rate': 0.1,\n",
              " 'max_delta_step': 0,\n",
              " 'max_depth': 3,\n",
              " 'min_child_weight': 1,\n",
              " 'missing': None,\n",
              " 'n_estimators': 100,\n",
              " 'n_jobs': 1,\n",
              " 'nthread': None,\n",
              " 'objective': 'binary:logistic',\n",
              " 'random_state': 0,\n",
              " 'reg_alpha': 0,\n",
              " 'reg_lambda': 1,\n",
              " 'scale_pos_weight': 1,\n",
              " 'seed': None,\n",
              " 'silent': None,\n",
              " 'subsample': 1,\n",
              " 'verbosity': 1}"
            ]
          },
          "metadata": {},
          "execution_count": 100
        }
      ],
      "source": [
        "import xgboost\n",
        "xgboost.XGBClassifier().get_params()"
      ]
    },
    {
      "cell_type": "code",
      "execution_count": null,
      "metadata": {
        "colab": {
          "base_uri": "https://localhost:8080/"
        },
        "id": "zsgr1hZMTczc",
        "outputId": "908716be-6a17-4bdb-9f93-7c0875375d2f"
      },
      "outputs": [
        {
          "output_type": "stream",
          "name": "stdout",
          "text": [
            "[04:38:00] WARNING: /workspace/src/objective/regression_obj.cu:152: reg:linear is now deprecated in favor of reg:squarederror.\n",
            "[0]\tvalidation_0-auc:0.977931\n",
            "Will train until validation_0-auc hasn't improved in 10 rounds.\n",
            "[1]\tvalidation_0-auc:0.979156\n",
            "[2]\tvalidation_0-auc:0.980423\n",
            "[3]\tvalidation_0-auc:0.980584\n",
            "[4]\tvalidation_0-auc:0.980937\n",
            "[5]\tvalidation_0-auc:0.9811\n",
            "[6]\tvalidation_0-auc:0.980985\n",
            "[7]\tvalidation_0-auc:0.981331\n",
            "[8]\tvalidation_0-auc:0.981596\n",
            "[9]\tvalidation_0-auc:0.981795\n",
            "[10]\tvalidation_0-auc:0.981727\n",
            "[11]\tvalidation_0-auc:0.981958\n",
            "[12]\tvalidation_0-auc:0.981923\n",
            "[13]\tvalidation_0-auc:0.98213\n",
            "[14]\tvalidation_0-auc:0.982403\n",
            "[15]\tvalidation_0-auc:0.982247\n",
            "[16]\tvalidation_0-auc:0.982398\n",
            "[17]\tvalidation_0-auc:0.982468\n",
            "[18]\tvalidation_0-auc:0.982435\n",
            "[19]\tvalidation_0-auc:0.982654\n",
            "[20]\tvalidation_0-auc:0.982594\n",
            "[21]\tvalidation_0-auc:0.982754\n",
            "[22]\tvalidation_0-auc:0.982677\n",
            "[23]\tvalidation_0-auc:0.982556\n",
            "[24]\tvalidation_0-auc:0.98252\n",
            "[25]\tvalidation_0-auc:0.982377\n",
            "[26]\tvalidation_0-auc:0.98252\n",
            "[27]\tvalidation_0-auc:0.982431\n",
            "[28]\tvalidation_0-auc:0.982385\n",
            "[29]\tvalidation_0-auc:0.982354\n",
            "[30]\tvalidation_0-auc:0.982381\n",
            "[31]\tvalidation_0-auc:0.982683\n",
            "Stopping. Best iteration:\n",
            "[21]\tvalidation_0-auc:0.982754\n",
            "\n"
          ]
        },
        {
          "output_type": "execute_result",
          "data": {
            "text/plain": [
              "XGBRegressor(eval_metric='auc', max_depth=5, n_estimators=1000, subsample=0.5,\n",
              "             verbocity=1)"
            ]
          },
          "metadata": {},
          "execution_count": 101
        }
      ],
      "source": [
        "reg_model = xgb.XGBRegressor(n_estimators=1000,\n",
        "    learning_rate=0.10,\n",
        "    subsample=0.5,\n",
        "    colsample_bytree=1,\n",
        "    max_depth=5,\n",
        "    eval_metric='auc',\n",
        "    verbocity=1)\n",
        "set_eval = [(X_test,y_test)]\n",
        "reg_model.fit(X_train, y_train,early_stopping_rounds=10,eval_set=set_eval,verbose=True)"
      ]
    },
    {
      "cell_type": "code",
      "execution_count": null,
      "metadata": {
        "colab": {
          "base_uri": "https://localhost:8080/"
        },
        "id": "tEnOkDqqTjts",
        "outputId": "533a44fb-5399-48e3-edb8-ba7eafa52505"
      },
      "outputs": [
        {
          "output_type": "stream",
          "name": "stdout",
          "text": [
            "AUC Train : 0.9868\n",
            "AUC Valid: 0.982754\n"
          ]
        }
      ],
      "source": [
        "from sklearn.metrics import roc_auc_score\n",
        "y_train_pred = reg_model.predict(X_train)\n",
        "y_valid_pred = reg_model.predict(X_test)\n",
        "print(\"AUC Train : {:.4f}\\nAUC Valid: {:4f}\".format(roc_auc_score(y_train,y_train_pred),\n",
        "                                                    roc_auc_score(y_test,y_valid_pred)))"
      ]
    },
    {
      "cell_type": "code",
      "execution_count": null,
      "metadata": {
        "colab": {
          "base_uri": "https://localhost:8080/"
        },
        "id": "Tfy2wIH3TnkK",
        "outputId": "11a40ac6-f770-415b-948a-e1b8fc251673"
      },
      "outputs": [
        {
          "output_type": "stream",
          "name": "stdout",
          "text": [
            "27\n"
          ]
        },
        {
          "output_type": "execute_result",
          "data": {
            "text/plain": [
              "{'learning_rate': [0.02, 0.05, 0.1],\n",
              " 'max_depth': [2, 3, 5],\n",
              " 'n_estimators': [1000, 2000, 3000]}"
            ]
          },
          "metadata": {},
          "execution_count": 103
        }
      ],
      "source": [
        "learning_rate_list = [0.02,0.05,0.10]\n",
        "max_depth_list = [2,3,5]\n",
        "n_estimators_list = [1000,2000,3000]\n",
        "params_dict = {\"learning_rate\": learning_rate_list,\n",
        "               \"max_depth\": max_depth_list,\n",
        "               \"n_estimators\": n_estimators_list}\n",
        "num_combination = 1\n",
        "for a in params_dict.values():num_combination *=len(a)\n",
        "print(num_combination)\n",
        "params_dict"
      ]
    },
    {
      "cell_type": "code",
      "execution_count": null,
      "metadata": {
        "colab": {
          "base_uri": "https://localhost:8080/"
        },
        "id": "fqQYo7XlTr6z",
        "outputId": "a07f2dac-1216-4435-f15b-40750e0b4ae1"
      },
      "outputs": [
        {
          "output_type": "stream",
          "name": "stdout",
          "text": [
            "Fitting 2 folds for each of 27 candidates, totalling 54 fits\n",
            "[CV 1/2] END learning_rate=0.02, max_depth=2, n_estimators=1000;, score=(train=0.937, test=0.932) total time=   5.4s\n",
            "[CV 2/2] END learning_rate=0.02, max_depth=2, n_estimators=1000;, score=(train=0.936, test=0.933) total time=   5.4s\n",
            "[CV 1/2] END learning_rate=0.02, max_depth=2, n_estimators=2000;, score=(train=0.945, test=0.934) total time=  10.7s\n",
            "[CV 2/2] END learning_rate=0.02, max_depth=2, n_estimators=2000;, score=(train=0.943, test=0.935) total time=  10.6s\n",
            "[CV 1/2] END learning_rate=0.02, max_depth=2, n_estimators=3000;, score=(train=0.949, test=0.935) total time=  17.2s\n",
            "[CV 2/2] END learning_rate=0.02, max_depth=2, n_estimators=3000;, score=(train=0.950, test=0.936) total time=  16.1s\n",
            "[CV 1/2] END learning_rate=0.02, max_depth=3, n_estimators=1000;, score=(train=0.946, test=0.934) total time=   8.2s\n",
            "[CV 2/2] END learning_rate=0.02, max_depth=3, n_estimators=1000;, score=(train=0.945, test=0.934) total time=   6.8s\n",
            "[CV 1/2] END learning_rate=0.02, max_depth=3, n_estimators=2000;, score=(train=0.955, test=0.934) total time=  13.6s\n",
            "[CV 2/2] END learning_rate=0.02, max_depth=3, n_estimators=2000;, score=(train=0.957, test=0.935) total time=  13.6s\n",
            "[CV 1/2] END learning_rate=0.02, max_depth=3, n_estimators=3000;, score=(train=0.962, test=0.934) total time=  20.4s\n",
            "[CV 2/2] END learning_rate=0.02, max_depth=3, n_estimators=3000;, score=(train=0.964, test=0.936) total time=  20.4s\n",
            "[CV 1/2] END learning_rate=0.02, max_depth=5, n_estimators=1000;, score=(train=0.963, test=0.935) total time=  10.2s\n",
            "[CV 2/2] END learning_rate=0.02, max_depth=5, n_estimators=1000;, score=(train=0.965, test=0.937) total time=  10.1s\n",
            "[CV 1/2] END learning_rate=0.02, max_depth=5, n_estimators=2000;, score=(train=0.985, test=0.935) total time=  20.4s\n",
            "[CV 2/2] END learning_rate=0.02, max_depth=5, n_estimators=2000;, score=(train=0.984, test=0.937) total time=  20.4s\n",
            "[CV 1/2] END learning_rate=0.02, max_depth=5, n_estimators=3000;, score=(train=0.997, test=0.935) total time=  30.5s\n",
            "[CV 2/2] END learning_rate=0.02, max_depth=5, n_estimators=3000;, score=(train=0.995, test=0.936) total time=  30.7s\n",
            "[CV 1/2] END learning_rate=0.05, max_depth=2, n_estimators=1000;, score=(train=0.947, test=0.934) total time=   5.4s\n",
            "[CV 2/2] END learning_rate=0.05, max_depth=2, n_estimators=1000;, score=(train=0.946, test=0.935) total time=   5.3s\n",
            "[CV 1/2] END learning_rate=0.05, max_depth=2, n_estimators=2000;, score=(train=0.956, test=0.934) total time=  10.7s\n",
            "[CV 2/2] END learning_rate=0.05, max_depth=2, n_estimators=2000;, score=(train=0.956, test=0.934) total time=  10.7s\n",
            "[CV 1/2] END learning_rate=0.05, max_depth=2, n_estimators=3000;, score=(train=0.961, test=0.932) total time=  16.0s\n",
            "[CV 2/2] END learning_rate=0.05, max_depth=2, n_estimators=3000;, score=(train=0.961, test=0.934) total time=  16.0s\n",
            "[CV 1/2] END learning_rate=0.05, max_depth=3, n_estimators=1000;, score=(train=0.959, test=0.934) total time=   6.8s\n",
            "[CV 2/2] END learning_rate=0.05, max_depth=3, n_estimators=1000;, score=(train=0.960, test=0.935) total time=   6.9s\n",
            "[CV 1/2] END learning_rate=0.05, max_depth=3, n_estimators=2000;, score=(train=0.975, test=0.932) total time=  13.6s\n",
            "[CV 2/2] END learning_rate=0.05, max_depth=3, n_estimators=2000;, score=(train=0.975, test=0.934) total time=  13.6s\n",
            "[CV 1/2] END learning_rate=0.05, max_depth=3, n_estimators=3000;, score=(train=0.987, test=0.931) total time=  20.5s\n",
            "[CV 2/2] END learning_rate=0.05, max_depth=3, n_estimators=3000;, score=(train=0.986, test=0.934) total time=  20.5s\n",
            "[CV 1/2] END learning_rate=0.05, max_depth=5, n_estimators=1000;, score=(train=0.991, test=0.935) total time=  10.0s\n",
            "[CV 2/2] END learning_rate=0.05, max_depth=5, n_estimators=1000;, score=(train=0.990, test=0.936) total time=  10.0s\n",
            "[CV 1/2] END learning_rate=0.05, max_depth=5, n_estimators=2000;, score=(train=1.000, test=0.934) total time=  20.3s\n",
            "[CV 2/2] END learning_rate=0.05, max_depth=5, n_estimators=2000;, score=(train=1.000, test=0.935) total time=  20.4s\n",
            "[CV 1/2] END learning_rate=0.05, max_depth=5, n_estimators=3000;, score=(train=1.000, test=0.933) total time=  30.4s\n",
            "[CV 2/2] END learning_rate=0.05, max_depth=5, n_estimators=3000;, score=(train=1.000, test=0.935) total time=  30.6s\n",
            "[CV 1/2] END learning_rate=0.1, max_depth=2, n_estimators=1000;, score=(train=0.954, test=0.934) total time=   5.4s\n",
            "[CV 2/2] END learning_rate=0.1, max_depth=2, n_estimators=1000;, score=(train=0.955, test=0.935) total time=   5.3s\n",
            "[CV 1/2] END learning_rate=0.1, max_depth=2, n_estimators=2000;, score=(train=0.964, test=0.932) total time=  10.7s\n",
            "[CV 2/2] END learning_rate=0.1, max_depth=2, n_estimators=2000;, score=(train=0.967, test=0.932) total time=  10.7s\n",
            "[CV 1/2] END learning_rate=0.1, max_depth=2, n_estimators=3000;, score=(train=0.975, test=0.930) total time=  16.1s\n",
            "[CV 2/2] END learning_rate=0.1, max_depth=2, n_estimators=3000;, score=(train=0.974, test=0.932) total time=  16.0s\n",
            "[CV 1/2] END learning_rate=0.1, max_depth=3, n_estimators=1000;, score=(train=0.974, test=0.931) total time=   6.8s\n",
            "[CV 2/2] END learning_rate=0.1, max_depth=3, n_estimators=1000;, score=(train=0.974, test=0.934) total time=   6.8s\n",
            "[CV 1/2] END learning_rate=0.1, max_depth=3, n_estimators=2000;, score=(train=0.994, test=0.929) total time=  13.6s\n",
            "[CV 2/2] END learning_rate=0.1, max_depth=3, n_estimators=2000;, score=(train=0.993, test=0.932) total time=  13.6s\n",
            "[CV 1/2] END learning_rate=0.1, max_depth=3, n_estimators=3000;, score=(train=1.000, test=0.929) total time=  20.5s\n",
            "[CV 2/2] END learning_rate=0.1, max_depth=3, n_estimators=3000;, score=(train=0.999, test=0.931) total time=  20.5s\n",
            "[CV 1/2] END learning_rate=0.1, max_depth=5, n_estimators=1000;, score=(train=1.000, test=0.934) total time=  10.0s\n",
            "[CV 2/2] END learning_rate=0.1, max_depth=5, n_estimators=1000;, score=(train=1.000, test=0.933) total time=  10.1s\n",
            "[CV 1/2] END learning_rate=0.1, max_depth=5, n_estimators=2000;, score=(train=1.000, test=0.932) total time=  20.1s\n",
            "[CV 2/2] END learning_rate=0.1, max_depth=5, n_estimators=2000;, score=(train=1.000, test=0.934) total time=  20.2s\n",
            "[CV 1/2] END learning_rate=0.1, max_depth=5, n_estimators=3000;, score=(train=1.000, test=0.932) total time=  29.7s\n",
            "[CV 2/2] END learning_rate=0.1, max_depth=5, n_estimators=3000;, score=(train=1.000, test=0.933) total time=  29.9s\n"
          ]
        },
        {
          "output_type": "execute_result",
          "data": {
            "text/plain": [
              "GridSearchCV(cv=2,\n",
              "             estimator=XGBClassifier(colsample_bytree=0.25, eval_metric='auc',\n",
              "                                     subsample=0.5, use_label_encoder=False),\n",
              "             param_grid={'learning_rate': [0.02, 0.05, 0.1],\n",
              "                         'max_depth': [2, 3, 5],\n",
              "                         'n_estimators': [1000, 2000, 3000]},\n",
              "             return_train_score=True,\n",
              "             scoring=<function my_roc_auc_score at 0x7ff8832fbdd0>, verbose=4)"
            ]
          },
          "metadata": {},
          "execution_count": 104
        }
      ],
      "source": [
        "def my_roc_auc_score(model,X,y):return roc_auc_score(y,model.predict(X))\n",
        "my_model = GridSearchCV(estimator=xgboost.XGBClassifier(subsample=0.5,\n",
        "                                                        colsample_bytree=0.25,\n",
        "                                                        eval_metric='auc',\n",
        "                                                        use_label_encoder=False),\n",
        "                        param_grid=params_dict,\n",
        "                        cv=2,\n",
        "                        scoring=my_roc_auc_score,\n",
        "                        return_train_score=True,\n",
        "                        verbose=4)\n",
        "my_model.fit(X,y)"
      ]
    },
    {
      "cell_type": "code",
      "execution_count": null,
      "metadata": {
        "colab": {
          "base_uri": "https://localhost:8080/",
          "height": 206
        },
        "id": "OY6F1yi3Twzj",
        "outputId": "f1107770-157e-4bdb-92c5-8fbef9982556"
      },
      "outputs": [
        {
          "output_type": "execute_result",
          "data": {
            "text/plain": [
              "    rank_test_score  mean_test_score  mean_train_score param_learning_rate  \\\n",
              "7                 1         0.936299          0.984526                0.02   \n",
              "6                 2         0.935874          0.964145                0.02   \n",
              "8                 3         0.935651          0.995898                0.02   \n",
              "15                4         0.935525          0.990826                0.05   \n",
              "2                 5         0.935318          0.949519                0.02   \n",
              "\n",
              "   param_max_depth param_n_estimators  \n",
              "7                5               2000  \n",
              "6                5               1000  \n",
              "8                5               3000  \n",
              "15               5               1000  \n",
              "2                2               3000  "
            ],
            "text/html": [
              "\n",
              "  <div id=\"df-e2eedb03-de7f-4899-8f9c-2e744f1dcae6\">\n",
              "    <div class=\"colab-df-container\">\n",
              "      <div>\n",
              "<style scoped>\n",
              "    .dataframe tbody tr th:only-of-type {\n",
              "        vertical-align: middle;\n",
              "    }\n",
              "\n",
              "    .dataframe tbody tr th {\n",
              "        vertical-align: top;\n",
              "    }\n",
              "\n",
              "    .dataframe thead th {\n",
              "        text-align: right;\n",
              "    }\n",
              "</style>\n",
              "<table border=\"1\" class=\"dataframe\">\n",
              "  <thead>\n",
              "    <tr style=\"text-align: right;\">\n",
              "      <th></th>\n",
              "      <th>rank_test_score</th>\n",
              "      <th>mean_test_score</th>\n",
              "      <th>mean_train_score</th>\n",
              "      <th>param_learning_rate</th>\n",
              "      <th>param_max_depth</th>\n",
              "      <th>param_n_estimators</th>\n",
              "    </tr>\n",
              "  </thead>\n",
              "  <tbody>\n",
              "    <tr>\n",
              "      <th>7</th>\n",
              "      <td>1</td>\n",
              "      <td>0.936299</td>\n",
              "      <td>0.984526</td>\n",
              "      <td>0.02</td>\n",
              "      <td>5</td>\n",
              "      <td>2000</td>\n",
              "    </tr>\n",
              "    <tr>\n",
              "      <th>6</th>\n",
              "      <td>2</td>\n",
              "      <td>0.935874</td>\n",
              "      <td>0.964145</td>\n",
              "      <td>0.02</td>\n",
              "      <td>5</td>\n",
              "      <td>1000</td>\n",
              "    </tr>\n",
              "    <tr>\n",
              "      <th>8</th>\n",
              "      <td>3</td>\n",
              "      <td>0.935651</td>\n",
              "      <td>0.995898</td>\n",
              "      <td>0.02</td>\n",
              "      <td>5</td>\n",
              "      <td>3000</td>\n",
              "    </tr>\n",
              "    <tr>\n",
              "      <th>15</th>\n",
              "      <td>4</td>\n",
              "      <td>0.935525</td>\n",
              "      <td>0.990826</td>\n",
              "      <td>0.05</td>\n",
              "      <td>5</td>\n",
              "      <td>1000</td>\n",
              "    </tr>\n",
              "    <tr>\n",
              "      <th>2</th>\n",
              "      <td>5</td>\n",
              "      <td>0.935318</td>\n",
              "      <td>0.949519</td>\n",
              "      <td>0.02</td>\n",
              "      <td>2</td>\n",
              "      <td>3000</td>\n",
              "    </tr>\n",
              "  </tbody>\n",
              "</table>\n",
              "</div>\n",
              "      <button class=\"colab-df-convert\" onclick=\"convertToInteractive('df-e2eedb03-de7f-4899-8f9c-2e744f1dcae6')\"\n",
              "              title=\"Convert this dataframe to an interactive table.\"\n",
              "              style=\"display:none;\">\n",
              "        \n",
              "  <svg xmlns=\"http://www.w3.org/2000/svg\" height=\"24px\"viewBox=\"0 0 24 24\"\n",
              "       width=\"24px\">\n",
              "    <path d=\"M0 0h24v24H0V0z\" fill=\"none\"/>\n",
              "    <path d=\"M18.56 5.44l.94 2.06.94-2.06 2.06-.94-2.06-.94-.94-2.06-.94 2.06-2.06.94zm-11 1L8.5 8.5l.94-2.06 2.06-.94-2.06-.94L8.5 2.5l-.94 2.06-2.06.94zm10 10l.94 2.06.94-2.06 2.06-.94-2.06-.94-.94-2.06-.94 2.06-2.06.94z\"/><path d=\"M17.41 7.96l-1.37-1.37c-.4-.4-.92-.59-1.43-.59-.52 0-1.04.2-1.43.59L10.3 9.45l-7.72 7.72c-.78.78-.78 2.05 0 2.83L4 21.41c.39.39.9.59 1.41.59.51 0 1.02-.2 1.41-.59l7.78-7.78 2.81-2.81c.8-.78.8-2.07 0-2.86zM5.41 20L4 18.59l7.72-7.72 1.47 1.35L5.41 20z\"/>\n",
              "  </svg>\n",
              "      </button>\n",
              "      \n",
              "  <style>\n",
              "    .colab-df-container {\n",
              "      display:flex;\n",
              "      flex-wrap:wrap;\n",
              "      gap: 12px;\n",
              "    }\n",
              "\n",
              "    .colab-df-convert {\n",
              "      background-color: #E8F0FE;\n",
              "      border: none;\n",
              "      border-radius: 50%;\n",
              "      cursor: pointer;\n",
              "      display: none;\n",
              "      fill: #1967D2;\n",
              "      height: 32px;\n",
              "      padding: 0 0 0 0;\n",
              "      width: 32px;\n",
              "    }\n",
              "\n",
              "    .colab-df-convert:hover {\n",
              "      background-color: #E2EBFA;\n",
              "      box-shadow: 0px 1px 2px rgba(60, 64, 67, 0.3), 0px 1px 3px 1px rgba(60, 64, 67, 0.15);\n",
              "      fill: #174EA6;\n",
              "    }\n",
              "\n",
              "    [theme=dark] .colab-df-convert {\n",
              "      background-color: #3B4455;\n",
              "      fill: #D2E3FC;\n",
              "    }\n",
              "\n",
              "    [theme=dark] .colab-df-convert:hover {\n",
              "      background-color: #434B5C;\n",
              "      box-shadow: 0px 1px 3px 1px rgba(0, 0, 0, 0.15);\n",
              "      filter: drop-shadow(0px 1px 2px rgba(0, 0, 0, 0.3));\n",
              "      fill: #FFFFFF;\n",
              "    }\n",
              "  </style>\n",
              "\n",
              "      <script>\n",
              "        const buttonEl =\n",
              "          document.querySelector('#df-e2eedb03-de7f-4899-8f9c-2e744f1dcae6 button.colab-df-convert');\n",
              "        buttonEl.style.display =\n",
              "          google.colab.kernel.accessAllowed ? 'block' : 'none';\n",
              "\n",
              "        async function convertToInteractive(key) {\n",
              "          const element = document.querySelector('#df-e2eedb03-de7f-4899-8f9c-2e744f1dcae6');\n",
              "          const dataTable =\n",
              "            await google.colab.kernel.invokeFunction('convertToInteractive',\n",
              "                                                     [key], {});\n",
              "          if (!dataTable) return;\n",
              "\n",
              "          const docLinkHtml = 'Like what you see? Visit the ' +\n",
              "            '<a target=\"_blank\" href=https://colab.research.google.com/notebooks/data_table.ipynb>data table notebook</a>'\n",
              "            + ' to learn more about interactive tables.';\n",
              "          element.innerHTML = '';\n",
              "          dataTable['output_type'] = 'display_data';\n",
              "          await google.colab.output.renderOutput(dataTable, element);\n",
              "          const docLink = document.createElement('div');\n",
              "          docLink.innerHTML = docLinkHtml;\n",
              "          element.appendChild(docLink);\n",
              "        }\n",
              "      </script>\n",
              "    </div>\n",
              "  </div>\n",
              "  "
            ]
          },
          "metadata": {},
          "execution_count": 105
        }
      ],
      "source": [
        "df_cv_results = pd.DataFrame(my_model.cv_results_)\n",
        "df_cv_results = df_cv_results[['rank_test_score','mean_test_score','mean_train_score',\n",
        "                               'param_learning_rate','param_max_depth','param_n_estimators']]\n",
        "df_cv_results.sort_values(by='rank_test_score',inplace=True)\n",
        "df_cv_results.head()"
      ]
    },
    {
      "cell_type": "code",
      "execution_count": null,
      "metadata": {
        "colab": {
          "base_uri": "https://localhost:8080/",
          "height": 386
        },
        "id": "6eUG6hYsT0nE",
        "outputId": "115d8f2d-9744-42eb-9cf5-cde0ea7c7153"
      },
      "outputs": [
        {
          "output_type": "execute_result",
          "data": {
            "text/plain": [
              "Text(0.5, 1.0, 'Performance')"
            ]
          },
          "metadata": {},
          "execution_count": 106
        },
        {
          "output_type": "display_data",
          "data": {
            "text/plain": [
              "<Figure size 720x360 with 1 Axes>"
            ],
            "image/png": "[encoded data removed]"
          },
          "metadata": {}
        }
      ],
      "source": [
        "df_cv_results.sort_values(by='param_n_estimators',inplace=True)\n",
        "lr_d2 = df_cv_results.loc[(df_cv_results['param_learning_rate']==0.05) & (df_cv_results['param_max_depth']==2)]\n",
        "lr_d3 = df_cv_results.loc[(df_cv_results['param_learning_rate']==0.05) & (df_cv_results['param_max_depth']==3)]\n",
        "lr_d5 = df_cv_results.loc[(df_cv_results['param_learning_rate']==0.05) & (df_cv_results['param_max_depth']==5)]\n",
        "\n",
        "#Plot\n",
        "fig,ax=plt.subplots(figsize=(10,5))\n",
        "lr_d2.plot(x='param_n_estimators', y='mean_test_score',label='Depth:2',ax=ax)\n",
        "lr_d3.plot(x='param_n_estimators', y='mean_test_score',label='Depth:3',ax=ax)\n",
        "lr_d5.plot(x='param_n_estimators', y='mean_test_score',label='Depth:5',ax=ax)\n",
        "\n",
        "plt.ylabel('Mean Validation AUC')\n",
        "plt.title('Performance')"
      ]
    },
    {
      "cell_type": "code",
      "execution_count": null,
      "metadata": {
        "colab": {
          "base_uri": "https://localhost:8080/"
        },
        "id": "nj7ntgT2T9Hr",
        "outputId": "6c031532-4c2d-4813-b8ad-17ba73b41995"
      },
      "outputs": [
        {
          "output_type": "stream",
          "name": "stdout",
          "text": [
            "[0]\tvalidation_0-auc:0.840725\tvalidation_1-auc:0.844582\n",
            "Multiple eval metrics have been passed: 'validation_1-auc' will be used for early stopping.\n",
            "\n",
            "Will train until validation_1-auc hasn't improved in 20 rounds.\n",
            "[1]\tvalidation_0-auc:0.90546\tvalidation_1-auc:0.90679\n",
            "[2]\tvalidation_0-auc:0.924939\tvalidation_1-auc:0.925548\n",
            "[3]\tvalidation_0-auc:0.927656\tvalidation_1-auc:0.926878\n",
            "[4]\tvalidation_0-auc:0.928985\tvalidation_1-auc:0.928323\n",
            "[5]\tvalidation_0-auc:0.927139\tvalidation_1-auc:0.927238\n",
            "[6]\tvalidation_0-auc:0.926972\tvalidation_1-auc:0.927665\n",
            "[7]\tvalidation_0-auc:0.928319\tvalidation_1-auc:0.928316\n",
            "[8]\tvalidation_0-auc:0.928261\tvalidation_1-auc:0.928815\n",
            "[9]\tvalidation_0-auc:0.926605\tvalidation_1-auc:0.927333\n",
            "[10]\tvalidation_0-auc:0.924418\tvalidation_1-auc:0.925359\n",
            "[11]\tvalidation_0-auc:0.922641\tvalidation_1-auc:0.923487\n",
            "[12]\tvalidation_0-auc:0.92122\tvalidation_1-auc:0.922237\n",
            "[13]\tvalidation_0-auc:0.929181\tvalidation_1-auc:0.930183\n",
            "[14]\tvalidation_0-auc:0.929979\tvalidation_1-auc:0.930867\n",
            "[15]\tvalidation_0-auc:0.934772\tvalidation_1-auc:0.935781\n",
            "[16]\tvalidation_0-auc:0.937843\tvalidation_1-auc:0.938573\n",
            "[17]\tvalidation_0-auc:0.93961\tvalidation_1-auc:0.940218\n",
            "[18]\tvalidation_0-auc:0.939308\tvalidation_1-auc:0.940145\n",
            "[19]\tvalidation_0-auc:0.940834\tvalidation_1-auc:0.941719\n",
            "[20]\tvalidation_0-auc:0.941966\tvalidation_1-auc:0.942592\n",
            "[21]\tvalidation_0-auc:0.945094\tvalidation_1-auc:0.945882\n",
            "[22]\tvalidation_0-auc:0.944031\tvalidation_1-auc:0.944914\n",
            "[23]\tvalidation_0-auc:0.943035\tvalidation_1-auc:0.943823\n",
            "[24]\tvalidation_0-auc:0.943161\tvalidation_1-auc:0.944027\n",
            "[25]\tvalidation_0-auc:0.944012\tvalidation_1-auc:0.944869\n",
            "[26]\tvalidation_0-auc:0.944664\tvalidation_1-auc:0.945346\n",
            "[27]\tvalidation_0-auc:0.94525\tvalidation_1-auc:0.9459\n",
            "[28]\tvalidation_0-auc:0.945998\tvalidation_1-auc:0.946876\n",
            "[29]\tvalidation_0-auc:0.945988\tvalidation_1-auc:0.946951\n",
            "[30]\tvalidation_0-auc:0.948094\tvalidation_1-auc:0.948954\n",
            "[31]\tvalidation_0-auc:0.948444\tvalidation_1-auc:0.949323\n",
            "[32]\tvalidation_0-auc:0.949786\tvalidation_1-auc:0.95051\n",
            "[33]\tvalidation_0-auc:0.949237\tvalidation_1-auc:0.950021\n",
            "[34]\tvalidation_0-auc:0.949591\tvalidation_1-auc:0.950491\n",
            "[35]\tvalidation_0-auc:0.949255\tvalidation_1-auc:0.950091\n",
            "[36]\tvalidation_0-auc:0.949294\tvalidation_1-auc:0.950233\n",
            "[37]\tvalidation_0-auc:0.949611\tvalidation_1-auc:0.950443\n",
            "[38]\tvalidation_0-auc:0.949853\tvalidation_1-auc:0.950709\n",
            "[39]\tvalidation_0-auc:0.949722\tvalidation_1-auc:0.950567\n",
            "[40]\tvalidation_0-auc:0.949854\tvalidation_1-auc:0.950592\n",
            "[41]\tvalidation_0-auc:0.950855\tvalidation_1-auc:0.951782\n",
            "[42]\tvalidation_0-auc:0.952892\tvalidation_1-auc:0.953716\n",
            "[43]\tvalidation_0-auc:0.952994\tvalidation_1-auc:0.953724\n",
            "[44]\tvalidation_0-auc:0.952767\tvalidation_1-auc:0.953469\n",
            "[45]\tvalidation_0-auc:0.953959\tvalidation_1-auc:0.954606\n",
            "[46]\tvalidation_0-auc:0.953799\tvalidation_1-auc:0.954436\n",
            "[47]\tvalidation_0-auc:0.954484\tvalidation_1-auc:0.955213\n",
            "[48]\tvalidation_0-auc:0.955432\tvalidation_1-auc:0.956265\n",
            "[49]\tvalidation_0-auc:0.95598\tvalidation_1-auc:0.956784\n",
            "[50]\tvalidation_0-auc:0.9561\tvalidation_1-auc:0.956807\n",
            "[51]\tvalidation_0-auc:0.956183\tvalidation_1-auc:0.956804\n",
            "[52]\tvalidation_0-auc:0.957308\tvalidation_1-auc:0.957925\n",
            "[53]\tvalidation_0-auc:0.958085\tvalidation_1-auc:0.95875\n",
            "[54]\tvalidation_0-auc:0.958026\tvalidation_1-auc:0.958715\n",
            "[55]\tvalidation_0-auc:0.958084\tvalidation_1-auc:0.958709\n",
            "[56]\tvalidation_0-auc:0.958736\tvalidation_1-auc:0.959443\n",
            "[57]\tvalidation_0-auc:0.959301\tvalidation_1-auc:0.960075\n",
            "[58]\tvalidation_0-auc:0.959207\tvalidation_1-auc:0.959905\n",
            "[59]\tvalidation_0-auc:0.959336\tvalidation_1-auc:0.960061\n",
            "[60]\tvalidation_0-auc:0.96064\tvalidation_1-auc:0.96116\n",
            "[61]\tvalidation_0-auc:0.961613\tvalidation_1-auc:0.962035\n",
            "[62]\tvalidation_0-auc:0.962475\tvalidation_1-auc:0.962778\n",
            "[63]\tvalidation_0-auc:0.962663\tvalidation_1-auc:0.963016\n",
            "[64]\tvalidation_0-auc:0.962748\tvalidation_1-auc:0.963127\n",
            "[65]\tvalidation_0-auc:0.963341\tvalidation_1-auc:0.963676\n",
            "[66]\tvalidation_0-auc:0.963333\tvalidation_1-auc:0.963642\n",
            "[67]\tvalidation_0-auc:0.96325\tvalidation_1-auc:0.963514\n",
            "[68]\tvalidation_0-auc:0.963741\tvalidation_1-auc:0.963973\n",
            "[69]\tvalidation_0-auc:0.964754\tvalidation_1-auc:0.964801\n",
            "[70]\tvalidation_0-auc:0.964723\tvalidation_1-auc:0.96481\n",
            "[71]\tvalidation_0-auc:0.964734\tvalidation_1-auc:0.964819\n",
            "[72]\tvalidation_0-auc:0.965217\tvalidation_1-auc:0.965297\n",
            "[73]\tvalidation_0-auc:0.966065\tvalidation_1-auc:0.96597\n",
            "[74]\tvalidation_0-auc:0.966061\tvalidation_1-auc:0.96598\n",
            "[75]\tvalidation_0-auc:0.96604\tvalidation_1-auc:0.965932\n",
            "[76]\tvalidation_0-auc:0.966021\tvalidation_1-auc:0.96589\n",
            "[77]\tvalidation_0-auc:0.966644\tvalidation_1-auc:0.966448\n",
            "[78]\tvalidation_0-auc:0.96665\tvalidation_1-auc:0.966431\n",
            "[79]\tvalidation_0-auc:0.966655\tvalidation_1-auc:0.966422\n",
            "[80]\tvalidation_0-auc:0.966642\tvalidation_1-auc:0.966438\n",
            "[81]\tvalidation_0-auc:0.966952\tvalidation_1-auc:0.966775\n",
            "[82]\tvalidation_0-auc:0.967547\tvalidation_1-auc:0.967271\n",
            "[83]\tvalidation_0-auc:0.968087\tvalidation_1-auc:0.96778\n",
            "[84]\tvalidation_0-auc:0.968103\tvalidation_1-auc:0.967781\n",
            "[85]\tvalidation_0-auc:0.968059\tvalidation_1-auc:0.967717\n",
            "[86]\tvalidation_0-auc:0.967991\tvalidation_1-auc:0.967653\n",
            "[87]\tvalidation_0-auc:0.96862\tvalidation_1-auc:0.968142\n",
            "[88]\tvalidation_0-auc:0.968597\tvalidation_1-auc:0.968081\n",
            "[89]\tvalidation_0-auc:0.969031\tvalidation_1-auc:0.968509\n",
            "[90]\tvalidation_0-auc:0.969041\tvalidation_1-auc:0.9685\n",
            "[91]\tvalidation_0-auc:0.969351\tvalidation_1-auc:0.968768\n",
            "[92]\tvalidation_0-auc:0.969495\tvalidation_1-auc:0.968826\n",
            "[93]\tvalidation_0-auc:0.96944\tvalidation_1-auc:0.968759\n",
            "[94]\tvalidation_0-auc:0.969774\tvalidation_1-auc:0.969116\n",
            "[95]\tvalidation_0-auc:0.969727\tvalidation_1-auc:0.969091\n",
            "[96]\tvalidation_0-auc:0.970155\tvalidation_1-auc:0.969491\n",
            "[97]\tvalidation_0-auc:0.970611\tvalidation_1-auc:0.969935\n",
            "[98]\tvalidation_0-auc:0.970958\tvalidation_1-auc:0.970237\n",
            "[99]\tvalidation_0-auc:0.970937\tvalidation_1-auc:0.970213\n",
            "[100]\tvalidation_0-auc:0.971388\tvalidation_1-auc:0.970672\n",
            "[101]\tvalidation_0-auc:0.971358\tvalidation_1-auc:0.970619\n",
            "[102]\tvalidation_0-auc:0.97138\tvalidation_1-auc:0.970611\n",
            "[103]\tvalidation_0-auc:0.971659\tvalidation_1-auc:0.970815\n",
            "[104]\tvalidation_0-auc:0.971971\tvalidation_1-auc:0.971079\n",
            "[105]\tvalidation_0-auc:0.972343\tvalidation_1-auc:0.971469\n",
            "[106]\tvalidation_0-auc:0.972618\tvalidation_1-auc:0.971714\n",
            "[107]\tvalidation_0-auc:0.972814\tvalidation_1-auc:0.971956\n",
            "[108]\tvalidation_0-auc:0.973016\tvalidation_1-auc:0.972146\n",
            "[109]\tvalidation_0-auc:0.97302\tvalidation_1-auc:0.972135\n",
            "[110]\tvalidation_0-auc:0.973353\tvalidation_1-auc:0.972447\n",
            "[111]\tvalidation_0-auc:0.973548\tvalidation_1-auc:0.972611\n",
            "[112]\tvalidation_0-auc:0.973537\tvalidation_1-auc:0.972555\n",
            "[113]\tvalidation_0-auc:0.973853\tvalidation_1-auc:0.972829\n",
            "[114]\tvalidation_0-auc:0.97384\tvalidation_1-auc:0.972829\n",
            "[115]\tvalidation_0-auc:0.973858\tvalidation_1-auc:0.972832\n",
            "[116]\tvalidation_0-auc:0.973844\tvalidation_1-auc:0.972799\n",
            "[117]\tvalidation_0-auc:0.97409\tvalidation_1-auc:0.973049\n",
            "[118]\tvalidation_0-auc:0.9741\tvalidation_1-auc:0.973064\n",
            "[119]\tvalidation_0-auc:0.974375\tvalidation_1-auc:0.973344\n",
            "[120]\tvalidation_0-auc:0.974593\tvalidation_1-auc:0.973568\n",
            "[121]\tvalidation_0-auc:0.97475\tvalidation_1-auc:0.973701\n",
            "[122]\tvalidation_0-auc:0.974962\tvalidation_1-auc:0.973889\n",
            "[123]\tvalidation_0-auc:0.975142\tvalidation_1-auc:0.974111\n",
            "[124]\tvalidation_0-auc:0.975122\tvalidation_1-auc:0.974078\n",
            "[125]\tvalidation_0-auc:0.975364\tvalidation_1-auc:0.974309\n",
            "[126]\tvalidation_0-auc:0.975357\tvalidation_1-auc:0.974314\n",
            "[127]\tvalidation_0-auc:0.975552\tvalidation_1-auc:0.974489\n",
            "[128]\tvalidation_0-auc:0.97555\tvalidation_1-auc:0.974465\n",
            "[129]\tvalidation_0-auc:0.975738\tvalidation_1-auc:0.974685\n",
            "[130]\tvalidation_0-auc:0.9758\tvalidation_1-auc:0.974752\n",
            "[131]\tvalidation_0-auc:0.975808\tvalidation_1-auc:0.974759\n",
            "[132]\tvalidation_0-auc:0.975985\tvalidation_1-auc:0.974961\n",
            "[133]\tvalidation_0-auc:0.975993\tvalidation_1-auc:0.974948\n",
            "[134]\tvalidation_0-auc:0.975967\tvalidation_1-auc:0.974937\n",
            "[135]\tvalidation_0-auc:0.976047\tvalidation_1-auc:0.975025\n",
            "[136]\tvalidation_0-auc:0.976121\tvalidation_1-auc:0.975087\n",
            "[137]\tvalidation_0-auc:0.976174\tvalidation_1-auc:0.975168\n",
            "[138]\tvalidation_0-auc:0.976161\tvalidation_1-auc:0.97512\n",
            "[139]\tvalidation_0-auc:0.976149\tvalidation_1-auc:0.9751\n",
            "[140]\tvalidation_0-auc:0.976145\tvalidation_1-auc:0.975123\n",
            "[141]\tvalidation_0-auc:0.976276\tvalidation_1-auc:0.975192\n",
            "[142]\tvalidation_0-auc:0.97624\tvalidation_1-auc:0.97515\n",
            "[143]\tvalidation_0-auc:0.976329\tvalidation_1-auc:0.975235\n",
            "[144]\tvalidation_0-auc:0.976493\tvalidation_1-auc:0.975389\n",
            "[145]\tvalidation_0-auc:0.976634\tvalidation_1-auc:0.975517\n",
            "[146]\tvalidation_0-auc:0.976726\tvalidation_1-auc:0.975599\n",
            "[147]\tvalidation_0-auc:0.976713\tvalidation_1-auc:0.975599\n",
            "[148]\tvalidation_0-auc:0.976708\tvalidation_1-auc:0.975557\n",
            "[149]\tvalidation_0-auc:0.976748\tvalidation_1-auc:0.975547\n",
            "[150]\tvalidation_0-auc:0.976926\tvalidation_1-auc:0.975747\n",
            "[151]\tvalidation_0-auc:0.97701\tvalidation_1-auc:0.975794\n",
            "[152]\tvalidation_0-auc:0.977089\tvalidation_1-auc:0.975886\n",
            "[153]\tvalidation_0-auc:0.977154\tvalidation_1-auc:0.975929\n",
            "[154]\tvalidation_0-auc:0.977241\tvalidation_1-auc:0.975998\n",
            "[155]\tvalidation_0-auc:0.977327\tvalidation_1-auc:0.976036\n",
            "[156]\tvalidation_0-auc:0.977317\tvalidation_1-auc:0.976034\n",
            "[157]\tvalidation_0-auc:0.977294\tvalidation_1-auc:0.97601\n",
            "[158]\tvalidation_0-auc:0.977339\tvalidation_1-auc:0.976066\n",
            "[159]\tvalidation_0-auc:0.977327\tvalidation_1-auc:0.97606\n",
            "[160]\tvalidation_0-auc:0.977382\tvalidation_1-auc:0.976104\n",
            "[161]\tvalidation_0-auc:0.977451\tvalidation_1-auc:0.976196\n",
            "[162]\tvalidation_0-auc:0.97748\tvalidation_1-auc:0.976226\n",
            "[163]\tvalidation_0-auc:0.977531\tvalidation_1-auc:0.97624\n",
            "[164]\tvalidation_0-auc:0.97767\tvalidation_1-auc:0.976375\n",
            "[165]\tvalidation_0-auc:0.977638\tvalidation_1-auc:0.976346\n",
            "[166]\tvalidation_0-auc:0.977662\tvalidation_1-auc:0.976344\n",
            "[167]\tvalidation_0-auc:0.977671\tvalidation_1-auc:0.97636\n",
            "[168]\tvalidation_0-auc:0.977819\tvalidation_1-auc:0.976505\n",
            "[169]\tvalidation_0-auc:0.977926\tvalidation_1-auc:0.97656\n",
            "[170]\tvalidation_0-auc:0.977926\tvalidation_1-auc:0.976549\n",
            "[171]\tvalidation_0-auc:0.977982\tvalidation_1-auc:0.976606\n",
            "[172]\tvalidation_0-auc:0.978002\tvalidation_1-auc:0.97663\n",
            "[173]\tvalidation_0-auc:0.978014\tvalidation_1-auc:0.976639\n",
            "[174]\tvalidation_0-auc:0.978088\tvalidation_1-auc:0.976727\n",
            "[175]\tvalidation_0-auc:0.978135\tvalidation_1-auc:0.97677\n",
            "[176]\tvalidation_0-auc:0.97827\tvalidation_1-auc:0.976834\n",
            "[177]\tvalidation_0-auc:0.978245\tvalidation_1-auc:0.97683\n",
            "[178]\tvalidation_0-auc:0.978294\tvalidation_1-auc:0.976896\n",
            "[179]\tvalidation_0-auc:0.978408\tvalidation_1-auc:0.977013\n",
            "[180]\tvalidation_0-auc:0.978402\tvalidation_1-auc:0.976976\n",
            "[181]\tvalidation_0-auc:0.978382\tvalidation_1-auc:0.976975\n",
            "[182]\tvalidation_0-auc:0.978445\tvalidation_1-auc:0.977044\n",
            "[183]\tvalidation_0-auc:0.978479\tvalidation_1-auc:0.977025\n",
            "[184]\tvalidation_0-auc:0.978506\tvalidation_1-auc:0.976998\n",
            "[185]\tvalidation_0-auc:0.97855\tvalidation_1-auc:0.977064\n",
            "[186]\tvalidation_0-auc:0.978699\tvalidation_1-auc:0.977202\n",
            "[187]\tvalidation_0-auc:0.978697\tvalidation_1-auc:0.977217\n",
            "[188]\tvalidation_0-auc:0.978749\tvalidation_1-auc:0.977242\n",
            "[189]\tvalidation_0-auc:0.978832\tvalidation_1-auc:0.977308\n",
            "[190]\tvalidation_0-auc:0.978871\tvalidation_1-auc:0.977352\n",
            "[191]\tvalidation_0-auc:0.978872\tvalidation_1-auc:0.977345\n",
            "[192]\tvalidation_0-auc:0.978875\tvalidation_1-auc:0.977345\n",
            "[193]\tvalidation_0-auc:0.978924\tvalidation_1-auc:0.977365\n",
            "[194]\tvalidation_0-auc:0.979056\tvalidation_1-auc:0.977508\n",
            "[195]\tvalidation_0-auc:0.979181\tvalidation_1-auc:0.977629\n",
            "[196]\tvalidation_0-auc:0.979225\tvalidation_1-auc:0.977659\n",
            "[197]\tvalidation_0-auc:0.979267\tvalidation_1-auc:0.97771\n",
            "[198]\tvalidation_0-auc:0.979404\tvalidation_1-auc:0.977801\n",
            "[199]\tvalidation_0-auc:0.979506\tvalidation_1-auc:0.977862\n",
            "[200]\tvalidation_0-auc:0.979593\tvalidation_1-auc:0.977956\n",
            "[201]\tvalidation_0-auc:0.979642\tvalidation_1-auc:0.977981\n",
            "[202]\tvalidation_0-auc:0.979712\tvalidation_1-auc:0.978045\n",
            "[203]\tvalidation_0-auc:0.97979\tvalidation_1-auc:0.978141\n",
            "[204]\tvalidation_0-auc:0.979835\tvalidation_1-auc:0.9782\n",
            "[205]\tvalidation_0-auc:0.97986\tvalidation_1-auc:0.978224\n",
            "[206]\tvalidation_0-auc:0.979885\tvalidation_1-auc:0.978243\n",
            "[207]\tvalidation_0-auc:0.979934\tvalidation_1-auc:0.978284\n",
            "[208]\tvalidation_0-auc:0.979912\tvalidation_1-auc:0.978245\n",
            "[209]\tvalidation_0-auc:0.98001\tvalidation_1-auc:0.978361\n",
            "[210]\tvalidation_0-auc:0.980016\tvalidation_1-auc:0.978359\n",
            "[211]\tvalidation_0-auc:0.980089\tvalidation_1-auc:0.978438\n",
            "[212]\tvalidation_0-auc:0.980086\tvalidation_1-auc:0.97842\n",
            "[213]\tvalidation_0-auc:0.980164\tvalidation_1-auc:0.978512\n",
            "[214]\tvalidation_0-auc:0.980211\tvalidation_1-auc:0.978547\n",
            "[215]\tvalidation_0-auc:0.980215\tvalidation_1-auc:0.978561\n",
            "[216]\tvalidation_0-auc:0.980255\tvalidation_1-auc:0.978606\n",
            "[217]\tvalidation_0-auc:0.980323\tvalidation_1-auc:0.978675\n",
            "[218]\tvalidation_0-auc:0.980315\tvalidation_1-auc:0.978661\n",
            "[219]\tvalidation_0-auc:0.980331\tvalidation_1-auc:0.978677\n",
            "[220]\tvalidation_0-auc:0.980388\tvalidation_1-auc:0.978738\n",
            "[221]\tvalidation_0-auc:0.980374\tvalidation_1-auc:0.978735\n",
            "[222]\tvalidation_0-auc:0.980408\tvalidation_1-auc:0.978769\n",
            "[223]\tvalidation_0-auc:0.980426\tvalidation_1-auc:0.978786\n",
            "[224]\tvalidation_0-auc:0.980446\tvalidation_1-auc:0.978807\n",
            "[225]\tvalidation_0-auc:0.980491\tvalidation_1-auc:0.978857\n",
            "[226]\tvalidation_0-auc:0.980524\tvalidation_1-auc:0.978897\n",
            "[227]\tvalidation_0-auc:0.980555\tvalidation_1-auc:0.978898\n",
            "[228]\tvalidation_0-auc:0.980584\tvalidation_1-auc:0.978949\n",
            "[229]\tvalidation_0-auc:0.980593\tvalidation_1-auc:0.978986\n",
            "[230]\tvalidation_0-auc:0.980611\tvalidation_1-auc:0.979021\n",
            "[231]\tvalidation_0-auc:0.980615\tvalidation_1-auc:0.979002\n",
            "[232]\tvalidation_0-auc:0.980638\tvalidation_1-auc:0.979023\n",
            "[233]\tvalidation_0-auc:0.980672\tvalidation_1-auc:0.979013\n",
            "[234]\tvalidation_0-auc:0.980736\tvalidation_1-auc:0.979082\n",
            "[235]\tvalidation_0-auc:0.980735\tvalidation_1-auc:0.979077\n",
            "[236]\tvalidation_0-auc:0.980757\tvalidation_1-auc:0.979092\n",
            "[237]\tvalidation_0-auc:0.980794\tvalidation_1-auc:0.979127\n",
            "[238]\tvalidation_0-auc:0.980824\tvalidation_1-auc:0.979162\n",
            "[239]\tvalidation_0-auc:0.980872\tvalidation_1-auc:0.97921\n",
            "[240]\tvalidation_0-auc:0.980934\tvalidation_1-auc:0.979297\n",
            "[241]\tvalidation_0-auc:0.980938\tvalidation_1-auc:0.979298\n",
            "[242]\tvalidation_0-auc:0.980963\tvalidation_1-auc:0.979323\n",
            "[243]\tvalidation_0-auc:0.981039\tvalidation_1-auc:0.979423\n",
            "[244]\tvalidation_0-auc:0.981092\tvalidation_1-auc:0.979466\n",
            "[245]\tvalidation_0-auc:0.981108\tvalidation_1-auc:0.979474\n",
            "[246]\tvalidation_0-auc:0.981113\tvalidation_1-auc:0.979491\n",
            "[247]\tvalidation_0-auc:0.981136\tvalidation_1-auc:0.979497\n",
            "[248]\tvalidation_0-auc:0.98115\tvalidation_1-auc:0.979515\n",
            "[249]\tvalidation_0-auc:0.981144\tvalidation_1-auc:0.979505\n",
            "[250]\tvalidation_0-auc:0.981172\tvalidation_1-auc:0.979529\n",
            "[251]\tvalidation_0-auc:0.981204\tvalidation_1-auc:0.979577\n",
            "[252]\tvalidation_0-auc:0.981188\tvalidation_1-auc:0.97955\n",
            "[253]\tvalidation_0-auc:0.981174\tvalidation_1-auc:0.979531\n",
            "[254]\tvalidation_0-auc:0.981213\tvalidation_1-auc:0.979578\n",
            "[255]\tvalidation_0-auc:0.981228\tvalidation_1-auc:0.979583\n",
            "[256]\tvalidation_0-auc:0.981229\tvalidation_1-auc:0.979566\n",
            "[257]\tvalidation_0-auc:0.981261\tvalidation_1-auc:0.97958\n",
            "[258]\tvalidation_0-auc:0.981284\tvalidation_1-auc:0.979575\n",
            "[259]\tvalidation_0-auc:0.981301\tvalidation_1-auc:0.979595\n",
            "[260]\tvalidation_0-auc:0.981326\tvalidation_1-auc:0.979619\n",
            "[261]\tvalidation_0-auc:0.981342\tvalidation_1-auc:0.979649\n",
            "[262]\tvalidation_0-auc:0.981382\tvalidation_1-auc:0.979722\n",
            "[263]\tvalidation_0-auc:0.981426\tvalidation_1-auc:0.979774\n",
            "[264]\tvalidation_0-auc:0.981427\tvalidation_1-auc:0.979767\n",
            "[265]\tvalidation_0-auc:0.981411\tvalidation_1-auc:0.979762\n",
            "[266]\tvalidation_0-auc:0.981444\tvalidation_1-auc:0.979803\n",
            "[267]\tvalidation_0-auc:0.981443\tvalidation_1-auc:0.979794\n",
            "[268]\tvalidation_0-auc:0.981492\tvalidation_1-auc:0.979847\n",
            "[269]\tvalidation_0-auc:0.981497\tvalidation_1-auc:0.979855\n",
            "[270]\tvalidation_0-auc:0.981509\tvalidation_1-auc:0.979848\n",
            "[271]\tvalidation_0-auc:0.981536\tvalidation_1-auc:0.979873\n",
            "[272]\tvalidation_0-auc:0.981539\tvalidation_1-auc:0.979883\n",
            "[273]\tvalidation_0-auc:0.981562\tvalidation_1-auc:0.979895\n",
            "[274]\tvalidation_0-auc:0.981584\tvalidation_1-auc:0.97991\n",
            "[275]\tvalidation_0-auc:0.981596\tvalidation_1-auc:0.979918\n",
            "[276]\tvalidation_0-auc:0.981635\tvalidation_1-auc:0.979955\n",
            "[277]\tvalidation_0-auc:0.981634\tvalidation_1-auc:0.979946\n",
            "[278]\tvalidation_0-auc:0.981631\tvalidation_1-auc:0.979956\n",
            "[279]\tvalidation_0-auc:0.981658\tvalidation_1-auc:0.979972\n",
            "[280]\tvalidation_0-auc:0.98166\tvalidation_1-auc:0.979965\n",
            "[281]\tvalidation_0-auc:0.981696\tvalidation_1-auc:0.979988\n",
            "[282]\tvalidation_0-auc:0.98171\tvalidation_1-auc:0.979998\n",
            "[283]\tvalidation_0-auc:0.981744\tvalidation_1-auc:0.979991\n",
            "[284]\tvalidation_0-auc:0.981774\tvalidation_1-auc:0.979983\n",
            "[285]\tvalidation_0-auc:0.981775\tvalidation_1-auc:0.979973\n",
            "[286]\tvalidation_0-auc:0.981785\tvalidation_1-auc:0.979992\n",
            "[287]\tvalidation_0-auc:0.98181\tvalidation_1-auc:0.979995\n",
            "[288]\tvalidation_0-auc:0.98183\tvalidation_1-auc:0.980012\n",
            "[289]\tvalidation_0-auc:0.981831\tvalidation_1-auc:0.980012\n",
            "[290]\tvalidation_0-auc:0.981859\tvalidation_1-auc:0.980032\n",
            "[291]\tvalidation_0-auc:0.981857\tvalidation_1-auc:0.980032\n",
            "[292]\tvalidation_0-auc:0.981888\tvalidation_1-auc:0.980072\n",
            "[293]\tvalidation_0-auc:0.981909\tvalidation_1-auc:0.980084\n",
            "[294]\tvalidation_0-auc:0.981931\tvalidation_1-auc:0.980105\n",
            "[295]\tvalidation_0-auc:0.981937\tvalidation_1-auc:0.980118\n",
            "[296]\tvalidation_0-auc:0.98194\tvalidation_1-auc:0.980138\n",
            "[297]\tvalidation_0-auc:0.981926\tvalidation_1-auc:0.980125\n",
            "[298]\tvalidation_0-auc:0.981937\tvalidation_1-auc:0.980137\n",
            "[299]\tvalidation_0-auc:0.981957\tvalidation_1-auc:0.980161\n",
            "[300]\tvalidation_0-auc:0.981942\tvalidation_1-auc:0.980151\n",
            "[301]\tvalidation_0-auc:0.981994\tvalidation_1-auc:0.980168\n",
            "[302]\tvalidation_0-auc:0.981984\tvalidation_1-auc:0.980178\n",
            "[303]\tvalidation_0-auc:0.981997\tvalidation_1-auc:0.980181\n",
            "[304]\tvalidation_0-auc:0.981999\tvalidation_1-auc:0.980192\n",
            "[305]\tvalidation_0-auc:0.982012\tvalidation_1-auc:0.980213\n",
            "[306]\tvalidation_0-auc:0.982024\tvalidation_1-auc:0.980213\n",
            "[307]\tvalidation_0-auc:0.982019\tvalidation_1-auc:0.980198\n",
            "[308]\tvalidation_0-auc:0.982043\tvalidation_1-auc:0.980215\n",
            "[309]\tvalidation_0-auc:0.982072\tvalidation_1-auc:0.980218\n",
            "[310]\tvalidation_0-auc:0.982085\tvalidation_1-auc:0.980221\n",
            "[311]\tvalidation_0-auc:0.982107\tvalidation_1-auc:0.980222\n",
            "[312]\tvalidation_0-auc:0.982121\tvalidation_1-auc:0.980236\n",
            "[313]\tvalidation_0-auc:0.982125\tvalidation_1-auc:0.980234\n",
            "[314]\tvalidation_0-auc:0.98215\tvalidation_1-auc:0.980262\n",
            "[315]\tvalidation_0-auc:0.982195\tvalidation_1-auc:0.980276\n",
            "[316]\tvalidation_0-auc:0.98221\tvalidation_1-auc:0.980308\n",
            "[317]\tvalidation_0-auc:0.982233\tvalidation_1-auc:0.980323\n",
            "[318]\tvalidation_0-auc:0.982255\tvalidation_1-auc:0.980338\n",
            "[319]\tvalidation_0-auc:0.982265\tvalidation_1-auc:0.980356\n",
            "[320]\tvalidation_0-auc:0.982272\tvalidation_1-auc:0.980365\n",
            "[321]\tvalidation_0-auc:0.982307\tvalidation_1-auc:0.980426\n",
            "[322]\tvalidation_0-auc:0.982351\tvalidation_1-auc:0.980459\n",
            "[323]\tvalidation_0-auc:0.982365\tvalidation_1-auc:0.980468\n",
            "[324]\tvalidation_0-auc:0.98236\tvalidation_1-auc:0.98046\n",
            "[325]\tvalidation_0-auc:0.982358\tvalidation_1-auc:0.980456\n",
            "[326]\tvalidation_0-auc:0.982372\tvalidation_1-auc:0.980465\n",
            "[327]\tvalidation_0-auc:0.982387\tvalidation_1-auc:0.98046\n",
            "[328]\tvalidation_0-auc:0.982416\tvalidation_1-auc:0.980492\n",
            "[329]\tvalidation_0-auc:0.98245\tvalidation_1-auc:0.980514\n",
            "[330]\tvalidation_0-auc:0.982461\tvalidation_1-auc:0.980491\n",
            "[331]\tvalidation_0-auc:0.98245\tvalidation_1-auc:0.980477\n",
            "[332]\tvalidation_0-auc:0.982456\tvalidation_1-auc:0.980483\n",
            "[333]\tvalidation_0-auc:0.982472\tvalidation_1-auc:0.98048\n",
            "[334]\tvalidation_0-auc:0.982492\tvalidation_1-auc:0.980459\n",
            "[335]\tvalidation_0-auc:0.982518\tvalidation_1-auc:0.980479\n",
            "[336]\tvalidation_0-auc:0.982533\tvalidation_1-auc:0.980489\n",
            "[337]\tvalidation_0-auc:0.982555\tvalidation_1-auc:0.980509\n",
            "[338]\tvalidation_0-auc:0.982571\tvalidation_1-auc:0.980531\n",
            "[339]\tvalidation_0-auc:0.982584\tvalidation_1-auc:0.980541\n",
            "[340]\tvalidation_0-auc:0.982598\tvalidation_1-auc:0.980545\n",
            "[341]\tvalidation_0-auc:0.982624\tvalidation_1-auc:0.980573\n",
            "[342]\tvalidation_0-auc:0.982646\tvalidation_1-auc:0.980603\n",
            "[343]\tvalidation_0-auc:0.982643\tvalidation_1-auc:0.980595\n",
            "[344]\tvalidation_0-auc:0.982646\tvalidation_1-auc:0.9806\n",
            "[345]\tvalidation_0-auc:0.982656\tvalidation_1-auc:0.980592\n",
            "[346]\tvalidation_0-auc:0.982676\tvalidation_1-auc:0.980593\n",
            "[347]\tvalidation_0-auc:0.982678\tvalidation_1-auc:0.980594\n",
            "[348]\tvalidation_0-auc:0.982686\tvalidation_1-auc:0.980599\n",
            "[349]\tvalidation_0-auc:0.982687\tvalidation_1-auc:0.980605\n",
            "[350]\tvalidation_0-auc:0.982705\tvalidation_1-auc:0.980613\n",
            "[351]\tvalidation_0-auc:0.982723\tvalidation_1-auc:0.980629\n",
            "[352]\tvalidation_0-auc:0.982732\tvalidation_1-auc:0.980613\n",
            "[353]\tvalidation_0-auc:0.982742\tvalidation_1-auc:0.98063\n",
            "[354]\tvalidation_0-auc:0.982751\tvalidation_1-auc:0.980631\n",
            "[355]\tvalidation_0-auc:0.982748\tvalidation_1-auc:0.980618\n",
            "[356]\tvalidation_0-auc:0.982748\tvalidation_1-auc:0.980627\n",
            "[357]\tvalidation_0-auc:0.982759\tvalidation_1-auc:0.980638\n",
            "[358]\tvalidation_0-auc:0.982752\tvalidation_1-auc:0.980633\n",
            "[359]\tvalidation_0-auc:0.982776\tvalidation_1-auc:0.980653\n",
            "[360]\tvalidation_0-auc:0.982786\tvalidation_1-auc:0.980654\n",
            "[361]\tvalidation_0-auc:0.982792\tvalidation_1-auc:0.980664\n",
            "[362]\tvalidation_0-auc:0.982795\tvalidation_1-auc:0.98067\n",
            "[363]\tvalidation_0-auc:0.982809\tvalidation_1-auc:0.980679\n",
            "[364]\tvalidation_0-auc:0.982806\tvalidation_1-auc:0.98068\n",
            "[365]\tvalidation_0-auc:0.982823\tvalidation_1-auc:0.98069\n",
            "[366]\tvalidation_0-auc:0.982841\tvalidation_1-auc:0.980705\n",
            "[367]\tvalidation_0-auc:0.982856\tvalidation_1-auc:0.98073\n",
            "[368]\tvalidation_0-auc:0.982868\tvalidation_1-auc:0.980727\n",
            "[369]\tvalidation_0-auc:0.982874\tvalidation_1-auc:0.980744\n",
            "[370]\tvalidation_0-auc:0.982889\tvalidation_1-auc:0.980748\n",
            "[371]\tvalidation_0-auc:0.982884\tvalidation_1-auc:0.980737\n",
            "[372]\tvalidation_0-auc:0.982895\tvalidation_1-auc:0.980747\n",
            "[373]\tvalidation_0-auc:0.982908\tvalidation_1-auc:0.980751\n",
            "[374]\tvalidation_0-auc:0.982907\tvalidation_1-auc:0.980746\n",
            "[375]\tvalidation_0-auc:0.982912\tvalidation_1-auc:0.980746\n",
            "[376]\tvalidation_0-auc:0.982918\tvalidation_1-auc:0.980755\n",
            "[377]\tvalidation_0-auc:0.982921\tvalidation_1-auc:0.980747\n",
            "[378]\tvalidation_0-auc:0.982927\tvalidation_1-auc:0.980762\n",
            "[379]\tvalidation_0-auc:0.982932\tvalidation_1-auc:0.980758\n",
            "[380]\tvalidation_0-auc:0.982924\tvalidation_1-auc:0.98076\n",
            "[381]\tvalidation_0-auc:0.982936\tvalidation_1-auc:0.980746\n",
            "[382]\tvalidation_0-auc:0.982947\tvalidation_1-auc:0.98076\n",
            "[383]\tvalidation_0-auc:0.982953\tvalidation_1-auc:0.98076\n",
            "[384]\tvalidation_0-auc:0.982957\tvalidation_1-auc:0.98077\n",
            "[385]\tvalidation_0-auc:0.982966\tvalidation_1-auc:0.980762\n",
            "[386]\tvalidation_0-auc:0.982982\tvalidation_1-auc:0.980752\n",
            "[387]\tvalidation_0-auc:0.982997\tvalidation_1-auc:0.980752\n",
            "[388]\tvalidation_0-auc:0.982998\tvalidation_1-auc:0.98074\n",
            "[389]\tvalidation_0-auc:0.98302\tvalidation_1-auc:0.980752\n",
            "[390]\tvalidation_0-auc:0.983029\tvalidation_1-auc:0.980756\n",
            "[391]\tvalidation_0-auc:0.983033\tvalidation_1-auc:0.980764\n",
            "[392]\tvalidation_0-auc:0.983037\tvalidation_1-auc:0.980758\n",
            "[393]\tvalidation_0-auc:0.983042\tvalidation_1-auc:0.980758\n",
            "[394]\tvalidation_0-auc:0.983042\tvalidation_1-auc:0.980756\n",
            "[395]\tvalidation_0-auc:0.983047\tvalidation_1-auc:0.980762\n",
            "[396]\tvalidation_0-auc:0.983062\tvalidation_1-auc:0.980774\n",
            "[397]\tvalidation_0-auc:0.983074\tvalidation_1-auc:0.980785\n",
            "[398]\tvalidation_0-auc:0.983081\tvalidation_1-auc:0.980784\n",
            "[399]\tvalidation_0-auc:0.983093\tvalidation_1-auc:0.980785\n",
            "[400]\tvalidation_0-auc:0.983107\tvalidation_1-auc:0.980801\n",
            "[401]\tvalidation_0-auc:0.983109\tvalidation_1-auc:0.980797\n",
            "[402]\tvalidation_0-auc:0.983129\tvalidation_1-auc:0.980798\n",
            "[403]\tvalidation_0-auc:0.983134\tvalidation_1-auc:0.980812\n",
            "[404]\tvalidation_0-auc:0.983139\tvalidation_1-auc:0.980821\n",
            "[405]\tvalidation_0-auc:0.983154\tvalidation_1-auc:0.980838\n",
            "[406]\tvalidation_0-auc:0.983164\tvalidation_1-auc:0.98085\n",
            "[407]\tvalidation_0-auc:0.983166\tvalidation_1-auc:0.980856\n",
            "[408]\tvalidation_0-auc:0.983171\tvalidation_1-auc:0.980849\n",
            "[409]\tvalidation_0-auc:0.983174\tvalidation_1-auc:0.980845\n",
            "[410]\tvalidation_0-auc:0.98318\tvalidation_1-auc:0.980863\n",
            "[411]\tvalidation_0-auc:0.983183\tvalidation_1-auc:0.980875\n",
            "[412]\tvalidation_0-auc:0.983183\tvalidation_1-auc:0.980876\n",
            "[413]\tvalidation_0-auc:0.983193\tvalidation_1-auc:0.980868\n",
            "[414]\tvalidation_0-auc:0.983192\tvalidation_1-auc:0.980874\n",
            "[415]\tvalidation_0-auc:0.9832\tvalidation_1-auc:0.980851\n",
            "[416]\tvalidation_0-auc:0.983214\tvalidation_1-auc:0.980863\n",
            "[417]\tvalidation_0-auc:0.98322\tvalidation_1-auc:0.980875\n",
            "[418]\tvalidation_0-auc:0.98323\tvalidation_1-auc:0.980873\n",
            "[419]\tvalidation_0-auc:0.983234\tvalidation_1-auc:0.980867\n",
            "[420]\tvalidation_0-auc:0.983252\tvalidation_1-auc:0.980876\n",
            "[421]\tvalidation_0-auc:0.983263\tvalidation_1-auc:0.980888\n",
            "[422]\tvalidation_0-auc:0.983267\tvalidation_1-auc:0.980897\n",
            "[423]\tvalidation_0-auc:0.983272\tvalidation_1-auc:0.980895\n",
            "[424]\tvalidation_0-auc:0.983269\tvalidation_1-auc:0.980883\n",
            "[425]\tvalidation_0-auc:0.983274\tvalidation_1-auc:0.980875\n",
            "[426]\tvalidation_0-auc:0.983281\tvalidation_1-auc:0.980876\n",
            "[427]\tvalidation_0-auc:0.983282\tvalidation_1-auc:0.980862\n",
            "[428]\tvalidation_0-auc:0.983275\tvalidation_1-auc:0.980854\n",
            "[429]\tvalidation_0-auc:0.98328\tvalidation_1-auc:0.980859\n",
            "[430]\tvalidation_0-auc:0.983293\tvalidation_1-auc:0.98086\n",
            "[431]\tvalidation_0-auc:0.983295\tvalidation_1-auc:0.98085\n",
            "[432]\tvalidation_0-auc:0.983301\tvalidation_1-auc:0.980857\n",
            "[433]\tvalidation_0-auc:0.983313\tvalidation_1-auc:0.980859\n",
            "[434]\tvalidation_0-auc:0.983322\tvalidation_1-auc:0.980855\n",
            "[435]\tvalidation_0-auc:0.98334\tvalidation_1-auc:0.980882\n",
            "[436]\tvalidation_0-auc:0.983339\tvalidation_1-auc:0.98087\n",
            "[437]\tvalidation_0-auc:0.983344\tvalidation_1-auc:0.980859\n",
            "[438]\tvalidation_0-auc:0.98335\tvalidation_1-auc:0.980867\n",
            "[439]\tvalidation_0-auc:0.983356\tvalidation_1-auc:0.980871\n",
            "[440]\tvalidation_0-auc:0.98336\tvalidation_1-auc:0.980898\n",
            "[441]\tvalidation_0-auc:0.983376\tvalidation_1-auc:0.980899\n",
            "[442]\tvalidation_0-auc:0.983389\tvalidation_1-auc:0.980918\n",
            "[443]\tvalidation_0-auc:0.983387\tvalidation_1-auc:0.980918\n",
            "[444]\tvalidation_0-auc:0.983397\tvalidation_1-auc:0.980923\n",
            "[445]\tvalidation_0-auc:0.98341\tvalidation_1-auc:0.98094\n",
            "[446]\tvalidation_0-auc:0.983415\tvalidation_1-auc:0.980943\n",
            "[447]\tvalidation_0-auc:0.983428\tvalidation_1-auc:0.980963\n",
            "[448]\tvalidation_0-auc:0.98343\tvalidation_1-auc:0.980957\n",
            "[449]\tvalidation_0-auc:0.983438\tvalidation_1-auc:0.980962\n",
            "[450]\tvalidation_0-auc:0.983444\tvalidation_1-auc:0.980965\n",
            "[451]\tvalidation_0-auc:0.983444\tvalidation_1-auc:0.980965\n",
            "[452]\tvalidation_0-auc:0.983449\tvalidation_1-auc:0.980956\n",
            "[453]\tvalidation_0-auc:0.983453\tvalidation_1-auc:0.980964\n",
            "[454]\tvalidation_0-auc:0.983462\tvalidation_1-auc:0.980955\n",
            "[455]\tvalidation_0-auc:0.983463\tvalidation_1-auc:0.980951\n",
            "[456]\tvalidation_0-auc:0.983469\tvalidation_1-auc:0.980954\n",
            "[457]\tvalidation_0-auc:0.983475\tvalidation_1-auc:0.980944\n",
            "[458]\tvalidation_0-auc:0.983481\tvalidation_1-auc:0.980951\n",
            "[459]\tvalidation_0-auc:0.98349\tvalidation_1-auc:0.980951\n",
            "[460]\tvalidation_0-auc:0.983499\tvalidation_1-auc:0.980946\n",
            "[461]\tvalidation_0-auc:0.983507\tvalidation_1-auc:0.980952\n",
            "[462]\tvalidation_0-auc:0.983514\tvalidation_1-auc:0.980957\n",
            "[463]\tvalidation_0-auc:0.983514\tvalidation_1-auc:0.980965\n",
            "[464]\tvalidation_0-auc:0.983519\tvalidation_1-auc:0.980964\n",
            "[465]\tvalidation_0-auc:0.983529\tvalidation_1-auc:0.980964\n",
            "[466]\tvalidation_0-auc:0.983532\tvalidation_1-auc:0.980959\n",
            "[467]\tvalidation_0-auc:0.983538\tvalidation_1-auc:0.980971\n",
            "[468]\tvalidation_0-auc:0.983539\tvalidation_1-auc:0.980971\n",
            "[469]\tvalidation_0-auc:0.983549\tvalidation_1-auc:0.980981\n",
            "[470]\tvalidation_0-auc:0.983559\tvalidation_1-auc:0.980974\n",
            "[471]\tvalidation_0-auc:0.983561\tvalidation_1-auc:0.980961\n",
            "[472]\tvalidation_0-auc:0.983569\tvalidation_1-auc:0.980956\n",
            "[473]\tvalidation_0-auc:0.983578\tvalidation_1-auc:0.980957\n",
            "[474]\tvalidation_0-auc:0.983577\tvalidation_1-auc:0.98096\n",
            "[475]\tvalidation_0-auc:0.983588\tvalidation_1-auc:0.980957\n",
            "[476]\tvalidation_0-auc:0.98359\tvalidation_1-auc:0.980956\n",
            "[477]\tvalidation_0-auc:0.983602\tvalidation_1-auc:0.980969\n",
            "[478]\tvalidation_0-auc:0.983609\tvalidation_1-auc:0.980969\n",
            "[479]\tvalidation_0-auc:0.983624\tvalidation_1-auc:0.98096\n",
            "[480]\tvalidation_0-auc:0.983629\tvalidation_1-auc:0.980956\n",
            "[481]\tvalidation_0-auc:0.983638\tvalidation_1-auc:0.98095\n",
            "[482]\tvalidation_0-auc:0.983646\tvalidation_1-auc:0.980948\n",
            "[483]\tvalidation_0-auc:0.983648\tvalidation_1-auc:0.98093\n",
            "[484]\tvalidation_0-auc:0.983663\tvalidation_1-auc:0.980932\n",
            "[485]\tvalidation_0-auc:0.983673\tvalidation_1-auc:0.980937\n",
            "[486]\tvalidation_0-auc:0.983675\tvalidation_1-auc:0.980929\n",
            "[487]\tvalidation_0-auc:0.983684\tvalidation_1-auc:0.98092\n",
            "[488]\tvalidation_0-auc:0.98368\tvalidation_1-auc:0.980918\n",
            "[489]\tvalidation_0-auc:0.98369\tvalidation_1-auc:0.980933\n",
            "Stopping. Best iteration:\n",
            "[469]\tvalidation_0-auc:0.983549\tvalidation_1-auc:0.980981\n",
            "\n"
          ]
        },
        {
          "output_type": "execute_result",
          "data": {
            "text/plain": [
              "XGBClassifier(colsample_bytree=0.25, eval_metric='auc', learning_rate=0.05,\n",
              "              max_depth=2, n_estimators=5000, subsample=0.5,\n",
              "              use_label_encoder=False)"
            ]
          },
          "metadata": {},
          "execution_count": 107
        }
      ],
      "source": [
        "my_final_model = xgboost.XGBClassifier(learning_rate=0.05,\n",
        "                                       max_depth=2,\n",
        "                                       n_estimators=5000,\n",
        "                                       subsample=0.5,\n",
        "                                       colsample_bytree=0.25,\n",
        "                                       eval_metric='auc',\n",
        "                                       verbosity=1,\n",
        "                                       use_label_encoder=False)\n",
        "eval = [(X_train,y_train),(X_test,y_test)]\n",
        "my_final_model.fit(X_train,y_train,early_stopping_rounds=20,\n",
        "                   eval_set=eval,verbose=True)\n"
      ]
    },
    {
      "cell_type": "code",
      "execution_count": null,
      "metadata": {
        "colab": {
          "base_uri": "https://localhost:8080/"
        },
        "id": "XSaCPA3eUAyC",
        "outputId": "5f92a95e-9365-42a9-b89c-965ae2e157f8"
      },
      "outputs": [
        {
          "output_type": "stream",
          "name": "stdout",
          "text": [
            "AUC Train : 0.9365\n",
            "AUC Valid: 0.932915\n"
          ]
        }
      ],
      "source": [
        "y_train_preds = my_final_model.predict(X_train)\n",
        "y_valid_preds = my_final_model.predict(X_test)\n",
        "print(\"AUC Train : {:.4f}\\nAUC Valid: {:4f}\".format(roc_auc_score(y_train,y_train_preds),\n",
        "                                                    roc_auc_score(y_test,y_valid_preds)))"
      ]
    },
    {
      "cell_type": "code",
      "source": [
        "acc = accuracy_score(y_test, y_valid_preds )\n",
        "prec = precision_score(y_test, y_valid_preds )\n",
        "rec = recall_score(y_test, y_valid_preds )\n",
        "f1 = f1_score(y_test, y_valid_preds )\n",
        "f2 = fbeta_score(y_test, y_valid_preds, beta=2.0)"
      ],
      "metadata": {
        "id": "SdG0M4IYKaYI"
      },
      "execution_count": null,
      "outputs": []
    },
    {
      "cell_type": "code",
      "source": [
        "model_results = pd.DataFrame([[\n",
        "'XGBoost', acc, prec, rec, f1, f2]],\n",
        " columns = ['Model', 'Accuracy', 'Precision',\n",
        "'Recall', 'F1 Score', 'F2 Score'])"
      ],
      "metadata": {
        "id": "mmE6H1V2Tic4"
      },
      "execution_count": null,
      "outputs": []
    },
    {
      "cell_type": "code",
      "source": [
        "results = results.append(model_results, ignore_index = True)\n",
        "results = results.sort_values([\"Precision\",\n",
        "\"Recall\", \"F2 Score\"], ascending = False)\n",
        "print (results)"
      ],
      "metadata": {
        "colab": {
          "base_uri": "https://localhost:8080/"
        },
        "id": "7aQJGHSJTuOd",
        "outputId": "2f7684d5-5508-4c72-c02e-1d000066f7fb"
      },
      "execution_count": null,
      "outputs": [
        {
          "output_type": "stream",
          "name": "stdout",
          "text": [
            "           Model  Accuracy  Precision    Recall  F1 Score  F2 Score\n",
            "0  Random Forest  0.939134   0.961083  0.884735  0.921330  0.899019\n",
            "3        XGBoost  0.939552   0.948493  0.898754  0.922954  0.908280\n",
            "1  Decision Tree  0.922610   0.902275  0.906023  0.904145  0.905271\n",
            "2            KNN  0.743359   0.722187  0.589823  0.649328  0.612267\n"
          ]
        }
      ]
    },
    {
      "cell_type": "code",
      "execution_count": null,
      "metadata": {
        "colab": {
          "base_uri": "https://localhost:8080/",
          "height": 369
        },
        "id": "fBebSec5UEUC",
        "outputId": "75dc5c33-1a6f-4334-bb0e-920541c43997"
      },
      "outputs": [
        {
          "output_type": "display_data",
          "data": {
            "text/plain": [
              "<Figure size 1080x360 with 1 Axes>"
            ],
            "image/png": "[encoded data removed]"
          },
          "metadata": {}
        }
      ],
      "source": [
        "eval_results = my_final_model.evals_result()\n",
        "train_auc_tree = eval_results['validation_0']['auc']\n",
        "valid_auc_tree = eval_results['validation_1']['auc']\n",
        "plt.figure(figsize=(15,5))\n",
        "plt.plot(train_auc_tree,label='Train')\n",
        "plt.plot(valid_auc_tree,label='valid')\n",
        "plt.title('Performance')\n",
        "plt.xlabel('Trees')\n",
        "plt.ylabel('AUC')\n",
        "plt.legend(loc='lower right')\n",
        "plt.show()"
      ]
    },
    {
      "cell_type": "markdown",
      "metadata": {
        "id": "y6Pq62L_WF_i"
      },
      "source": [
        "#ROC Scores"
      ]
    },
    {
      "cell_type": "code",
      "execution_count": null,
      "metadata": {
        "colab": {
          "base_uri": "https://localhost:8080/",
          "height": 175
        },
        "id": "LCa4hvOVWQo8",
        "outputId": "7f7f8e32-f989-41df-9824-1e15b4e92ea7"
      },
      "outputs": [
        {
          "output_type": "execute_result",
          "data": {
            "text/plain": [
              "                  Algorithm  ROC AUC Mean  ROC AUC STD  Accuracy Mean  \\\n",
              "2             Random Forest         98.15         0.13          94.37   \n",
              "3                   XGBoost         98.05         0.16          94.12   \n",
              "1  Decision Tree Classifier         92.35         0.37          92.58   \n",
              "0                       KNN         81.97         0.63          77.04   \n",
              "\n",
              "   Accuracy STD  \n",
              "2          0.45  \n",
              "3          0.30  \n",
              "1          0.37  \n",
              "0          0.51  "
            ],
            "text/html": [
              "\n",
              "  <div id=\"df-d46ab388-efa0-4844-a9d0-bf900f233e89\">\n",
              "    <div class=\"colab-df-container\">\n",
              "      <div>\n",
              "<style scoped>\n",
              "    .dataframe tbody tr th:only-of-type {\n",
              "        vertical-align: middle;\n",
              "    }\n",
              "\n",
              "    .dataframe tbody tr th {\n",
              "        vertical-align: top;\n",
              "    }\n",
              "\n",
              "    .dataframe thead th {\n",
              "        text-align: right;\n",
              "    }\n",
              "</style>\n",
              "<table border=\"1\" class=\"dataframe\">\n",
              "  <thead>\n",
              "    <tr style=\"text-align: right;\">\n",
              "      <th></th>\n",
              "      <th>Algorithm</th>\n",
              "      <th>ROC AUC Mean</th>\n",
              "      <th>ROC AUC STD</th>\n",
              "      <th>Accuracy Mean</th>\n",
              "      <th>Accuracy STD</th>\n",
              "    </tr>\n",
              "  </thead>\n",
              "  <tbody>\n",
              "    <tr>\n",
              "      <th>2</th>\n",
              "      <td>Random Forest</td>\n",
              "      <td>98.15</td>\n",
              "      <td>0.13</td>\n",
              "      <td>94.37</td>\n",
              "      <td>0.45</td>\n",
              "    </tr>\n",
              "    <tr>\n",
              "      <th>3</th>\n",
              "      <td>XGBoost</td>\n",
              "      <td>98.05</td>\n",
              "      <td>0.16</td>\n",
              "      <td>94.12</td>\n",
              "      <td>0.30</td>\n",
              "    </tr>\n",
              "    <tr>\n",
              "      <th>1</th>\n",
              "      <td>Decision Tree Classifier</td>\n",
              "      <td>92.35</td>\n",
              "      <td>0.37</td>\n",
              "      <td>92.58</td>\n",
              "      <td>0.37</td>\n",
              "    </tr>\n",
              "    <tr>\n",
              "      <th>0</th>\n",
              "      <td>KNN</td>\n",
              "      <td>81.97</td>\n",
              "      <td>0.63</td>\n",
              "      <td>77.04</td>\n",
              "      <td>0.51</td>\n",
              "    </tr>\n",
              "  </tbody>\n",
              "</table>\n",
              "</div>\n",
              "      <button class=\"colab-df-convert\" onclick=\"convertToInteractive('df-d46ab388-efa0-4844-a9d0-bf900f233e89')\"\n",
              "              title=\"Convert this dataframe to an interactive table.\"\n",
              "              style=\"display:none;\">\n",
              "        \n",
              "  <svg xmlns=\"http://www.w3.org/2000/svg\" height=\"24px\"viewBox=\"0 0 24 24\"\n",
              "       width=\"24px\">\n",
              "    <path d=\"M0 0h24v24H0V0z\" fill=\"none\"/>\n",
              "    <path d=\"M18.56 5.44l.94 2.06.94-2.06 2.06-.94-2.06-.94-.94-2.06-.94 2.06-2.06.94zm-11 1L8.5 8.5l.94-2.06 2.06-.94-2.06-.94L8.5 2.5l-.94 2.06-2.06.94zm10 10l.94 2.06.94-2.06 2.06-.94-2.06-.94-.94-2.06-.94 2.06-2.06.94z\"/><path d=\"M17.41 7.96l-1.37-1.37c-.4-.4-.92-.59-1.43-.59-.52 0-1.04.2-1.43.59L10.3 9.45l-7.72 7.72c-.78.78-.78 2.05 0 2.83L4 21.41c.39.39.9.59 1.41.59.51 0 1.02-.2 1.41-.59l7.78-7.78 2.81-2.81c.8-.78.8-2.07 0-2.86zM5.41 20L4 18.59l7.72-7.72 1.47 1.35L5.41 20z\"/>\n",
              "  </svg>\n",
              "      </button>\n",
              "      \n",
              "  <style>\n",
              "    .colab-df-container {\n",
              "      display:flex;\n",
              "      flex-wrap:wrap;\n",
              "      gap: 12px;\n",
              "    }\n",
              "\n",
              "    .colab-df-convert {\n",
              "      background-color: #E8F0FE;\n",
              "      border: none;\n",
              "      border-radius: 50%;\n",
              "      cursor: pointer;\n",
              "      display: none;\n",
              "      fill: #1967D2;\n",
              "      height: 32px;\n",
              "      padding: 0 0 0 0;\n",
              "      width: 32px;\n",
              "    }\n",
              "\n",
              "    .colab-df-convert:hover {\n",
              "      background-color: #E2EBFA;\n",
              "      box-shadow: 0px 1px 2px rgba(60, 64, 67, 0.3), 0px 1px 3px 1px rgba(60, 64, 67, 0.15);\n",
              "      fill: #174EA6;\n",
              "    }\n",
              "\n",
              "    [theme=dark] .colab-df-convert {\n",
              "      background-color: #3B4455;\n",
              "      fill: #D2E3FC;\n",
              "    }\n",
              "\n",
              "    [theme=dark] .colab-df-convert:hover {\n",
              "      background-color: #434B5C;\n",
              "      box-shadow: 0px 1px 3px 1px rgba(0, 0, 0, 0.15);\n",
              "      filter: drop-shadow(0px 1px 2px rgba(0, 0, 0, 0.3));\n",
              "      fill: #FFFFFF;\n",
              "    }\n",
              "  </style>\n",
              "\n",
              "      <script>\n",
              "        const buttonEl =\n",
              "          document.querySelector('#df-d46ab388-efa0-4844-a9d0-bf900f233e89 button.colab-df-convert');\n",
              "        buttonEl.style.display =\n",
              "          google.colab.kernel.accessAllowed ? 'block' : 'none';\n",
              "\n",
              "        async function convertToInteractive(key) {\n",
              "          const element = document.querySelector('#df-d46ab388-efa0-4844-a9d0-bf900f233e89');\n",
              "          const dataTable =\n",
              "            await google.colab.kernel.invokeFunction('convertToInteractive',\n",
              "                                                     [key], {});\n",
              "          if (!dataTable) return;\n",
              "\n",
              "          const docLinkHtml = 'Like what you see? Visit the ' +\n",
              "            '<a target=\"_blank\" href=https://colab.research.google.com/notebooks/data_table.ipynb>data table notebook</a>'\n",
              "            + ' to learn more about interactive tables.';\n",
              "          element.innerHTML = '';\n",
              "          dataTable['output_type'] = 'display_data';\n",
              "          await google.colab.output.renderOutput(dataTable, element);\n",
              "          const docLink = document.createElement('div');\n",
              "          docLink.innerHTML = docLinkHtml;\n",
              "          element.appendChild(docLink);\n",
              "        }\n",
              "      </script>\n",
              "    </div>\n",
              "  </div>\n",
              "  "
            ]
          },
          "metadata": {},
          "execution_count": 113
        }
      ],
      "source": [
        "from sklearn import model_selection\n",
        "models = []\n",
        "models.append(('KNN', KNeighborsClassifier(n_neighbors = 15, metric = 'minkowski', p = 2)))\n",
        "models.append(('Decision Tree Classifier',\n",
        "               DecisionTreeClassifier(criterion = 'entropy', random_state = 0)))\n",
        "models.append(('Random Forest', RandomForestClassifier(\n",
        "    n_estimators=100, criterion = 'entropy', random_state = 0)))\n",
        "models.append(('XGBoost',xgboost.XGBClassifier(learning_rate=0.05,\n",
        "                                       max_depth=2,\n",
        "                                       n_estimators=5000,\n",
        "                                       subsample=0.5,\n",
        "                                       colsample_bytree=0.25,\n",
        "                                       eval_metric='auc',\n",
        "                                       verbosity=1,\n",
        "                                       use_label_encoder=False)))\n",
        "#Evaluating Model Results:\n",
        "acc_results = []\n",
        "auc_results = []\n",
        "names = []\n",
        "# set table to table to populate with performance results\n",
        "col = ['Algorithm', 'ROC AUC Mean', 'ROC AUC STD',\n",
        "       'Accuracy Mean', 'Accuracy STD']\n",
        "roc_results = pd.DataFrame(columns=col)\n",
        "i = 0\n",
        "# Evaluate each model using k-fold cross-validation:\n",
        "for name, model in models:\n",
        "    kfold = model_selection.KFold(n_splits=5, random_state=0, shuffle=True)\n",
        "    # accuracy scoring:\n",
        "    cv_acc_results = model_selection.cross_val_score(\n",
        "    model, X_train, y_train, cv=kfold, scoring='accuracy')\n",
        "    # roc_auc scoring:\n",
        "    cv_auc_results = model_selection.cross_val_score(\n",
        "    model, X_train, y_train, cv=kfold, scoring='roc_auc')\n",
        "    acc_results.append(cv_acc_results)\n",
        "    auc_results.append(cv_auc_results)\n",
        "    names.append(name)\n",
        "    roc_results.loc[i] = [name,\n",
        "                         round(cv_auc_results.mean()*100, 2),\n",
        "                         round(cv_auc_results.std()*100, 2),\n",
        "                         round(cv_acc_results.mean()*100, 2),\n",
        "                         round(cv_acc_results.std()*100, 2)\n",
        "                         ]\n",
        "    i += 1\n",
        "\n",
        "roc_results.sort_values(by=['ROC AUC Mean'], ascending=False)"
      ]
    },
    {
      "cell_type": "markdown",
      "metadata": {
        "id": "flsWIHhvQdaQ"
      },
      "source": [
        "# Feature Important"
      ]
    },
    {
      "cell_type": "code",
      "execution_count": null,
      "metadata": {
        "id": "RmLVmxL-PzD5"
      },
      "outputs": [],
      "source": [
        "importances = classifier.feature_importances_"
      ]
    },
    {
      "cell_type": "code",
      "execution_count": null,
      "metadata": {
        "colab": {
          "base_uri": "https://localhost:8080/"
        },
        "id": "47f_yojaQjSo",
        "outputId": "8d743e39-3731-4e8f-aab4-5602116a707b"
      },
      "outputs": [
        {
          "output_type": "stream",
          "name": "stdout",
          "text": [
            " 1) total_amount                   0.224679\n",
            " 2) product_id                     0.149767\n",
            " 3) event_id                       0.123606\n",
            " 4) age                            0.089815\n",
            " 5) cust_age_category              0.049200\n",
            " 6) master_category                0.045544\n",
            " 7) shipment_fee                   0.042443\n",
            " 8) gender_product                 0.039037\n",
            " 9) payment_status                 0.036374\n",
            "10) item_price                     0.032937\n",
            "11) churn                          0.026528\n",
            "12) product_name_length            0.026465\n",
            "13) promo_amount                   0.024591\n",
            "14) quantity                       0.024246\n",
            "15) season                         0.023026\n",
            "16) device_type                    0.015462\n",
            "17) estimated_days_arrival         0.007716\n",
            "18) homelocation_category          0.006109\n",
            "19) lengthjoin_months              0.003811\n",
            "20) search_keywords_count          0.003185\n",
            "21) gender                         0.002930\n",
            "22) payment_method                 0.002530\n"
          ]
        }
      ],
      "source": [
        "sorted_indices = np.argsort(importances)[::-1]\n",
        "\n",
        "feat_labels = ml_ready.columns[:-1]\n",
        "\n",
        "for f in range(X_train.shape[1]):\n",
        "    print(\"%2d) %-*s %f\" % (f + 1, 30,\n",
        "                            feat_labels[sorted_indices[f]],\n",
        "                            importances[sorted_indices[f]]))"
      ]
    },
    {
      "cell_type": "code",
      "execution_count": null,
      "metadata": {
        "colab": {
          "base_uri": "https://localhost:8080/",
          "height": 571
        },
        "id": "v_ZqgxuaQmIe",
        "outputId": "6852b8d6-fe71-4f98-f085-28077b6419cd"
      },
      "outputs": [
        {
          "output_type": "display_data",
          "data": {
            "text/plain": [
              "<Figure size 1152x576 with 1 Axes>"
            ],
            "image/png": "[encoded data removed]"
          },
          "metadata": {}
        }
      ],
      "source": [
        "plt.figure(figsize=(16,8))\n",
        "plt.title('Feature Importance : Random Forest')\n",
        "plt.bar(range(X_train.shape[1]), importances[sorted_indices], align='center')\n",
        "plt.xticks(range(X_train.shape[1]), ml_ready.columns[sorted_indices], rotation=90)\n",
        "plt.tight_layout()\n",
        "plt.show()"
      ]
    },
    {
      "cell_type": "code",
      "execution_count": null,
      "metadata": {
        "colab": {
          "base_uri": "https://localhost:8080/"
        },
        "id": "IYWLTHC9RAlQ",
        "outputId": "71d48933-faec-4b76-9f1b-cb5e4a1c3bd9"
      },
      "outputs": [
        {
          "output_type": "execute_result",
          "data": {
            "text/plain": [
              "array(['total_amount', 'product_id', 'event_id', 'age',\n",
              "       'cust_age_category', 'master_category', 'shipment_fee',\n",
              "       'gender_product', 'payment_status', 'item_price', 'churn',\n",
              "       'product_name_length', 'promo_amount', 'quantity', 'season',\n",
              "       'device_type', 'estimated_days_arrival', 'homelocation_category',\n",
              "       'lengthjoin_months', 'search_keywords_count', 'gender',\n",
              "       'payment_method'], dtype=object)"
            ]
          },
          "metadata": {},
          "execution_count": 117
        }
      ],
      "source": [
        "np.array(ml_ready.columns[sorted_indices])"
      ]
    },
    {
      "cell_type": "code",
      "execution_count": null,
      "metadata": {
        "colab": {
          "base_uri": "https://localhost:8080/"
        },
        "id": "qPi4SHzxRYD9",
        "outputId": "73cb0650-cee0-4f4a-ff38-386a391794c3"
      },
      "outputs": [
        {
          "output_type": "execute_result",
          "data": {
            "text/plain": [
              "array([0.22467898, 0.14976732, 0.12360613, 0.08981477, 0.04919968,\n",
              "       0.04554408, 0.04244271, 0.03903669, 0.03637391, 0.03293656,\n",
              "       0.02652765, 0.02646483, 0.02459104, 0.02424588, 0.02302605,\n",
              "       0.01546186, 0.00771631, 0.00610856, 0.00381073, 0.00318537,\n",
              "       0.00293042, 0.00253048])"
            ]
          },
          "metadata": {},
          "execution_count": 118
        }
      ],
      "source": [
        "importances[sorted_indices]"
      ]
    },
    {
      "cell_type": "code",
      "execution_count": null,
      "metadata": {
        "id": "kHsdRwyiRdmy"
      },
      "outputs": [],
      "source": [
        "feature_importances = pd.DataFrame({'feature': list(np.array(ml_ready.columns[sorted_indices])), 'importances': list(importances[sorted_indices])}, columns=['features', 'importances'])"
      ]
    },
    {
      "cell_type": "code",
      "execution_count": null,
      "metadata": {
        "colab": {
          "base_uri": "https://localhost:8080/"
        },
        "id": "GXr_HyiWRgzw",
        "outputId": "e79a146f-68aa-43e5-ff12-ce757af62e1f"
      },
      "outputs": [
        {
          "output_type": "stream",
          "name": "stderr",
          "text": [
            "/usr/local/lib/python3.7/dist-packages/ipykernel_launcher.py:1: FutureWarning: As the xlwt package is no longer maintained, the xlwt engine will be removed in a future version of pandas. This is the only engine in pandas that supports writing in the xls format. Install openpyxl and write to an xlsx file instead. You can set the option io.excel.xls.writer to 'xlwt' to silence this warning. While this option is deprecated and will also raise a warning, it can be globally set and the warning suppressed.\n",
            "  \"\"\"Entry point for launching an IPython kernel.\n"
          ]
        }
      ],
      "source": [
        "feature_importances.to_excel('/content/drive/My Drive/feature.xls',encoding='uft-8')"
      ]
    },
    {
      "cell_type": "code",
      "execution_count": null,
      "metadata": {
        "id": "khIM7pgWRps2"
      },
      "outputs": [],
      "source": []
    }
  ],
  "metadata": {
    "colab": {
      "collapsed_sections": [
        "eZM-pR25JUFf",
        "78YKJv3nJdhE",
        "M5IjY0h-KWbM",
        "flsWIHhvQdaQ"
      ],
      "provenance": []
    },
    "kernelspec": {
      "display_name": "Python 3",
      "name": "python3"
    },
    "language_info": {
      "name": "python"
    }
  },
  "nbformat": 4,
  "nbformat_minor": 0
}